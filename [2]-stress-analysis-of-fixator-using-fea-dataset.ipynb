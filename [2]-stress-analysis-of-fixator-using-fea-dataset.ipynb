{
 "cells": [
  {
   "cell_type": "markdown",
   "id": "962b6885",
   "metadata": {
    "papermill": {
     "duration": 0.017835,
     "end_time": "2022-08-20T09:50:13.051504",
     "exception": false,
     "start_time": "2022-08-20T09:50:13.033669",
     "status": "completed"
    },
    "tags": []
   },
   "source": [
    "### IMPORT USEFUL LIBRARY"
   ]
  },
  {
   "cell_type": "markdown",
   "id": "e3a7707b",
   "metadata": {
    "papermill": {
     "duration": 0.015215,
     "end_time": "2022-08-20T09:50:13.081996",
     "exception": false,
     "start_time": "2022-08-20T09:50:13.066781",
     "status": "completed"
    },
    "tags": []
   },
   "source": [
    "About Dataset - \n",
    "Dataset "
   ]
  },
  {
   "cell_type": "code",
   "execution_count": 1,
   "id": "df756f52",
   "metadata": {
    "execution": {
     "iopub.execute_input": "2022-08-20T09:50:13.116850Z",
     "iopub.status.busy": "2022-08-20T09:50:13.116306Z",
     "iopub.status.idle": "2022-08-20T09:50:16.749774Z",
     "shell.execute_reply": "2022-08-20T09:50:16.748712Z"
    },
    "papermill": {
     "duration": 3.654097,
     "end_time": "2022-08-20T09:50:16.752860",
     "exception": false,
     "start_time": "2022-08-20T09:50:13.098763",
     "status": "completed"
    },
    "tags": []
   },
   "outputs": [],
   "source": [
    "import matplotlib.pyplot as plt\n",
    "import numpy as np\n",
    "import pandas as pd\n",
    "import seaborn as sns\n",
    "import plotly.express as px\n",
    "import plotly.offline as pyo\n",
    "from plotly.offline import iplot"
   ]
  },
  {
   "cell_type": "markdown",
   "id": "1fcd7753",
   "metadata": {
    "papermill": {
     "duration": 0.015445,
     "end_time": "2022-08-20T09:50:16.784200",
     "exception": false,
     "start_time": "2022-08-20T09:50:16.768755",
     "status": "completed"
    },
    "tags": []
   },
   "source": [
    "### LOAD DATASET"
   ]
  },
  {
   "cell_type": "code",
   "execution_count": 2,
   "id": "d5656a35",
   "metadata": {
    "execution": {
     "iopub.execute_input": "2022-08-20T09:50:16.816727Z",
     "iopub.status.busy": "2022-08-20T09:50:16.816382Z",
     "iopub.status.idle": "2022-08-20T09:50:16.856272Z",
     "shell.execute_reply": "2022-08-20T09:50:16.855371Z"
    },
    "papermill": {
     "duration": 0.059192,
     "end_time": "2022-08-20T09:50:16.858682",
     "exception": false,
     "start_time": "2022-08-20T09:50:16.799490",
     "status": "completed"
    },
    "tags": []
   },
   "outputs": [
    {
     "data": {
      "text/html": [
       "<div>\n",
       "<style scoped>\n",
       "    .dataframe tbody tr th:only-of-type {\n",
       "        vertical-align: middle;\n",
       "    }\n",
       "\n",
       "    .dataframe tbody tr th {\n",
       "        vertical-align: top;\n",
       "    }\n",
       "\n",
       "    .dataframe thead th {\n",
       "        text-align: right;\n",
       "    }\n",
       "</style>\n",
       "<table border=\"1\" class=\"dataframe\">\n",
       "  <thead>\n",
       "    <tr style=\"text-align: right;\">\n",
       "      <th></th>\n",
       "      <th># Design Points of Design of Experiments</th>\n",
       "      <th>Unnamed: 1</th>\n",
       "      <th>Unnamed: 2</th>\n",
       "      <th>Unnamed: 3</th>\n",
       "      <th>Unnamed: 4</th>\n",
       "      <th>Unnamed: 5</th>\n",
       "      <th>Unnamed: 6</th>\n",
       "      <th>Unnamed: 7</th>\n",
       "      <th>Unnamed: 8</th>\n",
       "      <th>Unnamed: 9</th>\n",
       "      <th>Unnamed: 10</th>\n",
       "      <th>Unnamed: 11</th>\n",
       "      <th>Unnamed: 12</th>\n",
       "    </tr>\n",
       "  </thead>\n",
       "  <tbody>\n",
       "    <tr>\n",
       "      <th>0</th>\n",
       "      <td># Central Composite Design : Face-Centered : E...</td>\n",
       "      <td>NaN</td>\n",
       "      <td>NaN</td>\n",
       "      <td>NaN</td>\n",
       "      <td>NaN</td>\n",
       "      <td>NaN</td>\n",
       "      <td>NaN</td>\n",
       "      <td>NaN</td>\n",
       "      <td>NaN</td>\n",
       "      <td>NaN</td>\n",
       "      <td>NaN</td>\n",
       "      <td>NaN</td>\n",
       "      <td>NaN</td>\n",
       "    </tr>\n",
       "    <tr>\n",
       "      <th>1</th>\n",
       "      <td>#</td>\n",
       "      <td>P1 - DS_Bar_length@Extrude1@Trohanterna_sipka....</td>\n",
       "      <td>P2 - DS_Bar_diameter@Sketch1@Trohanterna_sipka...</td>\n",
       "      <td>P3 - DS_Bar_end_thickness@Sketch2@Trohanterna_...</td>\n",
       "      <td>P4 - DS_Radius_trochanteric_unit@Fillet1@Troha...</td>\n",
       "      <td>P5 - DS_Radius_bar_end@Sketch2@Trohanterna_sip...</td>\n",
       "      <td>P6 - DS_clamp_distance@Distance3@Sklop_Femur-F...</td>\n",
       "      <td>P7 - Total Deformation Maximum (mm)</td>\n",
       "      <td>P8 - Equivalent Stress - Fiksator Maximum (MPa)</td>\n",
       "      <td>P9 - Total Mass (kg)</td>\n",
       "      <td>P10 - Upper Femur Mass (kg)</td>\n",
       "      <td>P11 - Lower Femur Mass (kg)</td>\n",
       "      <td>P12 - Fixator Mass (kg)</td>\n",
       "    </tr>\n",
       "    <tr>\n",
       "      <th>2</th>\n",
       "      <td>Name</td>\n",
       "      <td>P1</td>\n",
       "      <td>P2</td>\n",
       "      <td>P3</td>\n",
       "      <td>P4</td>\n",
       "      <td>P5</td>\n",
       "      <td>P6</td>\n",
       "      <td>P7</td>\n",
       "      <td>P8</td>\n",
       "      <td>P9</td>\n",
       "      <td>P10</td>\n",
       "      <td>P11</td>\n",
       "      <td>P12</td>\n",
       "    </tr>\n",
       "    <tr>\n",
       "      <th>3</th>\n",
       "      <td>1</td>\n",
       "      <td>175</td>\n",
       "      <td>9</td>\n",
       "      <td>5.25</td>\n",
       "      <td>6.5</td>\n",
       "      <td>8</td>\n",
       "      <td>14.5</td>\n",
       "      <td>8.850985077</td>\n",
       "      <td>261.8651189</td>\n",
       "      <td>0.797439059865827</td>\n",
       "      <td>0.162877832743993</td>\n",
       "      <td>0.381844525174461</td>\n",
       "      <td>0.249166901947372</td>\n",
       "    </tr>\n",
       "    <tr>\n",
       "      <th>4</th>\n",
       "      <td>2</td>\n",
       "      <td>100</td>\n",
       "      <td>9</td>\n",
       "      <td>5.25</td>\n",
       "      <td>6.5</td>\n",
       "      <td>8</td>\n",
       "      <td>14.5</td>\n",
       "      <td>10.56505916</td>\n",
       "      <td>324.3839573</td>\n",
       "      <td>0.759967361082037</td>\n",
       "      <td>0.162871357310206</td>\n",
       "      <td>0.381832074130171</td>\n",
       "      <td>0.211714129641659</td>\n",
       "    </tr>\n",
       "  </tbody>\n",
       "</table>\n",
       "</div>"
      ],
      "text/plain": [
       "            # Design Points of Design of Experiments  \\\n",
       "0  # Central Composite Design : Face-Centered : E...   \n",
       "1                                                 #    \n",
       "2                                               Name   \n",
       "3                                                  1   \n",
       "4                                                  2   \n",
       "\n",
       "                                          Unnamed: 1  \\\n",
       "0                                                NaN   \n",
       "1  P1 - DS_Bar_length@Extrude1@Trohanterna_sipka....   \n",
       "2                                                 P1   \n",
       "3                                                175   \n",
       "4                                                100   \n",
       "\n",
       "                                          Unnamed: 2  \\\n",
       "0                                                NaN   \n",
       "1  P2 - DS_Bar_diameter@Sketch1@Trohanterna_sipka...   \n",
       "2                                                 P2   \n",
       "3                                                  9   \n",
       "4                                                  9   \n",
       "\n",
       "                                          Unnamed: 3  \\\n",
       "0                                                NaN   \n",
       "1  P3 - DS_Bar_end_thickness@Sketch2@Trohanterna_...   \n",
       "2                                                 P3   \n",
       "3                                               5.25   \n",
       "4                                               5.25   \n",
       "\n",
       "                                          Unnamed: 4  \\\n",
       "0                                                NaN   \n",
       "1  P4 - DS_Radius_trochanteric_unit@Fillet1@Troha...   \n",
       "2                                                 P4   \n",
       "3                                                6.5   \n",
       "4                                                6.5   \n",
       "\n",
       "                                          Unnamed: 5  \\\n",
       "0                                                NaN   \n",
       "1  P5 - DS_Radius_bar_end@Sketch2@Trohanterna_sip...   \n",
       "2                                                 P5   \n",
       "3                                                  8   \n",
       "4                                                  8   \n",
       "\n",
       "                                          Unnamed: 6  \\\n",
       "0                                                NaN   \n",
       "1  P6 - DS_clamp_distance@Distance3@Sklop_Femur-F...   \n",
       "2                                                 P6   \n",
       "3                                               14.5   \n",
       "4                                               14.5   \n",
       "\n",
       "                             Unnamed: 7  \\\n",
       "0                                   NaN   \n",
       "1  P7 - Total Deformation Maximum (mm)    \n",
       "2                                    P7   \n",
       "3                           8.850985077   \n",
       "4                           10.56505916   \n",
       "\n",
       "                                         Unnamed: 8             Unnamed: 9  \\\n",
       "0                                               NaN                    NaN   \n",
       "1  P8 - Equivalent Stress - Fiksator Maximum (MPa)   P9 - Total Mass (kg)    \n",
       "2                                                P8                     P9   \n",
       "3                                       261.8651189      0.797439059865827   \n",
       "4                                       324.3839573      0.759967361082037   \n",
       "\n",
       "                    Unnamed: 10                   Unnamed: 11  \\\n",
       "0                           NaN                           NaN   \n",
       "1  P10 - Upper Femur Mass (kg)   P11 - Lower Femur Mass (kg)    \n",
       "2                           P10                           P11   \n",
       "3             0.162877832743993             0.381844525174461   \n",
       "4             0.162871357310206             0.381832074130171   \n",
       "\n",
       "                Unnamed: 12  \n",
       "0                       NaN  \n",
       "1  P12 - Fixator Mass (kg)   \n",
       "2                       P12  \n",
       "3         0.249166901947372  \n",
       "4         0.211714129641659  "
      ]
     },
     "execution_count": 2,
     "metadata": {},
     "output_type": "execute_result"
    }
   ],
   "source": [
    "df0 = pd.read_csv('../input/design-time-product-analysis/Stress analysis using FEA.csv')\n",
    "df0.head()"
   ]
  },
  {
   "cell_type": "code",
   "execution_count": 3,
   "id": "4f37ae88",
   "metadata": {
    "execution": {
     "iopub.execute_input": "2022-08-20T09:50:16.892698Z",
     "iopub.status.busy": "2022-08-20T09:50:16.891791Z",
     "iopub.status.idle": "2022-08-20T09:50:16.917657Z",
     "shell.execute_reply": "2022-08-20T09:50:16.916658Z"
    },
    "papermill": {
     "duration": 0.045168,
     "end_time": "2022-08-20T09:50:16.919974",
     "exception": false,
     "start_time": "2022-08-20T09:50:16.874806",
     "status": "completed"
    },
    "tags": []
   },
   "outputs": [
    {
     "data": {
      "text/html": [
       "<div>\n",
       "<style scoped>\n",
       "    .dataframe tbody tr th:only-of-type {\n",
       "        vertical-align: middle;\n",
       "    }\n",
       "\n",
       "    .dataframe tbody tr th {\n",
       "        vertical-align: top;\n",
       "    }\n",
       "\n",
       "    .dataframe thead th {\n",
       "        text-align: right;\n",
       "    }\n",
       "</style>\n",
       "<table border=\"1\" class=\"dataframe\">\n",
       "  <thead>\n",
       "    <tr style=\"text-align: right;\">\n",
       "      <th></th>\n",
       "      <th>Bar length</th>\n",
       "      <th>Bar diameter</th>\n",
       "      <th>Bar end thickness</th>\n",
       "      <th>Radius trochanteric unit</th>\n",
       "      <th>Radius bar end</th>\n",
       "      <th>Clamp distance</th>\n",
       "      <th>Total Deformation Maximum</th>\n",
       "      <th>Equivalent Stress</th>\n",
       "      <th>Upper Femur Mass (kg)</th>\n",
       "      <th>Lower Femur Mass (kg)</th>\n",
       "      <th>Fixator Mass</th>\n",
       "    </tr>\n",
       "  </thead>\n",
       "  <tbody>\n",
       "    <tr>\n",
       "      <th>0</th>\n",
       "      <td>175.0</td>\n",
       "      <td>9.0</td>\n",
       "      <td>5.25</td>\n",
       "      <td>6.5</td>\n",
       "      <td>8</td>\n",
       "      <td>14.5</td>\n",
       "      <td>8.850985</td>\n",
       "      <td>261.865119</td>\n",
       "      <td>0.162878</td>\n",
       "      <td>0.381845</td>\n",
       "      <td>0.249167</td>\n",
       "    </tr>\n",
       "    <tr>\n",
       "      <th>1</th>\n",
       "      <td>100.0</td>\n",
       "      <td>9.0</td>\n",
       "      <td>5.25</td>\n",
       "      <td>6.5</td>\n",
       "      <td>8</td>\n",
       "      <td>14.5</td>\n",
       "      <td>10.565059</td>\n",
       "      <td>324.383957</td>\n",
       "      <td>0.162871</td>\n",
       "      <td>0.381832</td>\n",
       "      <td>0.211714</td>\n",
       "    </tr>\n",
       "    <tr>\n",
       "      <th>2</th>\n",
       "      <td>137.5</td>\n",
       "      <td>9.0</td>\n",
       "      <td>5.25</td>\n",
       "      <td>6.5</td>\n",
       "      <td>8</td>\n",
       "      <td>14.5</td>\n",
       "      <td>9.622548</td>\n",
       "      <td>308.925213</td>\n",
       "      <td>0.162872</td>\n",
       "      <td>0.381877</td>\n",
       "      <td>0.230441</td>\n",
       "    </tr>\n",
       "    <tr>\n",
       "      <th>3</th>\n",
       "      <td>250.0</td>\n",
       "      <td>9.0</td>\n",
       "      <td>5.25</td>\n",
       "      <td>6.5</td>\n",
       "      <td>8</td>\n",
       "      <td>14.5</td>\n",
       "      <td>7.609888</td>\n",
       "      <td>206.276908</td>\n",
       "      <td>0.162884</td>\n",
       "      <td>0.381513</td>\n",
       "      <td>0.286620</td>\n",
       "    </tr>\n",
       "    <tr>\n",
       "      <th>4</th>\n",
       "      <td>212.5</td>\n",
       "      <td>9.0</td>\n",
       "      <td>5.25</td>\n",
       "      <td>6.5</td>\n",
       "      <td>8</td>\n",
       "      <td>14.5</td>\n",
       "      <td>8.190292</td>\n",
       "      <td>225.422597</td>\n",
       "      <td>0.162880</td>\n",
       "      <td>0.381717</td>\n",
       "      <td>0.267893</td>\n",
       "    </tr>\n",
       "  </tbody>\n",
       "</table>\n",
       "</div>"
      ],
      "text/plain": [
       "   Bar length  Bar diameter  Bar end thickness  Radius trochanteric unit  \\\n",
       "0       175.0           9.0               5.25                       6.5   \n",
       "1       100.0           9.0               5.25                       6.5   \n",
       "2       137.5           9.0               5.25                       6.5   \n",
       "3       250.0           9.0               5.25                       6.5   \n",
       "4       212.5           9.0               5.25                       6.5   \n",
       "\n",
       "   Radius bar end  Clamp distance  Total Deformation Maximum  \\\n",
       "0               8            14.5                   8.850985   \n",
       "1               8            14.5                  10.565059   \n",
       "2               8            14.5                   9.622548   \n",
       "3               8            14.5                   7.609888   \n",
       "4               8            14.5                   8.190292   \n",
       "\n",
       "   Equivalent Stress  Upper Femur Mass (kg)  Lower Femur Mass (kg)  \\\n",
       "0         261.865119               0.162878               0.381845   \n",
       "1         324.383957               0.162871               0.381832   \n",
       "2         308.925213               0.162872               0.381877   \n",
       "3         206.276908               0.162884               0.381513   \n",
       "4         225.422597               0.162880               0.381717   \n",
       "\n",
       "   Fixator Mass  \n",
       "0      0.249167  \n",
       "1      0.211714  \n",
       "2      0.230441  \n",
       "3      0.286620  \n",
       "4      0.267893  "
      ]
     },
     "execution_count": 3,
     "metadata": {},
     "output_type": "execute_result"
    }
   ],
   "source": [
    "df_main = pd.read_csv('../input/design-time-product-analysis/Stress analysis using FEA.csv',skiprows=4,names=['Name',\n",
    "                       'Bar length',\n",
    "                       'Bar diameter',\n",
    "                       'Bar end thickness',\n",
    "                       'Radius trochanteric unit',\n",
    "                       'Radius bar end',\n",
    "                       'Clamp distance',\n",
    "                       'Total Deformation Maximum',\n",
    "                       'Equivalent Stress',\n",
    "                       'Total Mass (kg)',\n",
    "                       'Upper Femur Mass (kg)',\n",
    "                       'Lower Femur Mass (kg)',\n",
    "                       'Fixator Mass'], usecols=['Bar length',\n",
    "                         'Bar diameter',\n",
    "                         'Bar end thickness',\n",
    "                         'Radius trochanteric unit',\n",
    "                         'Radius bar end',\n",
    "                         'Clamp distance',\n",
    "                         'Total Deformation Maximum','Equivalent Stress',\n",
    "                         'Equivalent Stress','Upper Femur Mass (kg)','Lower Femur Mass (kg)',\n",
    "                         'Fixator Mass'] )\n",
    "df_main.head()"
   ]
  },
  {
   "cell_type": "code",
   "execution_count": 4,
   "id": "50325fdd",
   "metadata": {
    "execution": {
     "iopub.execute_input": "2022-08-20T09:50:16.954637Z",
     "iopub.status.busy": "2022-08-20T09:50:16.954139Z",
     "iopub.status.idle": "2022-08-20T09:50:16.976624Z",
     "shell.execute_reply": "2022-08-20T09:50:16.975537Z"
    },
    "papermill": {
     "duration": 0.043008,
     "end_time": "2022-08-20T09:50:16.979610",
     "exception": false,
     "start_time": "2022-08-20T09:50:16.936602",
     "status": "completed"
    },
    "tags": []
   },
   "outputs": [
    {
     "name": "stdout",
     "output_type": "stream",
     "text": [
      "<class 'pandas.core.frame.DataFrame'>\n",
      "RangeIndex: 89 entries, 0 to 88\n",
      "Data columns (total 11 columns):\n",
      " #   Column                     Non-Null Count  Dtype  \n",
      "---  ------                     --------------  -----  \n",
      " 0   Bar length                 89 non-null     float64\n",
      " 1   Bar diameter               89 non-null     float64\n",
      " 2   Bar end thickness          89 non-null     float64\n",
      " 3   Radius trochanteric unit   89 non-null     float64\n",
      " 4   Radius bar end             89 non-null     int64  \n",
      " 5   Clamp distance             89 non-null     float64\n",
      " 6   Total Deformation Maximum  89 non-null     float64\n",
      " 7   Equivalent Stress          89 non-null     float64\n",
      " 8   Upper Femur Mass (kg)      89 non-null     float64\n",
      " 9   Lower Femur Mass (kg)      89 non-null     float64\n",
      " 10  Fixator Mass               89 non-null     float64\n",
      "dtypes: float64(10), int64(1)\n",
      "memory usage: 7.8 KB\n"
     ]
    }
   ],
   "source": [
    "df_main.info()"
   ]
  },
  {
   "cell_type": "markdown",
   "id": "ece31ed2",
   "metadata": {
    "papermill": {
     "duration": 0.014248,
     "end_time": "2022-08-20T09:50:17.009028",
     "exception": false,
     "start_time": "2022-08-20T09:50:16.994780",
     "status": "completed"
    },
    "tags": []
   },
   "source": [
    "### Function check missing value"
   ]
  },
  {
   "cell_type": "code",
   "execution_count": 5,
   "id": "c2e35cfe",
   "metadata": {
    "execution": {
     "iopub.execute_input": "2022-08-20T09:50:17.039901Z",
     "iopub.status.busy": "2022-08-20T09:50:17.039580Z",
     "iopub.status.idle": "2022-08-20T09:50:17.044719Z",
     "shell.execute_reply": "2022-08-20T09:50:17.043679Z"
    },
    "papermill": {
     "duration": 0.023027,
     "end_time": "2022-08-20T09:50:17.047078",
     "exception": false,
     "start_time": "2022-08-20T09:50:17.024051",
     "status": "completed"
    },
    "tags": []
   },
   "outputs": [],
   "source": [
    "def checkmiss(data):\n",
    "    return data.isnull().sum()/data.shape[0]*100"
   ]
  },
  {
   "cell_type": "code",
   "execution_count": 6,
   "id": "a9cbc047",
   "metadata": {
    "execution": {
     "iopub.execute_input": "2022-08-20T09:50:17.077423Z",
     "iopub.status.busy": "2022-08-20T09:50:17.077129Z",
     "iopub.status.idle": "2022-08-20T09:50:17.086573Z",
     "shell.execute_reply": "2022-08-20T09:50:17.085571Z"
    },
    "papermill": {
     "duration": 0.027042,
     "end_time": "2022-08-20T09:50:17.088756",
     "exception": false,
     "start_time": "2022-08-20T09:50:17.061714",
     "status": "completed"
    },
    "tags": []
   },
   "outputs": [
    {
     "data": {
      "text/plain": [
       "Bar length                   0.0\n",
       "Bar diameter                 0.0\n",
       "Bar end thickness            0.0\n",
       "Radius trochanteric unit     0.0\n",
       "Radius bar end               0.0\n",
       "Clamp distance               0.0\n",
       "Total Deformation Maximum    0.0\n",
       "Equivalent Stress            0.0\n",
       "Upper Femur Mass (kg)        0.0\n",
       "Lower Femur Mass (kg)        0.0\n",
       "Fixator Mass                 0.0\n",
       "dtype: float64"
      ]
     },
     "execution_count": 6,
     "metadata": {},
     "output_type": "execute_result"
    }
   ],
   "source": [
    "checkmiss(df_main)"
   ]
  },
  {
   "cell_type": "markdown",
   "id": "36a437c4",
   "metadata": {
    "papermill": {
     "duration": 0.014837,
     "end_time": "2022-08-20T09:50:17.118378",
     "exception": false,
     "start_time": "2022-08-20T09:50:17.103541",
     "status": "completed"
    },
    "tags": []
   },
   "source": [
    "### Skewness of Normal distribution"
   ]
  },
  {
   "cell_type": "code",
   "execution_count": 7,
   "id": "e12eb1e8",
   "metadata": {
    "execution": {
     "iopub.execute_input": "2022-08-20T09:50:17.149388Z",
     "iopub.status.busy": "2022-08-20T09:50:17.149075Z",
     "iopub.status.idle": "2022-08-20T09:50:17.380542Z",
     "shell.execute_reply": "2022-08-20T09:50:17.379485Z"
    },
    "papermill": {
     "duration": 0.249432,
     "end_time": "2022-08-20T09:50:17.382679",
     "exception": false,
     "start_time": "2022-08-20T09:50:17.133247",
     "status": "completed"
    },
    "tags": []
   },
   "outputs": [
    {
     "data": {
      "text/plain": [
       "<AxesSubplot:ylabel='Frequency'>"
      ]
     },
     "execution_count": 7,
     "metadata": {},
     "output_type": "execute_result"
    },
    {
     "data": {
      "image/png": "[encoded data removed]",
      "text/plain": [
       "<Figure size 432x288 with 1 Axes>"
      ]
     },
     "metadata": {
      "needs_background": "light"
     },
     "output_type": "display_data"
    }
   ],
   "source": [
    "df_main.skew().plot(kind = 'hist')"
   ]
  },
  {
   "cell_type": "markdown",
   "id": "7ca6a8c6",
   "metadata": {
    "papermill": {
     "duration": 0.014889,
     "end_time": "2022-08-20T09:50:17.412714",
     "exception": false,
     "start_time": "2022-08-20T09:50:17.397825",
     "status": "completed"
    },
    "tags": []
   },
   "source": [
    "### InterQuentile Range "
   ]
  },
  {
   "cell_type": "code",
   "execution_count": 8,
   "id": "0f590c32",
   "metadata": {
    "execution": {
     "iopub.execute_input": "2022-08-20T09:50:17.444025Z",
     "iopub.status.busy": "2022-08-20T09:50:17.443303Z",
     "iopub.status.idle": "2022-08-20T09:50:17.449297Z",
     "shell.execute_reply": "2022-08-20T09:50:17.448405Z"
    },
    "papermill": {
     "duration": 0.023975,
     "end_time": "2022-08-20T09:50:17.451439",
     "exception": false,
     "start_time": "2022-08-20T09:50:17.427464",
     "status": "completed"
    },
    "tags": []
   },
   "outputs": [],
   "source": [
    "def quntile(data) :\n",
    "    Q1 = data.quantile(0.25)#0.25\n",
    "    Q3 = data.quantile(0.75)# 0.75\n",
    "    IQR = Q3 - Q1\n",
    "    return (data[~((data < (Q1 - 1.5 * IQR)) |(data > (Q3 + 1.5 * IQR))).any(axis=1)] )\n",
    "    "
   ]
  },
  {
   "cell_type": "code",
   "execution_count": 9,
   "id": "4ed5d31f",
   "metadata": {
    "execution": {
     "iopub.execute_input": "2022-08-20T09:50:17.482042Z",
     "iopub.status.busy": "2022-08-20T09:50:17.481756Z",
     "iopub.status.idle": "2022-08-20T09:50:17.497684Z",
     "shell.execute_reply": "2022-08-20T09:50:17.496837Z"
    },
    "papermill": {
     "duration": 0.033684,
     "end_time": "2022-08-20T09:50:17.499693",
     "exception": false,
     "start_time": "2022-08-20T09:50:17.466009",
     "status": "completed"
    },
    "tags": []
   },
   "outputs": [
    {
     "data": {
      "text/plain": [
       "Bar length                   0.004184\n",
       "Bar diameter                 0.000000\n",
       "Bar end thickness           -0.042515\n",
       "Radius trochanteric unit     0.000000\n",
       "Radius bar end               0.000000\n",
       "Clamp distance              -0.042515\n",
       "Total Deformation Maximum   -0.010715\n",
       "Equivalent Stress            0.302647\n",
       "Upper Femur Mass (kg)        0.000000\n",
       "Lower Femur Mass (kg)       -1.290376\n",
       "Fixator Mass                 0.617414\n",
       "dtype: float64"
      ]
     },
     "execution_count": 9,
     "metadata": {},
     "output_type": "execute_result"
    }
   ],
   "source": [
    "quntile(df_main).skew()"
   ]
  },
  {
   "cell_type": "code",
   "execution_count": 10,
   "id": "43bd08cb",
   "metadata": {
    "execution": {
     "iopub.execute_input": "2022-08-20T09:50:17.531722Z",
     "iopub.status.busy": "2022-08-20T09:50:17.531159Z",
     "iopub.status.idle": "2022-08-20T09:50:19.141246Z",
     "shell.execute_reply": "2022-08-20T09:50:19.140209Z"
    },
    "papermill": {
     "duration": 1.628935,
     "end_time": "2022-08-20T09:50:19.144089",
     "exception": false,
     "start_time": "2022-08-20T09:50:17.515154",
     "status": "completed"
    },
    "tags": []
   },
   "outputs": [
    {
     "data": {
      "image/png": "[encoded data removed]",
      "text/plain": [
       "<Figure size 1728x864 with 9 Axes>"
      ]
     },
     "metadata": {
      "needs_background": "light"
     },
     "output_type": "display_data"
    }
   ],
   "source": [
    "fig ,ax = plt.subplots(3,3,figsize= (24,12))\n",
    "sns.histplot(df_main['Bar length'],kde = True,ax = ax[0,0])\n",
    "sns.histplot(df_main['Bar diameter'],kde = True,ax = ax[0,1])\n",
    "sns.histplot(df_main['Bar end thickness'],kde = True,ax = ax[0,2])\n",
    "sns.histplot(df_main['Total Deformation Maximum'],kde = True,ax = ax[1,0])\n",
    "sns.histplot(df_main['Upper Femur Mass (kg)'],kde = True,ax = ax[1,1])\n",
    "sns.histplot(df_main['Lower Femur Mass (kg)'],kde = True,ax = ax[1,2])\n",
    "sns.histplot(df_main['Fixator Mass'],kde = True,ax = ax[2,0])\n",
    "sns.histplot(df_main['Radius bar end'],kde = True,ax = ax[2,1])\n",
    "sns.histplot(df_main['Clamp distance'],kde = True,ax = ax[2,2])\n",
    "fig.tight_layout()\n",
    "plt.show()\n"
   ]
  },
  {
   "cell_type": "markdown",
   "id": "b80c1567",
   "metadata": {
    "papermill": {
     "duration": 0.016106,
     "end_time": "2022-08-20T09:50:19.176926",
     "exception": false,
     "start_time": "2022-08-20T09:50:19.160820",
     "status": "completed"
    },
    "tags": []
   },
   "source": [
    "### Observation"
   ]
  },
  {
   "cell_type": "code",
   "execution_count": null,
   "id": "a58ce084",
   "metadata": {
    "papermill": {
     "duration": 0.016641,
     "end_time": "2022-08-20T09:50:19.209802",
     "exception": false,
     "start_time": "2022-08-20T09:50:19.193161",
     "status": "completed"
    },
    "tags": []
   },
   "outputs": [],
   "source": []
  },
  {
   "cell_type": "code",
   "execution_count": null,
   "id": "295ef5ca",
   "metadata": {
    "papermill": {
     "duration": 0.01591,
     "end_time": "2022-08-20T09:50:19.241787",
     "exception": false,
     "start_time": "2022-08-20T09:50:19.225877",
     "status": "completed"
    },
    "tags": []
   },
   "outputs": [],
   "source": []
  },
  {
   "cell_type": "markdown",
   "id": "4a825ffd",
   "metadata": {
    "papermill": {
     "duration": 0.016568,
     "end_time": "2022-08-20T09:50:19.274484",
     "exception": false,
     "start_time": "2022-08-20T09:50:19.257916",
     "status": "completed"
    },
    "tags": []
   },
   "source": [
    "### Correlation Matrix"
   ]
  },
  {
   "cell_type": "code",
   "execution_count": 11,
   "id": "db10d1a6",
   "metadata": {
    "execution": {
     "iopub.execute_input": "2022-08-20T09:50:19.308186Z",
     "iopub.status.busy": "2022-08-20T09:50:19.307837Z",
     "iopub.status.idle": "2022-08-20T09:50:20.087397Z",
     "shell.execute_reply": "2022-08-20T09:50:20.086453Z"
    },
    "papermill": {
     "duration": 0.799823,
     "end_time": "2022-08-20T09:50:20.090184",
     "exception": false,
     "start_time": "2022-08-20T09:50:19.290361",
     "status": "completed"
    },
    "tags": []
   },
   "outputs": [
    {
     "data": {
      "text/plain": [
       "<AxesSubplot:>"
      ]
     },
     "execution_count": 11,
     "metadata": {},
     "output_type": "execute_result"
    },
    {
     "data": {
      "image/png": "[encoded data removed]",
      "text/plain": [
       "<Figure size 1008x576 with 2 Axes>"
      ]
     },
     "metadata": {
      "needs_background": "light"
     },
     "output_type": "display_data"
    }
   ],
   "source": [
    "plt.figure(figsize = (14,8))\n",
    "sns.heatmap(df_main.corr(),annot = True)\n"
   ]
  },
  {
   "cell_type": "markdown",
   "id": "9f74eabf",
   "metadata": {
    "papermill": {
     "duration": 0.017747,
     "end_time": "2022-08-20T09:50:20.125951",
     "exception": false,
     "start_time": "2022-08-20T09:50:20.108204",
     "status": "completed"
    },
    "tags": []
   },
   "source": [
    "### Geometry of Structure"
   ]
  },
  {
   "attachments": {
    "image.png": {
     "image/png": "[encoded data removed]"
    }
   },
   "cell_type": "markdown",
   "id": "5173c16a",
   "metadata": {
    "papermill": {
     "duration": 0.017746,
     "end_time": "2022-08-20T09:50:20.162386",
     "exception": false,
     "start_time": "2022-08-20T09:50:20.144640",
     "status": "completed"
    },
    "tags": []
   },
   "source": [
    "![image.png](attachment:image.png)"
   ]
  },
  {
   "cell_type": "markdown",
   "id": "ae8a8d28",
   "metadata": {
    "papermill": {
     "duration": 0.017528,
     "end_time": "2022-08-20T09:50:20.197910",
     "exception": false,
     "start_time": "2022-08-20T09:50:20.180382",
     "status": "completed"
    },
    "tags": []
   },
   "source": [
    "### Obervateion - \n",
    "#### Displacement Correlation from plot  \n",
    "##### Radius trochanteric unit---> -0.00066\n",
    "##### Radius bar end          ---> -0.0017\n",
    "##### Clamp distance          ---> 0.0011\n",
    "##### which are very less as compare to other existing strong correlation i.e. why drop these features\n",
    "\n",
    "#### Stress Correlation from plot  \n",
    "##### Radius trochanteric unit---> 0.024\n",
    "##### Radius bar end          ---> 0.0018\n",
    "##### Clamp distance          ---> -0.03\n",
    "##### which are very less as compare to other existing strong correlation i.e. why drop these features\n",
    "\n"
   ]
  },
  {
   "cell_type": "markdown",
   "id": "7d9b448e",
   "metadata": {
    "papermill": {
     "duration": 0.017293,
     "end_time": "2022-08-20T09:50:20.232720",
     "exception": false,
     "start_time": "2022-08-20T09:50:20.215427",
     "status": "completed"
    },
    "tags": []
   },
   "source": [
    "### Remove the weak correlated columns"
   ]
  },
  {
   "cell_type": "code",
   "execution_count": 12,
   "id": "fec928b7",
   "metadata": {
    "execution": {
     "iopub.execute_input": "2022-08-20T09:50:20.269586Z",
     "iopub.status.busy": "2022-08-20T09:50:20.269196Z",
     "iopub.status.idle": "2022-08-20T09:50:20.288150Z",
     "shell.execute_reply": "2022-08-20T09:50:20.287175Z"
    },
    "papermill": {
     "duration": 0.040055,
     "end_time": "2022-08-20T09:50:20.290242",
     "exception": false,
     "start_time": "2022-08-20T09:50:20.250187",
     "status": "completed"
    },
    "tags": []
   },
   "outputs": [
    {
     "data": {
      "text/html": [
       "<div>\n",
       "<style scoped>\n",
       "    .dataframe tbody tr th:only-of-type {\n",
       "        vertical-align: middle;\n",
       "    }\n",
       "\n",
       "    .dataframe tbody tr th {\n",
       "        vertical-align: top;\n",
       "    }\n",
       "\n",
       "    .dataframe thead th {\n",
       "        text-align: right;\n",
       "    }\n",
       "</style>\n",
       "<table border=\"1\" class=\"dataframe\">\n",
       "  <thead>\n",
       "    <tr style=\"text-align: right;\">\n",
       "      <th></th>\n",
       "      <th>Bar length</th>\n",
       "      <th>Bar diameter</th>\n",
       "      <th>Bar end thickness</th>\n",
       "      <th>Total Deformation Maximum</th>\n",
       "      <th>Equivalent Stress</th>\n",
       "      <th>Upper Femur Mass (kg)</th>\n",
       "      <th>Lower Femur Mass (kg)</th>\n",
       "      <th>Fixator Mass</th>\n",
       "    </tr>\n",
       "  </thead>\n",
       "  <tbody>\n",
       "    <tr>\n",
       "      <th>0</th>\n",
       "      <td>175.0</td>\n",
       "      <td>9.0</td>\n",
       "      <td>5.250</td>\n",
       "      <td>8.850985</td>\n",
       "      <td>261.865119</td>\n",
       "      <td>0.162878</td>\n",
       "      <td>0.381845</td>\n",
       "      <td>0.249167</td>\n",
       "    </tr>\n",
       "    <tr>\n",
       "      <th>1</th>\n",
       "      <td>100.0</td>\n",
       "      <td>9.0</td>\n",
       "      <td>5.250</td>\n",
       "      <td>10.565059</td>\n",
       "      <td>324.383957</td>\n",
       "      <td>0.162871</td>\n",
       "      <td>0.381832</td>\n",
       "      <td>0.211714</td>\n",
       "    </tr>\n",
       "    <tr>\n",
       "      <th>2</th>\n",
       "      <td>137.5</td>\n",
       "      <td>9.0</td>\n",
       "      <td>5.250</td>\n",
       "      <td>9.622548</td>\n",
       "      <td>308.925213</td>\n",
       "      <td>0.162872</td>\n",
       "      <td>0.381877</td>\n",
       "      <td>0.230441</td>\n",
       "    </tr>\n",
       "    <tr>\n",
       "      <th>3</th>\n",
       "      <td>250.0</td>\n",
       "      <td>9.0</td>\n",
       "      <td>5.250</td>\n",
       "      <td>7.609888</td>\n",
       "      <td>206.276908</td>\n",
       "      <td>0.162884</td>\n",
       "      <td>0.381513</td>\n",
       "      <td>0.286620</td>\n",
       "    </tr>\n",
       "    <tr>\n",
       "      <th>4</th>\n",
       "      <td>212.5</td>\n",
       "      <td>9.0</td>\n",
       "      <td>5.250</td>\n",
       "      <td>8.190292</td>\n",
       "      <td>225.422597</td>\n",
       "      <td>0.162880</td>\n",
       "      <td>0.381717</td>\n",
       "      <td>0.267893</td>\n",
       "    </tr>\n",
       "    <tr>\n",
       "      <th>...</th>\n",
       "      <td>...</td>\n",
       "      <td>...</td>\n",
       "      <td>...</td>\n",
       "      <td>...</td>\n",
       "      <td>...</td>\n",
       "      <td>...</td>\n",
       "      <td>...</td>\n",
       "      <td>...</td>\n",
       "    </tr>\n",
       "    <tr>\n",
       "      <th>84</th>\n",
       "      <td>212.5</td>\n",
       "      <td>8.5</td>\n",
       "      <td>5.875</td>\n",
       "      <td>8.432162</td>\n",
       "      <td>211.259600</td>\n",
       "      <td>0.162880</td>\n",
       "      <td>0.381714</td>\n",
       "      <td>0.258738</td>\n",
       "    </tr>\n",
       "    <tr>\n",
       "      <th>85</th>\n",
       "      <td>100.0</td>\n",
       "      <td>10.0</td>\n",
       "      <td>6.500</td>\n",
       "      <td>10.396822</td>\n",
       "      <td>377.156050</td>\n",
       "      <td>0.162873</td>\n",
       "      <td>0.381829</td>\n",
       "      <td>0.222944</td>\n",
       "    </tr>\n",
       "    <tr>\n",
       "      <th>86</th>\n",
       "      <td>137.5</td>\n",
       "      <td>9.5</td>\n",
       "      <td>5.875</td>\n",
       "      <td>9.486397</td>\n",
       "      <td>260.258230</td>\n",
       "      <td>0.162876</td>\n",
       "      <td>0.381881</td>\n",
       "      <td>0.238019</td>\n",
       "    </tr>\n",
       "    <tr>\n",
       "      <th>87</th>\n",
       "      <td>250.0</td>\n",
       "      <td>10.0</td>\n",
       "      <td>6.500</td>\n",
       "      <td>6.917634</td>\n",
       "      <td>190.571404</td>\n",
       "      <td>0.162883</td>\n",
       "      <td>0.381570</td>\n",
       "      <td>0.315407</td>\n",
       "    </tr>\n",
       "    <tr>\n",
       "      <th>88</th>\n",
       "      <td>212.5</td>\n",
       "      <td>9.5</td>\n",
       "      <td>5.875</td>\n",
       "      <td>7.899438</td>\n",
       "      <td>192.033813</td>\n",
       "      <td>0.162881</td>\n",
       "      <td>0.381720</td>\n",
       "      <td>0.279743</td>\n",
       "    </tr>\n",
       "  </tbody>\n",
       "</table>\n",
       "<p>89 rows × 8 columns</p>\n",
       "</div>"
      ],
      "text/plain": [
       "    Bar length  Bar diameter  Bar end thickness  Total Deformation Maximum  \\\n",
       "0        175.0           9.0              5.250                   8.850985   \n",
       "1        100.0           9.0              5.250                  10.565059   \n",
       "2        137.5           9.0              5.250                   9.622548   \n",
       "3        250.0           9.0              5.250                   7.609888   \n",
       "4        212.5           9.0              5.250                   8.190292   \n",
       "..         ...           ...                ...                        ...   \n",
       "84       212.5           8.5              5.875                   8.432162   \n",
       "85       100.0          10.0              6.500                  10.396822   \n",
       "86       137.5           9.5              5.875                   9.486397   \n",
       "87       250.0          10.0              6.500                   6.917634   \n",
       "88       212.5           9.5              5.875                   7.899438   \n",
       "\n",
       "    Equivalent Stress  Upper Femur Mass (kg)  Lower Femur Mass (kg)  \\\n",
       "0          261.865119               0.162878               0.381845   \n",
       "1          324.383957               0.162871               0.381832   \n",
       "2          308.925213               0.162872               0.381877   \n",
       "3          206.276908               0.162884               0.381513   \n",
       "4          225.422597               0.162880               0.381717   \n",
       "..                ...                    ...                    ...   \n",
       "84         211.259600               0.162880               0.381714   \n",
       "85         377.156050               0.162873               0.381829   \n",
       "86         260.258230               0.162876               0.381881   \n",
       "87         190.571404               0.162883               0.381570   \n",
       "88         192.033813               0.162881               0.381720   \n",
       "\n",
       "    Fixator Mass  \n",
       "0       0.249167  \n",
       "1       0.211714  \n",
       "2       0.230441  \n",
       "3       0.286620  \n",
       "4       0.267893  \n",
       "..           ...  \n",
       "84      0.258738  \n",
       "85      0.222944  \n",
       "86      0.238019  \n",
       "87      0.315407  \n",
       "88      0.279743  \n",
       "\n",
       "[89 rows x 8 columns]"
      ]
     },
     "execution_count": 12,
     "metadata": {},
     "output_type": "execute_result"
    }
   ],
   "source": [
    "df_data = df_main.drop(columns= ['Radius trochanteric unit', 'Radius bar end', 'Clamp distance'],axis = 1)\n",
    "df_data"
   ]
  },
  {
   "cell_type": "markdown",
   "id": "fb04ecd9",
   "metadata": {
    "papermill": {
     "duration": 0.017864,
     "end_time": "2022-08-20T09:50:20.326471",
     "exception": false,
     "start_time": "2022-08-20T09:50:20.308607",
     "status": "completed"
    },
    "tags": []
   },
   "source": [
    "<!-- ## Observation - \n",
    "The columns correlated very small in magnitude we have been dropping them from the dataset, however, \n",
    "we have selected those columns which indirectly affected the Stress, Displacement, and Fixator Mass i.e. \n",
    "why we can't ignore those columns also can't account directly.\n",
    "\n",
    "To eliminate the problem we will use the Recursive Feature Elimination (RFE) method applied with the goal to explore the \n",
    "relevance ranking of the subsets of the input features.RFE is a method that performs a backward feature elimination. \n",
    "The algorithm begins with the set of all features and successively eliminates the feature which induces the smallest\n",
    "effect on the output features. It can be applied by using the selected algorithms, in our case - simple linear \n",
    "regression, SVM, Decision Trees, Random Forest, and Gradient Boosting regressors. \n",
    "[https://www.kaggle.com/code/milanzdravkovic/design-time-product-structural-analysis-assistance/notebook]\n",
    "\n",
    "What is \"RFE\" algorithm?\n",
    "RFE is a wrapper-type feature selection algorithm. This means that a different machine learning algorithm is given and used \n",
    "in the core of the method, is wrapped by RFE, and used to help select features.[Source] -->"
   ]
  },
  {
   "cell_type": "markdown",
   "id": "c003c701",
   "metadata": {
    "papermill": {
     "duration": 0.017822,
     "end_time": "2022-08-20T09:50:20.362724",
     "exception": false,
     "start_time": "2022-08-20T09:50:20.344902",
     "status": "completed"
    },
    "tags": []
   },
   "source": [
    "### Importing the Useful Library"
   ]
  },
  {
   "cell_type": "code",
   "execution_count": 13,
   "id": "5fc7b009",
   "metadata": {
    "execution": {
     "iopub.execute_input": "2022-08-20T09:50:20.400433Z",
     "iopub.status.busy": "2022-08-20T09:50:20.400065Z",
     "iopub.status.idle": "2022-08-20T09:50:20.560072Z",
     "shell.execute_reply": "2022-08-20T09:50:20.559130Z"
    },
    "papermill": {
     "duration": 0.182105,
     "end_time": "2022-08-20T09:50:20.562498",
     "exception": false,
     "start_time": "2022-08-20T09:50:20.380393",
     "status": "completed"
    },
    "tags": []
   },
   "outputs": [],
   "source": [
    "from sklearn.linear_model import LinearRegression\n",
    "from sklearn.neighbors import KNeighborsRegressor\n",
    "from sklearn.svm import SVR\n",
    "from sklearn.tree import DecisionTreeRegressor\n",
    "from sklearn.ensemble import RandomForestRegressor\n",
    "from sklearn.ensemble import GradientBoostingRegressor\n",
    "from sklearn.metrics import mean_absolute_error,  r2_score\n",
    "from sklearn.model_selection import GridSearchCV, cross_val_score, KFold\n",
    "from sklearn.feature_selection import RFECV"
   ]
  },
  {
   "cell_type": "markdown",
   "id": "27765638",
   "metadata": {
    "papermill": {
     "duration": 0.018381,
     "end_time": "2022-08-20T09:50:20.599584",
     "exception": false,
     "start_time": "2022-08-20T09:50:20.581203",
     "status": "completed"
    },
    "tags": []
   },
   "source": [
    "### Model Training for Equvalent Stress  evualation"
   ]
  },
  {
   "cell_type": "code",
   "execution_count": 14,
   "id": "9a221dd5",
   "metadata": {
    "execution": {
     "iopub.execute_input": "2022-08-20T09:50:20.637720Z",
     "iopub.status.busy": "2022-08-20T09:50:20.636535Z",
     "iopub.status.idle": "2022-08-20T09:50:20.649386Z",
     "shell.execute_reply": "2022-08-20T09:50:20.648404Z"
    },
    "papermill": {
     "duration": 0.034237,
     "end_time": "2022-08-20T09:50:20.651679",
     "exception": false,
     "start_time": "2022-08-20T09:50:20.617442",
     "status": "completed"
    },
    "tags": []
   },
   "outputs": [
    {
     "data": {
      "text/html": [
       "<div>\n",
       "<style scoped>\n",
       "    .dataframe tbody tr th:only-of-type {\n",
       "        vertical-align: middle;\n",
       "    }\n",
       "\n",
       "    .dataframe tbody tr th {\n",
       "        vertical-align: top;\n",
       "    }\n",
       "\n",
       "    .dataframe thead th {\n",
       "        text-align: right;\n",
       "    }\n",
       "</style>\n",
       "<table border=\"1\" class=\"dataframe\">\n",
       "  <thead>\n",
       "    <tr style=\"text-align: right;\">\n",
       "      <th></th>\n",
       "      <th>Bar length</th>\n",
       "      <th>Bar diameter</th>\n",
       "      <th>Bar end thickness</th>\n",
       "      <th>Upper Femur Mass (kg)</th>\n",
       "      <th>Lower Femur Mass (kg)</th>\n",
       "    </tr>\n",
       "  </thead>\n",
       "  <tbody>\n",
       "    <tr>\n",
       "      <th>0</th>\n",
       "      <td>175.0</td>\n",
       "      <td>9.0</td>\n",
       "      <td>5.25</td>\n",
       "      <td>0.162878</td>\n",
       "      <td>0.381845</td>\n",
       "    </tr>\n",
       "    <tr>\n",
       "      <th>1</th>\n",
       "      <td>100.0</td>\n",
       "      <td>9.0</td>\n",
       "      <td>5.25</td>\n",
       "      <td>0.162871</td>\n",
       "      <td>0.381832</td>\n",
       "    </tr>\n",
       "  </tbody>\n",
       "</table>\n",
       "</div>"
      ],
      "text/plain": [
       "   Bar length  Bar diameter  Bar end thickness  Upper Femur Mass (kg)  \\\n",
       "0       175.0           9.0               5.25               0.162878   \n",
       "1       100.0           9.0               5.25               0.162871   \n",
       "\n",
       "   Lower Femur Mass (kg)  \n",
       "0               0.381845  \n",
       "1               0.381832  "
      ]
     },
     "execution_count": 14,
     "metadata": {},
     "output_type": "execute_result"
    }
   ],
   "source": [
    "drop_clm = ['Total Deformation Maximum' , 'Equivalent Stress' ,'Fixator Mass' ]\n",
    "X = df_data.drop(columns=drop_clm,axis= 1 )\n",
    "X.head(2)"
   ]
  },
  {
   "cell_type": "markdown",
   "id": "464e1b76",
   "metadata": {
    "papermill": {
     "duration": 0.018456,
     "end_time": "2022-08-20T09:50:20.688438",
     "exception": false,
     "start_time": "2022-08-20T09:50:20.669982",
     "status": "completed"
    },
    "tags": []
   },
   "source": [
    "### Train test split"
   ]
  },
  {
   "cell_type": "code",
   "execution_count": 15,
   "id": "cd3d5372",
   "metadata": {
    "execution": {
     "iopub.execute_input": "2022-08-20T09:50:20.726437Z",
     "iopub.status.busy": "2022-08-20T09:50:20.725823Z",
     "iopub.status.idle": "2022-08-20T09:50:20.730207Z",
     "shell.execute_reply": "2022-08-20T09:50:20.729246Z"
    },
    "papermill": {
     "duration": 0.02592,
     "end_time": "2022-08-20T09:50:20.732349",
     "exception": false,
     "start_time": "2022-08-20T09:50:20.706429",
     "status": "completed"
    },
    "tags": []
   },
   "outputs": [],
   "source": [
    "from sklearn.model_selection import train_test_split"
   ]
  },
  {
   "cell_type": "code",
   "execution_count": 16,
   "id": "7cc6d4b4",
   "metadata": {
    "execution": {
     "iopub.execute_input": "2022-08-20T09:50:20.770142Z",
     "iopub.status.busy": "2022-08-20T09:50:20.769666Z",
     "iopub.status.idle": "2022-08-20T09:50:20.775557Z",
     "shell.execute_reply": "2022-08-20T09:50:20.774571Z"
    },
    "papermill": {
     "duration": 0.027205,
     "end_time": "2022-08-20T09:50:20.777508",
     "exception": false,
     "start_time": "2022-08-20T09:50:20.750303",
     "status": "completed"
    },
    "tags": []
   },
   "outputs": [],
   "source": [
    "def split(X,Y) :\n",
    "    X_train ,X_test ,Y_train,Y_test = train_test_split(X,Y,test_size= 0.15,random_state=42,shuffle=True)\n",
    "    \n",
    "    print('Shape of X_train Dataset : ', X_train.shape)\n",
    "    print('Shape of X_test Dataset : ', X_test.shape)\n",
    "    \n",
    "    print('Shape of Y_train Dataset : ', Y_train.shape)\n",
    "    print('Shape of Y_test Dataset : ', Y_test.shape)\n",
    "    return X_train ,X_test ,Y_train,Y_test"
   ]
  },
  {
   "cell_type": "markdown",
   "id": "b80752e0",
   "metadata": {
    "papermill": {
     "duration": 0.018444,
     "end_time": "2022-08-20T09:50:20.814093",
     "exception": false,
     "start_time": "2022-08-20T09:50:20.795649",
     "status": "completed"
    },
    "tags": []
   },
   "source": [
    "### Model Collection "
   ]
  },
  {
   "cell_type": "code",
   "execution_count": 17,
   "id": "341db5ca",
   "metadata": {
    "execution": {
     "iopub.execute_input": "2022-08-20T09:50:20.852342Z",
     "iopub.status.busy": "2022-08-20T09:50:20.852025Z",
     "iopub.status.idle": "2022-08-20T09:50:20.865075Z",
     "shell.execute_reply": "2022-08-20T09:50:20.864173Z"
    },
    "papermill": {
     "duration": 0.034608,
     "end_time": "2022-08-20T09:50:20.866949",
     "exception": false,
     "start_time": "2022-08-20T09:50:20.832341",
     "status": "completed"
    },
    "tags": []
   },
   "outputs": [],
   "source": [
    "def Regress_model(Y_test,X_test,X_train,Y_train):\n",
    "    \n",
    "    def Ran_For_Regress(Y_test,X_train,Y_train):\n",
    "        \n",
    "        RFR = RandomForestRegressor()\n",
    "        \n",
    "        RFR.fit(X_train,Y_train )\n",
    "        prediced_data = RFR.predict(X_test)\n",
    "        print('Regression score Random Forest Regressor   :   ',r2_score(Y_test,prediced_data))\n",
    "        return prediced_data\n",
    "    \n",
    "    def KNN_regressor(Y_test,X_train,Y_train) :\n",
    "        rg = KNeighborsRegressor()\n",
    "        \n",
    "        para_grid = {'n_neighbors' : [12,14,16,5,6,8,10,20,30] ,'p':[2,3,4,5,6]}\n",
    "        Regrecv = GridSearchCV(rg , para_grid ,scoring  = 'neg_mean_squared_error',cv = 10)\n",
    "        Regrecv.fit(X_train,Y_train)\n",
    "        Y_pred_KN = Regrecv.predict(X_test)\n",
    "        \n",
    "        print('Regression score KNN_regressor       :   ',r2_score(Y_test,Y_pred_KN))\n",
    "    \n",
    "        return Y_pred_KN\n",
    "    \n",
    "    def ridg_model(Y_test,X_train,Y_train) :\n",
    "        from sklearn.linear_model  import  Ridge\n",
    "        ridge_regressor = Ridge()\n",
    "        para_grid = {'alpha' : [1,2,3,4,5,10,20,30,40,50,60,70,80,90]}\n",
    "        ridgrcv = GridSearchCV(ridge_regressor , para_grid ,scoring  = 'neg_mean_squared_error',cv = 8)\n",
    "        ridgrcv.fit(X_train,Y_train)\n",
    "        Y_pred_rid =  ridgrcv.predict(X_test)\n",
    "        print('Regression score Liner Regressor      :   ',r2_score(Y_test,Y_pred_rid))\n",
    "        return Y_pred_rid\n",
    "    \n",
    "    def SuportVM(Y_test,X_train,Y_train):\n",
    "        model = SVR(kernel='linear')\n",
    "        model.fit(X_train,Y_train )\n",
    "        prediced_data = model.predict(X_test)\n",
    "        print('Regression score Supportive Vector     :   ',r2_score(Y_test,prediced_data))\n",
    "        return prediced_data\n",
    "    \n",
    "    def DeciTreeRegre(Y_test,X_train,Y_train):\n",
    "        model = DecisionTreeRegressor()\n",
    "        model.fit(X_train,Y_train )\n",
    "        prediced_data = model.predict(X_test)\n",
    "        print('Regression score Decesion Tree Regressor:   ',r2_score(Y_test,prediced_data))\n",
    "        return prediced_data\n",
    "    \n",
    "    def XGB(Y_test,X_train,Y_train):\n",
    "        model = GradientBoostingRegressor()\n",
    "        model.fit(X_train,Y_train )\n",
    "        prediced_data = model.predict(X_test)\n",
    "        print('Regression score XG Boost Regressor   :   ',r2_score(Y_test,prediced_data))\n",
    "        return prediced_data\n",
    "    \n",
    "#     def Regress_model(Y_test,X_train,Y_train):\n",
    "    Y_pred_RFR = Ran_For_Regress(Y_test,X_train,Y_train)\n",
    "    Y_pred_KNN = KNN_regressor(Y_test,X_train,Y_train) \n",
    "    Y_pred_rid = ridg_model(Y_test,X_train,Y_train) \n",
    "    Y_pred_SVM = SuportVM(Y_test,X_train,Y_train)\n",
    "    Y_pred_DTR =  DeciTreeRegre(Y_test,X_train,Y_train)\n",
    "    Y_pred_XGB = XGB(Y_test,X_train,Y_train)\n",
    "    return Y_pred_RFR,Y_pred_KNN,Y_pred_rid,Y_pred_SVM,Y_pred_DTR,Y_pred_XGB"
   ]
  },
  {
   "cell_type": "markdown",
   "id": "94c80c07",
   "metadata": {
    "papermill": {
     "duration": 0.017998,
     "end_time": "2022-08-20T09:50:20.902932",
     "exception": false,
     "start_time": "2022-08-20T09:50:20.884934",
     "status": "completed"
    },
    "tags": []
   },
   "source": [
    "### Create DataFrame"
   ]
  },
  {
   "cell_type": "code",
   "execution_count": 18,
   "id": "e3414a3a",
   "metadata": {
    "execution": {
     "iopub.execute_input": "2022-08-20T09:50:20.942341Z",
     "iopub.status.busy": "2022-08-20T09:50:20.941330Z",
     "iopub.status.idle": "2022-08-20T09:50:20.948698Z",
     "shell.execute_reply": "2022-08-20T09:50:20.947865Z"
    },
    "papermill": {
     "duration": 0.028949,
     "end_time": "2022-08-20T09:50:20.950781",
     "exception": false,
     "start_time": "2022-08-20T09:50:20.921832",
     "status": "completed"
    },
    "tags": []
   },
   "outputs": [],
   "source": [
    "def parametricData( Y_test,Y_pred_RFR,Y_pred_KNN,Y_pred_rid,Y_pred_SVM,Y_pred_DTR,Y_pred_XGB):\n",
    "    modelName = ['RandomForestRegressor','KNeighborsRegressor','LinearRegression','Supportive Vector' ,'DecisionTreeRegressor','GradientBoostingRegressor' ]\n",
    "    temp= pd.DataFrame(Y_test,index= None)                   # Conversion of Test [pandas.core.series.Series] to DataFrame \n",
    "    temp.reset_index(inplace=True,drop = True)               # Random index to sequential indexing\n",
    "    df_pred = pd.concat([pd.DataFrame( Y_pred_RFR), pd.DataFrame(Y_pred_KNN), pd.DataFrame(Y_pred_rid), pd.DataFrame(Y_pred_SVM), pd.DataFrame(Y_pred_DTR), pd.DataFrame(Y_pred_XGB)],axis = 1)\n",
    "    df_pred.columns = modelName                  # Creating Datframe for Predicted value \n",
    "    return pd.concat([df_pred,temp],axis= 1)"
   ]
  },
  {
   "cell_type": "markdown",
   "id": "9461ce73",
   "metadata": {
    "papermill": {
     "duration": 0.018161,
     "end_time": "2022-08-20T09:50:20.987082",
     "exception": false,
     "start_time": "2022-08-20T09:50:20.968921",
     "status": "completed"
    },
    "tags": []
   },
   "source": [
    "### Stress Prediction "
   ]
  },
  {
   "cell_type": "code",
   "execution_count": 19,
   "id": "5c231654",
   "metadata": {
    "execution": {
     "iopub.execute_input": "2022-08-20T09:50:21.026206Z",
     "iopub.status.busy": "2022-08-20T09:50:21.025884Z",
     "iopub.status.idle": "2022-08-20T09:50:21.033212Z",
     "shell.execute_reply": "2022-08-20T09:50:21.032247Z"
    },
    "papermill": {
     "duration": 0.029821,
     "end_time": "2022-08-20T09:50:21.035182",
     "exception": false,
     "start_time": "2022-08-20T09:50:21.005361",
     "status": "completed"
    },
    "tags": []
   },
   "outputs": [
    {
     "data": {
      "text/plain": [
       "0    261.865119\n",
       "1    324.383957\n",
       "Name: Equivalent Stress, dtype: float64"
      ]
     },
     "execution_count": 19,
     "metadata": {},
     "output_type": "execute_result"
    }
   ],
   "source": [
    "Y_st = df_data['Equivalent Stress']\n",
    "Y_st.head(2)"
   ]
  },
  {
   "cell_type": "code",
   "execution_count": 20,
   "id": "04d17667",
   "metadata": {
    "execution": {
     "iopub.execute_input": "2022-08-20T09:50:21.073183Z",
     "iopub.status.busy": "2022-08-20T09:50:21.072878Z",
     "iopub.status.idle": "2022-08-20T09:50:21.080501Z",
     "shell.execute_reply": "2022-08-20T09:50:21.078940Z"
    },
    "papermill": {
     "duration": 0.030085,
     "end_time": "2022-08-20T09:50:21.083495",
     "exception": false,
     "start_time": "2022-08-20T09:50:21.053410",
     "status": "completed"
    },
    "tags": []
   },
   "outputs": [
    {
     "name": "stdout",
     "output_type": "stream",
     "text": [
      "Shape of X_train Dataset :  (75, 5)\n",
      "Shape of X_test Dataset :  (14, 5)\n",
      "Shape of Y_train Dataset :  (75,)\n",
      "Shape of Y_test Dataset :  (14,)\n"
     ]
    }
   ],
   "source": [
    "X_train_st ,X_test_st ,Y_train_st,Y_test_st = split(X,Y_st)"
   ]
  },
  {
   "cell_type": "code",
   "execution_count": 21,
   "id": "35c80674",
   "metadata": {
    "execution": {
     "iopub.execute_input": "2022-08-20T09:50:21.122727Z",
     "iopub.status.busy": "2022-08-20T09:50:21.121830Z",
     "iopub.status.idle": "2022-08-20T09:50:23.386333Z",
     "shell.execute_reply": "2022-08-20T09:50:23.385081Z"
    },
    "papermill": {
     "duration": 2.287195,
     "end_time": "2022-08-20T09:50:23.389450",
     "exception": false,
     "start_time": "2022-08-20T09:50:21.102255",
     "status": "completed"
    },
    "tags": []
   },
   "outputs": [
    {
     "name": "stdout",
     "output_type": "stream",
     "text": [
      "Regression score Random Forest Regressor   :    0.846752491731078\n",
      "Regression score KNN_regressor       :    0.7991597384352422\n",
      "Regression score Liner Regressor      :    0.6886466099932432\n",
      "Regression score Supportive Vector     :    0.7036300438737989\n",
      "Regression score Decesion Tree Regressor:    0.7199645183428964\n",
      "Regression score XG Boost Regressor   :    0.9149114049677707\n"
     ]
    }
   ],
   "source": [
    "Y_pred_RFR_st,Y_pred_KNN_st,Y_pred_rid_st,Y_pred_SVM_st,Y_pred_DTR_st,Y_pred_XGB_st = Regress_model(Y_test_st,X_test_st,X_train_st,Y_train_st)"
   ]
  },
  {
   "cell_type": "code",
   "execution_count": 22,
   "id": "d9e7f184",
   "metadata": {
    "execution": {
     "iopub.execute_input": "2022-08-20T09:50:23.429235Z",
     "iopub.status.busy": "2022-08-20T09:50:23.428915Z",
     "iopub.status.idle": "2022-08-20T09:50:23.444053Z",
     "shell.execute_reply": "2022-08-20T09:50:23.443033Z"
    },
    "papermill": {
     "duration": 0.037091,
     "end_time": "2022-08-20T09:50:23.446091",
     "exception": false,
     "start_time": "2022-08-20T09:50:23.409000",
     "status": "completed"
    },
    "tags": []
   },
   "outputs": [
    {
     "data": {
      "text/html": [
       "<div>\n",
       "<style scoped>\n",
       "    .dataframe tbody tr th:only-of-type {\n",
       "        vertical-align: middle;\n",
       "    }\n",
       "\n",
       "    .dataframe tbody tr th {\n",
       "        vertical-align: top;\n",
       "    }\n",
       "\n",
       "    .dataframe thead th {\n",
       "        text-align: right;\n",
       "    }\n",
       "</style>\n",
       "<table border=\"1\" class=\"dataframe\">\n",
       "  <thead>\n",
       "    <tr style=\"text-align: right;\">\n",
       "      <th></th>\n",
       "      <th>RandomForestRegressor</th>\n",
       "      <th>KNeighborsRegressor</th>\n",
       "      <th>LinearRegression</th>\n",
       "      <th>Supportive Vector</th>\n",
       "      <th>DecisionTreeRegressor</th>\n",
       "      <th>GradientBoostingRegressor</th>\n",
       "      <th>Equivalent Stress</th>\n",
       "    </tr>\n",
       "  </thead>\n",
       "  <tbody>\n",
       "    <tr>\n",
       "      <th>0</th>\n",
       "      <td>278.393199</td>\n",
       "      <td>280.449469</td>\n",
       "      <td>301.788566</td>\n",
       "      <td>274.918482</td>\n",
       "      <td>274.819389</td>\n",
       "      <td>280.232623</td>\n",
       "      <td>289.441294</td>\n",
       "    </tr>\n",
       "    <tr>\n",
       "      <th>1</th>\n",
       "      <td>332.330437</td>\n",
       "      <td>334.657630</td>\n",
       "      <td>296.525646</td>\n",
       "      <td>314.590492</td>\n",
       "      <td>314.491371</td>\n",
       "      <td>320.456632</td>\n",
       "      <td>293.566418</td>\n",
       "    </tr>\n",
       "    <tr>\n",
       "      <th>2</th>\n",
       "      <td>378.381403</td>\n",
       "      <td>363.802354</td>\n",
       "      <td>379.412019</td>\n",
       "      <td>340.261974</td>\n",
       "      <td>382.536999</td>\n",
       "      <td>380.649009</td>\n",
       "      <td>353.999709</td>\n",
       "    </tr>\n",
       "    <tr>\n",
       "      <th>3</th>\n",
       "      <td>251.567642</td>\n",
       "      <td>253.043616</td>\n",
       "      <td>259.468206</td>\n",
       "      <td>268.694743</td>\n",
       "      <td>260.715467</td>\n",
       "      <td>236.692848</td>\n",
       "      <td>241.504968</td>\n",
       "    </tr>\n",
       "    <tr>\n",
       "      <th>4</th>\n",
       "      <td>325.149722</td>\n",
       "      <td>337.432619</td>\n",
       "      <td>307.560222</td>\n",
       "      <td>314.691872</td>\n",
       "      <td>314.792778</td>\n",
       "      <td>314.725816</td>\n",
       "      <td>314.810336</td>\n",
       "    </tr>\n",
       "  </tbody>\n",
       "</table>\n",
       "</div>"
      ],
      "text/plain": [
       "   RandomForestRegressor  KNeighborsRegressor  LinearRegression  \\\n",
       "0             278.393199           280.449469        301.788566   \n",
       "1             332.330437           334.657630        296.525646   \n",
       "2             378.381403           363.802354        379.412019   \n",
       "3             251.567642           253.043616        259.468206   \n",
       "4             325.149722           337.432619        307.560222   \n",
       "\n",
       "   Supportive Vector  DecisionTreeRegressor  GradientBoostingRegressor  \\\n",
       "0         274.918482             274.819389                 280.232623   \n",
       "1         314.590492             314.491371                 320.456632   \n",
       "2         340.261974             382.536999                 380.649009   \n",
       "3         268.694743             260.715467                 236.692848   \n",
       "4         314.691872             314.792778                 314.725816   \n",
       "\n",
       "   Equivalent Stress  \n",
       "0         289.441294  \n",
       "1         293.566418  \n",
       "2         353.999709  \n",
       "3         241.504968  \n",
       "4         314.810336  "
      ]
     },
     "execution_count": 22,
     "metadata": {},
     "output_type": "execute_result"
    }
   ],
   "source": [
    "predicted_stress = parametricData( Y_test_st, Y_pred_RFR_st,Y_pred_KNN_st,Y_pred_rid_st,Y_pred_SVM_st,Y_pred_DTR_st,Y_pred_XGB_st)\n",
    "predicted_stress.head()"
   ]
  },
  {
   "cell_type": "code",
   "execution_count": 23,
   "id": "ce696732",
   "metadata": {
    "execution": {
     "iopub.execute_input": "2022-08-20T09:50:23.486512Z",
     "iopub.status.busy": "2022-08-20T09:50:23.485901Z",
     "iopub.status.idle": "2022-08-20T09:50:24.295076Z",
     "shell.execute_reply": "2022-08-20T09:50:24.294196Z"
    },
    "papermill": {
     "duration": 0.831681,
     "end_time": "2022-08-20T09:50:24.297112",
     "exception": false,
     "start_time": "2022-08-20T09:50:23.465431",
     "status": "completed"
    },
    "tags": []
   },
   "outputs": [
    {
     "data": {
      "text/html": [
       "        <script type=\"text/javascript\">\n",
       "        window.PlotlyConfig = {MathJaxConfig: 'local'};\n",
       "        if (window.MathJax && window.MathJax.Hub && window.MathJax.Hub.Config) {window.MathJax.Hub.Config({SVG: {font: \"STIX-Web\"}});}\n",
       "        if (typeof require !== 'undefined') {\n",
       "        require.undef(\"plotly\");\n",
       "        requirejs.config({\n",
       "            paths: {\n",
       "                'plotly': ['https://cdn.plot.ly/plotly-2.12.1.min']\n",
       "            }\n",
       "        });\n",
       "        require(['plotly'], function(Plotly) {\n",
       "            window._Plotly = Plotly;\n",
       "        });\n",
       "        }\n",
       "        </script>\n",
       "        "
      ]
     },
     "metadata": {},
     "output_type": "display_data"
    },
    {
     "data": {
      "text/html": [
       "<div>                            <div id=\"ec657edd-6af2-4ed5-b9ce-af161d85477e\" class=\"plotly-graph-div\" style=\"height:500px; width:1100px;\"></div>            <script type=\"text/javascript\">                require([\"plotly\"], function(Plotly) {                    window.PLOTLYENV=window.PLOTLYENV || {};                                    if (document.getElementById(\"ec657edd-6af2-4ed5-b9ce-af161d85477e\")) {                    Plotly.newPlot(                        \"ec657edd-6af2-4ed5-b9ce-af161d85477e\",                        [{\"hovertemplate\":\"variable=RandomForestRegressor<br>index=%{x}<br>value=%{y}<extra></extra>\",\"legendgroup\":\"RandomForestRegressor\",\"line\":{\"color\":\"#636efa\",\"dash\":\"solid\"},\"marker\":{\"symbol\":\"circle\"},\"mode\":\"lines\",\"name\":\"RandomForestRegressor\",\"orientation\":\"v\",\"showlegend\":true,\"x\":[0,1,2,3,4,5,6,7,8,9,10,11,12,13],\"xaxis\":\"x\",\"y\":[278.39319886850035,332.3304367026002,378.3814031777999,251.5676418587551,325.14972161246635,260.6117467290163,279.0285563816667,260.61283730184965,358.19156072067665,260.68218216920366,229.56221772490008,333.5152524912997,379.9176302568334,281.22418666833335],\"yaxis\":\"y\",\"type\":\"scatter\"},{\"hovertemplate\":\"variable=KNeighborsRegressor<br>index=%{x}<br>value=%{y}<extra></extra>\",\"legendgroup\":\"KNeighborsRegressor\",\"line\":{\"color\":\"#EF553B\",\"dash\":\"solid\"},\"marker\":{\"symbol\":\"circle\"},\"mode\":\"lines\",\"name\":\"KNeighborsRegressor\",\"orientation\":\"v\",\"showlegend\":true,\"x\":[0,1,2,3,4,5,6,7,8,9,10,11,12,13],\"xaxis\":\"x\",\"y\":[280.44946934,334.65762972,363.8023538599999,253.04361611999997,337.43261917999996,261.07122614,280.44946934,261.26672504000004,287.33454014000006,261.26672504000004,216.92185344,337.43261917999996,365.27428580000003,280.44946934],\"yaxis\":\"y\",\"type\":\"scatter\"},{\"hovertemplate\":\"variable=LinearRegression<br>index=%{x}<br>value=%{y}<extra></extra>\",\"legendgroup\":\"LinearRegression\",\"line\":{\"color\":\"#00cc96\",\"dash\":\"solid\"},\"marker\":{\"symbol\":\"circle\"},\"mode\":\"lines\",\"name\":\"LinearRegression\",\"orientation\":\"v\",\"showlegend\":true,\"x\":[0,1,2,3,4,5,6,7,8,9,10,11,12,13],\"xaxis\":\"x\",\"y\":[301.7885657504195,296.5256456050447,379.4120192533708,259.4682055964862,307.5602219258627,300.0342451839957,296.27127511925335,300.03424519558826,340.60028477781236,300.0342456183073,258.46388078376845,307.56022379115177,384.92930832486314,296.2712762192508],\"yaxis\":\"y\",\"type\":\"scatter\"},{\"hovertemplate\":\"variable=Supportive Vector<br>index=%{x}<br>value=%{y}<extra></extra>\",\"legendgroup\":\"Supportive Vector\",\"line\":{\"color\":\"#ab63fa\",\"dash\":\"solid\"},\"marker\":{\"symbol\":\"circle\"},\"mode\":\"lines\",\"name\":\"Supportive Vector\",\"orientation\":\"v\",\"showlegend\":true,\"x\":[0,1,2,3,4,5,6,7,8,9,10,11,12,13],\"xaxis\":\"x\",\"y\":[274.9184821825945,314.5904923534506,340.2619735262158,268.6947428787496,314.6918717063452,288.14248528665826,274.8677924550682,288.1424852870002,307.5902276949016,288.1424852957168,255.44539490960938,314.69187174481317,340.3126632215169,274.8677924780093],\"yaxis\":\"y\",\"type\":\"scatter\"},{\"hovertemplate\":\"variable=DecisionTreeRegressor<br>index=%{x}<br>value=%{y}<extra></extra>\",\"legendgroup\":\"DecisionTreeRegressor\",\"line\":{\"color\":\"#FFA15A\",\"dash\":\"solid\"},\"marker\":{\"symbol\":\"circle\"},\"mode\":\"lines\",\"name\":\"DecisionTreeRegressor\",\"orientation\":\"v\",\"showlegend\":true,\"x\":[0,1,2,3,4,5,6,7,8,9,10,11,12,13],\"xaxis\":\"x\",\"y\":[274.8193886,314.4913706,382.5369988,260.7154669428572,314.7927785,260.7154669428572,276.1320715,260.7154669428572,395.0524397,260.7154669428572,211.52976085,328.3663179,383.4740957,286.894751],\"yaxis\":\"y\",\"type\":\"scatter\"},{\"hovertemplate\":\"variable=GradientBoostingRegressor<br>index=%{x}<br>value=%{y}<extra></extra>\",\"legendgroup\":\"GradientBoostingRegressor\",\"line\":{\"color\":\"#19d3f3\",\"dash\":\"solid\"},\"marker\":{\"symbol\":\"circle\"},\"mode\":\"lines\",\"name\":\"GradientBoostingRegressor\",\"orientation\":\"v\",\"showlegend\":true,\"x\":[0,1,2,3,4,5,6,7,8,9,10,11,12,13],\"xaxis\":\"x\",\"y\":[280.232623120802,320.4566318104753,380.64900923100237,236.6928479425655,314.7258160774217,260.3895491798543,277.13257358361983,260.3895491798543,338.52003365356165,260.3895491798543,220.35622548843088,331.1116375650654,383.2858807338319,282.0753476834973],\"yaxis\":\"y\",\"type\":\"scatter\"},{\"hovertemplate\":\"variable=Equivalent Stress<br>index=%{x}<br>value=%{y}<extra></extra>\",\"legendgroup\":\"Equivalent Stress\",\"line\":{\"color\":\"#FF6692\",\"dash\":\"solid\"},\"marker\":{\"symbol\":\"circle\"},\"mode\":\"lines\",\"name\":\"Equivalent Stress\",\"orientation\":\"v\",\"showlegend\":true,\"x\":[0,1,2,3,4,5,6,7,8,9,10,11,12,13],\"xaxis\":\"x\",\"y\":[289.4412943,293.5664182,353.9997094,241.5049684,314.8103355,261.8651189,284.8430696,268.6774984,328.5608046,255.5060924,225.4225973,328.7864442,376.9890375,295.5165863],\"yaxis\":\"y\",\"type\":\"scatter\"}],                        {\"template\":{\"data\":{\"histogram2dcontour\":[{\"type\":\"histogram2dcontour\",\"colorbar\":{\"outlinewidth\":0,\"ticks\":\"\"},\"colorscale\":[[0.0,\"#0d0887\"],[0.1111111111111111,\"#46039f\"],[0.2222222222222222,\"#7201a8\"],[0.3333333333333333,\"#9c179e\"],[0.4444444444444444,\"#bd3786\"],[0.5555555555555556,\"#d8576b\"],[0.6666666666666666,\"#ed7953\"],[0.7777777777777778,\"#fb9f3a\"],[0.8888888888888888,\"#fdca26\"],[1.0,\"#f0f921\"]]}],\"choropleth\":[{\"type\":\"choropleth\",\"colorbar\":{\"outlinewidth\":0,\"ticks\":\"\"}}],\"histogram2d\":[{\"type\":\"histogram2d\",\"colorbar\":{\"outlinewidth\":0,\"ticks\":\"\"},\"colorscale\":[[0.0,\"#0d0887\"],[0.1111111111111111,\"#46039f\"],[0.2222222222222222,\"#7201a8\"],[0.3333333333333333,\"#9c179e\"],[0.4444444444444444,\"#bd3786\"],[0.5555555555555556,\"#d8576b\"],[0.6666666666666666,\"#ed7953\"],[0.7777777777777778,\"#fb9f3a\"],[0.8888888888888888,\"#fdca26\"],[1.0,\"#f0f921\"]]}],\"heatmap\":[{\"type\":\"heatmap\",\"colorbar\":{\"outlinewidth\":0,\"ticks\":\"\"},\"colorscale\":[[0.0,\"#0d0887\"],[0.1111111111111111,\"#46039f\"],[0.2222222222222222,\"#7201a8\"],[0.3333333333333333,\"#9c179e\"],[0.4444444444444444,\"#bd3786\"],[0.5555555555555556,\"#d8576b\"],[0.6666666666666666,\"#ed7953\"],[0.7777777777777778,\"#fb9f3a\"],[0.8888888888888888,\"#fdca26\"],[1.0,\"#f0f921\"]]}],\"heatmapgl\":[{\"type\":\"heatmapgl\",\"colorbar\":{\"outlinewidth\":0,\"ticks\":\"\"},\"colorscale\":[[0.0,\"#0d0887\"],[0.1111111111111111,\"#46039f\"],[0.2222222222222222,\"#7201a8\"],[0.3333333333333333,\"#9c179e\"],[0.4444444444444444,\"#bd3786\"],[0.5555555555555556,\"#d8576b\"],[0.6666666666666666,\"#ed7953\"],[0.7777777777777778,\"#fb9f3a\"],[0.8888888888888888,\"#fdca26\"],[1.0,\"#f0f921\"]]}],\"contourcarpet\":[{\"type\":\"contourcarpet\",\"colorbar\":{\"outlinewidth\":0,\"ticks\":\"\"}}],\"contour\":[{\"type\":\"contour\",\"colorbar\":{\"outlinewidth\":0,\"ticks\":\"\"},\"colorscale\":[[0.0,\"#0d0887\"],[0.1111111111111111,\"#46039f\"],[0.2222222222222222,\"#7201a8\"],[0.3333333333333333,\"#9c179e\"],[0.4444444444444444,\"#bd3786\"],[0.5555555555555556,\"#d8576b\"],[0.6666666666666666,\"#ed7953\"],[0.7777777777777778,\"#fb9f3a\"],[0.8888888888888888,\"#fdca26\"],[1.0,\"#f0f921\"]]}],\"surface\":[{\"type\":\"surface\",\"colorbar\":{\"outlinewidth\":0,\"ticks\":\"\"},\"colorscale\":[[0.0,\"#0d0887\"],[0.1111111111111111,\"#46039f\"],[0.2222222222222222,\"#7201a8\"],[0.3333333333333333,\"#9c179e\"],[0.4444444444444444,\"#bd3786\"],[0.5555555555555556,\"#d8576b\"],[0.6666666666666666,\"#ed7953\"],[0.7777777777777778,\"#fb9f3a\"],[0.8888888888888888,\"#fdca26\"],[1.0,\"#f0f921\"]]}],\"mesh3d\":[{\"type\":\"mesh3d\",\"colorbar\":{\"outlinewidth\":0,\"ticks\":\"\"}}],\"scatter\":[{\"fillpattern\":{\"fillmode\":\"overlay\",\"size\":10,\"solidity\":0.2},\"type\":\"scatter\"}],\"parcoords\":[{\"type\":\"parcoords\",\"line\":{\"colorbar\":{\"outlinewidth\":0,\"ticks\":\"\"}}}],\"scatterpolargl\":[{\"type\":\"scatterpolargl\",\"marker\":{\"colorbar\":{\"outlinewidth\":0,\"ticks\":\"\"}}}],\"bar\":[{\"error_x\":{\"color\":\"#2a3f5f\"},\"error_y\":{\"color\":\"#2a3f5f\"},\"marker\":{\"line\":{\"color\":\"#E5ECF6\",\"width\":0.5},\"pattern\":{\"fillmode\":\"overlay\",\"size\":10,\"solidity\":0.2}},\"type\":\"bar\"}],\"scattergeo\":[{\"type\":\"scattergeo\",\"marker\":{\"colorbar\":{\"outlinewidth\":0,\"ticks\":\"\"}}}],\"scatterpolar\":[{\"type\":\"scatterpolar\",\"marker\":{\"colorbar\":{\"outlinewidth\":0,\"ticks\":\"\"}}}],\"histogram\":[{\"marker\":{\"pattern\":{\"fillmode\":\"overlay\",\"size\":10,\"solidity\":0.2}},\"type\":\"histogram\"}],\"scattergl\":[{\"type\":\"scattergl\",\"marker\":{\"colorbar\":{\"outlinewidth\":0,\"ticks\":\"\"}}}],\"scatter3d\":[{\"type\":\"scatter3d\",\"line\":{\"colorbar\":{\"outlinewidth\":0,\"ticks\":\"\"}},\"marker\":{\"colorbar\":{\"outlinewidth\":0,\"ticks\":\"\"}}}],\"scattermapbox\":[{\"type\":\"scattermapbox\",\"marker\":{\"colorbar\":{\"outlinewidth\":0,\"ticks\":\"\"}}}],\"scatterternary\":[{\"type\":\"scatterternary\",\"marker\":{\"colorbar\":{\"outlinewidth\":0,\"ticks\":\"\"}}}],\"scattercarpet\":[{\"type\":\"scattercarpet\",\"marker\":{\"colorbar\":{\"outlinewidth\":0,\"ticks\":\"\"}}}],\"carpet\":[{\"aaxis\":{\"endlinecolor\":\"#2a3f5f\",\"gridcolor\":\"white\",\"linecolor\":\"white\",\"minorgridcolor\":\"white\",\"startlinecolor\":\"#2a3f5f\"},\"baxis\":{\"endlinecolor\":\"#2a3f5f\",\"gridcolor\":\"white\",\"linecolor\":\"white\",\"minorgridcolor\":\"white\",\"startlinecolor\":\"#2a3f5f\"},\"type\":\"carpet\"}],\"table\":[{\"cells\":{\"fill\":{\"color\":\"#EBF0F8\"},\"line\":{\"color\":\"white\"}},\"header\":{\"fill\":{\"color\":\"#C8D4E3\"},\"line\":{\"color\":\"white\"}},\"type\":\"table\"}],\"barpolar\":[{\"marker\":{\"line\":{\"color\":\"#E5ECF6\",\"width\":0.5},\"pattern\":{\"fillmode\":\"overlay\",\"size\":10,\"solidity\":0.2}},\"type\":\"barpolar\"}],\"pie\":[{\"automargin\":true,\"type\":\"pie\"}]},\"layout\":{\"autotypenumbers\":\"strict\",\"colorway\":[\"#636efa\",\"#EF553B\",\"#00cc96\",\"#ab63fa\",\"#FFA15A\",\"#19d3f3\",\"#FF6692\",\"#B6E880\",\"#FF97FF\",\"#FECB52\"],\"font\":{\"color\":\"#2a3f5f\"},\"hovermode\":\"closest\",\"hoverlabel\":{\"align\":\"left\"},\"paper_bgcolor\":\"white\",\"plot_bgcolor\":\"#E5ECF6\",\"polar\":{\"bgcolor\":\"#E5ECF6\",\"angularaxis\":{\"gridcolor\":\"white\",\"linecolor\":\"white\",\"ticks\":\"\"},\"radialaxis\":{\"gridcolor\":\"white\",\"linecolor\":\"white\",\"ticks\":\"\"}},\"ternary\":{\"bgcolor\":\"#E5ECF6\",\"aaxis\":{\"gridcolor\":\"white\",\"linecolor\":\"white\",\"ticks\":\"\"},\"baxis\":{\"gridcolor\":\"white\",\"linecolor\":\"white\",\"ticks\":\"\"},\"caxis\":{\"gridcolor\":\"white\",\"linecolor\":\"white\",\"ticks\":\"\"}},\"coloraxis\":{\"colorbar\":{\"outlinewidth\":0,\"ticks\":\"\"}},\"colorscale\":{\"sequential\":[[0.0,\"#0d0887\"],[0.1111111111111111,\"#46039f\"],[0.2222222222222222,\"#7201a8\"],[0.3333333333333333,\"#9c179e\"],[0.4444444444444444,\"#bd3786\"],[0.5555555555555556,\"#d8576b\"],[0.6666666666666666,\"#ed7953\"],[0.7777777777777778,\"#fb9f3a\"],[0.8888888888888888,\"#fdca26\"],[1.0,\"#f0f921\"]],\"sequentialminus\":[[0.0,\"#0d0887\"],[0.1111111111111111,\"#46039f\"],[0.2222222222222222,\"#7201a8\"],[0.3333333333333333,\"#9c179e\"],[0.4444444444444444,\"#bd3786\"],[0.5555555555555556,\"#d8576b\"],[0.6666666666666666,\"#ed7953\"],[0.7777777777777778,\"#fb9f3a\"],[0.8888888888888888,\"#fdca26\"],[1.0,\"#f0f921\"]],\"diverging\":[[0,\"#8e0152\"],[0.1,\"#c51b7d\"],[0.2,\"#de77ae\"],[0.3,\"#f1b6da\"],[0.4,\"#fde0ef\"],[0.5,\"#f7f7f7\"],[0.6,\"#e6f5d0\"],[0.7,\"#b8e186\"],[0.8,\"#7fbc41\"],[0.9,\"#4d9221\"],[1,\"#276419\"]]},\"xaxis\":{\"gridcolor\":\"white\",\"linecolor\":\"white\",\"ticks\":\"\",\"title\":{\"standoff\":15},\"zerolinecolor\":\"white\",\"automargin\":true,\"zerolinewidth\":2},\"yaxis\":{\"gridcolor\":\"white\",\"linecolor\":\"white\",\"ticks\":\"\",\"title\":{\"standoff\":15},\"zerolinecolor\":\"white\",\"automargin\":true,\"zerolinewidth\":2},\"scene\":{\"xaxis\":{\"backgroundcolor\":\"#E5ECF6\",\"gridcolor\":\"white\",\"linecolor\":\"white\",\"showbackground\":true,\"ticks\":\"\",\"zerolinecolor\":\"white\",\"gridwidth\":2},\"yaxis\":{\"backgroundcolor\":\"#E5ECF6\",\"gridcolor\":\"white\",\"linecolor\":\"white\",\"showbackground\":true,\"ticks\":\"\",\"zerolinecolor\":\"white\",\"gridwidth\":2},\"zaxis\":{\"backgroundcolor\":\"#E5ECF6\",\"gridcolor\":\"white\",\"linecolor\":\"white\",\"showbackground\":true,\"ticks\":\"\",\"zerolinecolor\":\"white\",\"gridwidth\":2}},\"shapedefaults\":{\"line\":{\"color\":\"#2a3f5f\"}},\"annotationdefaults\":{\"arrowcolor\":\"#2a3f5f\",\"arrowhead\":0,\"arrowwidth\":1},\"geo\":{\"bgcolor\":\"white\",\"landcolor\":\"#E5ECF6\",\"subunitcolor\":\"white\",\"showland\":true,\"showlakes\":true,\"lakecolor\":\"white\"},\"title\":{\"x\":0.05},\"mapbox\":{\"style\":\"light\"}}},\"xaxis\":{\"anchor\":\"y\",\"domain\":[0.0,1.0],\"title\":{\"text\":\"index\"}},\"yaxis\":{\"anchor\":\"x\",\"domain\":[0.0,1.0],\"title\":{\"text\":\"value\"}},\"legend\":{\"title\":{\"text\":\"variable\"},\"tracegroupgap\":0},\"title\":{\"text\":\"Fixator Stress Analysis\"},\"height\":500,\"width\":1100},                        {\"responsive\": true}                    ).then(function(){\n",
       "                            \n",
       "var gd = document.getElementById('ec657edd-6af2-4ed5-b9ce-af161d85477e');\n",
       "var x = new MutationObserver(function (mutations, observer) {{\n",
       "        var display = window.getComputedStyle(gd).display;\n",
       "        if (!display || display === 'none') {{\n",
       "            console.log([gd, 'removed!']);\n",
       "            Plotly.purge(gd);\n",
       "            observer.disconnect();\n",
       "        }}\n",
       "}});\n",
       "\n",
       "// Listen for the removal of the full notebook cells\n",
       "var notebookContainer = gd.closest('#notebook-container');\n",
       "if (notebookContainer) {{\n",
       "    x.observe(notebookContainer, {childList: true});\n",
       "}}\n",
       "\n",
       "// Listen for the clearing of the current output cell\n",
       "var outputEl = gd.closest('.output');\n",
       "if (outputEl) {{\n",
       "    x.observe(outputEl, {childList: true});\n",
       "}}\n",
       "\n",
       "                        })                };                });            </script>        </div>"
      ]
     },
     "metadata": {},
     "output_type": "display_data"
    }
   ],
   "source": [
    "px.line(predicted_stress,title = 'Fixator Stress Analysis', width=1100,height=500)"
   ]
  },
  {
   "cell_type": "code",
   "execution_count": 24,
   "id": "01f27780",
   "metadata": {
    "execution": {
     "iopub.execute_input": "2022-08-20T09:50:24.369286Z",
     "iopub.status.busy": "2022-08-20T09:50:24.368939Z",
     "iopub.status.idle": "2022-08-20T09:50:24.449421Z",
     "shell.execute_reply": "2022-08-20T09:50:24.448426Z"
    },
    "papermill": {
     "duration": 0.134169,
     "end_time": "2022-08-20T09:50:24.451678",
     "exception": false,
     "start_time": "2022-08-20T09:50:24.317509",
     "status": "completed"
    },
    "tags": []
   },
   "outputs": [
    {
     "data": {
      "text/html": [
       "<div>                            <div id=\"cc7e6f67-58da-48c4-9545-c619ad42c8cc\" class=\"plotly-graph-div\" style=\"height:500px; width:1100px;\"></div>            <script type=\"text/javascript\">                require([\"plotly\"], function(Plotly) {                    window.PLOTLYENV=window.PLOTLYENV || {};                                    if (document.getElementById(\"cc7e6f67-58da-48c4-9545-c619ad42c8cc\")) {                    Plotly.newPlot(                        \"cc7e6f67-58da-48c4-9545-c619ad42c8cc\",                        [{\"hovertemplate\":\"variable=RandomForestRegressor<br>index=%{x}<br>value=%{y}<extra></extra>\",\"legendgroup\":\"RandomForestRegressor\",\"marker\":{\"color\":\"#636efa\",\"symbol\":\"circle\",\"size\":12},\"mode\":\"markers\",\"name\":\"RandomForestRegressor\",\"orientation\":\"v\",\"showlegend\":true,\"x\":[0,1,2,3,4,5,6,7,8,9,10,11,12,13],\"xaxis\":\"x\",\"y\":[278.39319886850035,332.3304367026002,378.3814031777999,251.5676418587551,325.14972161246635,260.6117467290163,279.0285563816667,260.61283730184965,358.19156072067665,260.68218216920366,229.56221772490008,333.5152524912997,379.9176302568334,281.22418666833335],\"yaxis\":\"y\",\"type\":\"scatter\"},{\"hovertemplate\":\"variable=KNeighborsRegressor<br>index=%{x}<br>value=%{y}<extra></extra>\",\"legendgroup\":\"KNeighborsRegressor\",\"marker\":{\"color\":\"#EF553B\",\"symbol\":\"circle\",\"size\":12},\"mode\":\"markers\",\"name\":\"KNeighborsRegressor\",\"orientation\":\"v\",\"showlegend\":true,\"x\":[0,1,2,3,4,5,6,7,8,9,10,11,12,13],\"xaxis\":\"x\",\"y\":[280.44946934,334.65762972,363.8023538599999,253.04361611999997,337.43261917999996,261.07122614,280.44946934,261.26672504000004,287.33454014000006,261.26672504000004,216.92185344,337.43261917999996,365.27428580000003,280.44946934],\"yaxis\":\"y\",\"type\":\"scatter\"},{\"hovertemplate\":\"variable=LinearRegression<br>index=%{x}<br>value=%{y}<extra></extra>\",\"legendgroup\":\"LinearRegression\",\"marker\":{\"color\":\"#00cc96\",\"symbol\":\"circle\",\"size\":12},\"mode\":\"markers\",\"name\":\"LinearRegression\",\"orientation\":\"v\",\"showlegend\":true,\"x\":[0,1,2,3,4,5,6,7,8,9,10,11,12,13],\"xaxis\":\"x\",\"y\":[301.7885657504195,296.5256456050447,379.4120192533708,259.4682055964862,307.5602219258627,300.0342451839957,296.27127511925335,300.03424519558826,340.60028477781236,300.0342456183073,258.46388078376845,307.56022379115177,384.92930832486314,296.2712762192508],\"yaxis\":\"y\",\"type\":\"scatter\"},{\"hovertemplate\":\"variable=Supportive Vector<br>index=%{x}<br>value=%{y}<extra></extra>\",\"legendgroup\":\"Supportive Vector\",\"marker\":{\"color\":\"#ab63fa\",\"symbol\":\"circle\",\"size\":12},\"mode\":\"markers\",\"name\":\"Supportive Vector\",\"orientation\":\"v\",\"showlegend\":true,\"x\":[0,1,2,3,4,5,6,7,8,9,10,11,12,13],\"xaxis\":\"x\",\"y\":[274.9184821825945,314.5904923534506,340.2619735262158,268.6947428787496,314.6918717063452,288.14248528665826,274.8677924550682,288.1424852870002,307.5902276949016,288.1424852957168,255.44539490960938,314.69187174481317,340.3126632215169,274.8677924780093],\"yaxis\":\"y\",\"type\":\"scatter\"},{\"hovertemplate\":\"variable=DecisionTreeRegressor<br>index=%{x}<br>value=%{y}<extra></extra>\",\"legendgroup\":\"DecisionTreeRegressor\",\"marker\":{\"color\":\"#FFA15A\",\"symbol\":\"circle\",\"size\":12},\"mode\":\"markers\",\"name\":\"DecisionTreeRegressor\",\"orientation\":\"v\",\"showlegend\":true,\"x\":[0,1,2,3,4,5,6,7,8,9,10,11,12,13],\"xaxis\":\"x\",\"y\":[274.8193886,314.4913706,382.5369988,260.7154669428572,314.7927785,260.7154669428572,276.1320715,260.7154669428572,395.0524397,260.7154669428572,211.52976085,328.3663179,383.4740957,286.894751],\"yaxis\":\"y\",\"type\":\"scatter\"},{\"hovertemplate\":\"variable=GradientBoostingRegressor<br>index=%{x}<br>value=%{y}<extra></extra>\",\"legendgroup\":\"GradientBoostingRegressor\",\"marker\":{\"color\":\"#19d3f3\",\"symbol\":\"circle\",\"size\":12},\"mode\":\"markers\",\"name\":\"GradientBoostingRegressor\",\"orientation\":\"v\",\"showlegend\":true,\"x\":[0,1,2,3,4,5,6,7,8,9,10,11,12,13],\"xaxis\":\"x\",\"y\":[280.232623120802,320.4566318104753,380.64900923100237,236.6928479425655,314.7258160774217,260.3895491798543,277.13257358361983,260.3895491798543,338.52003365356165,260.3895491798543,220.35622548843088,331.1116375650654,383.2858807338319,282.0753476834973],\"yaxis\":\"y\",\"type\":\"scatter\"},{\"hovertemplate\":\"variable=Equivalent Stress<br>index=%{x}<br>value=%{y}<extra></extra>\",\"legendgroup\":\"Equivalent Stress\",\"marker\":{\"color\":\"#FF6692\",\"symbol\":\"circle\",\"size\":12},\"mode\":\"markers\",\"name\":\"Equivalent Stress\",\"orientation\":\"v\",\"showlegend\":true,\"x\":[0,1,2,3,4,5,6,7,8,9,10,11,12,13],\"xaxis\":\"x\",\"y\":[289.4412943,293.5664182,353.9997094,241.5049684,314.8103355,261.8651189,284.8430696,268.6774984,328.5608046,255.5060924,225.4225973,328.7864442,376.9890375,295.5165863],\"yaxis\":\"y\",\"type\":\"scatter\"}],                        {\"template\":{\"data\":{\"histogram2dcontour\":[{\"type\":\"histogram2dcontour\",\"colorbar\":{\"outlinewidth\":0,\"ticks\":\"\"},\"colorscale\":[[0.0,\"#0d0887\"],[0.1111111111111111,\"#46039f\"],[0.2222222222222222,\"#7201a8\"],[0.3333333333333333,\"#9c179e\"],[0.4444444444444444,\"#bd3786\"],[0.5555555555555556,\"#d8576b\"],[0.6666666666666666,\"#ed7953\"],[0.7777777777777778,\"#fb9f3a\"],[0.8888888888888888,\"#fdca26\"],[1.0,\"#f0f921\"]]}],\"choropleth\":[{\"type\":\"choropleth\",\"colorbar\":{\"outlinewidth\":0,\"ticks\":\"\"}}],\"histogram2d\":[{\"type\":\"histogram2d\",\"colorbar\":{\"outlinewidth\":0,\"ticks\":\"\"},\"colorscale\":[[0.0,\"#0d0887\"],[0.1111111111111111,\"#46039f\"],[0.2222222222222222,\"#7201a8\"],[0.3333333333333333,\"#9c179e\"],[0.4444444444444444,\"#bd3786\"],[0.5555555555555556,\"#d8576b\"],[0.6666666666666666,\"#ed7953\"],[0.7777777777777778,\"#fb9f3a\"],[0.8888888888888888,\"#fdca26\"],[1.0,\"#f0f921\"]]}],\"heatmap\":[{\"type\":\"heatmap\",\"colorbar\":{\"outlinewidth\":0,\"ticks\":\"\"},\"colorscale\":[[0.0,\"#0d0887\"],[0.1111111111111111,\"#46039f\"],[0.2222222222222222,\"#7201a8\"],[0.3333333333333333,\"#9c179e\"],[0.4444444444444444,\"#bd3786\"],[0.5555555555555556,\"#d8576b\"],[0.6666666666666666,\"#ed7953\"],[0.7777777777777778,\"#fb9f3a\"],[0.8888888888888888,\"#fdca26\"],[1.0,\"#f0f921\"]]}],\"heatmapgl\":[{\"type\":\"heatmapgl\",\"colorbar\":{\"outlinewidth\":0,\"ticks\":\"\"},\"colorscale\":[[0.0,\"#0d0887\"],[0.1111111111111111,\"#46039f\"],[0.2222222222222222,\"#7201a8\"],[0.3333333333333333,\"#9c179e\"],[0.4444444444444444,\"#bd3786\"],[0.5555555555555556,\"#d8576b\"],[0.6666666666666666,\"#ed7953\"],[0.7777777777777778,\"#fb9f3a\"],[0.8888888888888888,\"#fdca26\"],[1.0,\"#f0f921\"]]}],\"contourcarpet\":[{\"type\":\"contourcarpet\",\"colorbar\":{\"outlinewidth\":0,\"ticks\":\"\"}}],\"contour\":[{\"type\":\"contour\",\"colorbar\":{\"outlinewidth\":0,\"ticks\":\"\"},\"colorscale\":[[0.0,\"#0d0887\"],[0.1111111111111111,\"#46039f\"],[0.2222222222222222,\"#7201a8\"],[0.3333333333333333,\"#9c179e\"],[0.4444444444444444,\"#bd3786\"],[0.5555555555555556,\"#d8576b\"],[0.6666666666666666,\"#ed7953\"],[0.7777777777777778,\"#fb9f3a\"],[0.8888888888888888,\"#fdca26\"],[1.0,\"#f0f921\"]]}],\"surface\":[{\"type\":\"surface\",\"colorbar\":{\"outlinewidth\":0,\"ticks\":\"\"},\"colorscale\":[[0.0,\"#0d0887\"],[0.1111111111111111,\"#46039f\"],[0.2222222222222222,\"#7201a8\"],[0.3333333333333333,\"#9c179e\"],[0.4444444444444444,\"#bd3786\"],[0.5555555555555556,\"#d8576b\"],[0.6666666666666666,\"#ed7953\"],[0.7777777777777778,\"#fb9f3a\"],[0.8888888888888888,\"#fdca26\"],[1.0,\"#f0f921\"]]}],\"mesh3d\":[{\"type\":\"mesh3d\",\"colorbar\":{\"outlinewidth\":0,\"ticks\":\"\"}}],\"scatter\":[{\"fillpattern\":{\"fillmode\":\"overlay\",\"size\":10,\"solidity\":0.2},\"type\":\"scatter\"}],\"parcoords\":[{\"type\":\"parcoords\",\"line\":{\"colorbar\":{\"outlinewidth\":0,\"ticks\":\"\"}}}],\"scatterpolargl\":[{\"type\":\"scatterpolargl\",\"marker\":{\"colorbar\":{\"outlinewidth\":0,\"ticks\":\"\"}}}],\"bar\":[{\"error_x\":{\"color\":\"#2a3f5f\"},\"error_y\":{\"color\":\"#2a3f5f\"},\"marker\":{\"line\":{\"color\":\"#E5ECF6\",\"width\":0.5},\"pattern\":{\"fillmode\":\"overlay\",\"size\":10,\"solidity\":0.2}},\"type\":\"bar\"}],\"scattergeo\":[{\"type\":\"scattergeo\",\"marker\":{\"colorbar\":{\"outlinewidth\":0,\"ticks\":\"\"}}}],\"scatterpolar\":[{\"type\":\"scatterpolar\",\"marker\":{\"colorbar\":{\"outlinewidth\":0,\"ticks\":\"\"}}}],\"histogram\":[{\"marker\":{\"pattern\":{\"fillmode\":\"overlay\",\"size\":10,\"solidity\":0.2}},\"type\":\"histogram\"}],\"scattergl\":[{\"type\":\"scattergl\",\"marker\":{\"colorbar\":{\"outlinewidth\":0,\"ticks\":\"\"}}}],\"scatter3d\":[{\"type\":\"scatter3d\",\"line\":{\"colorbar\":{\"outlinewidth\":0,\"ticks\":\"\"}},\"marker\":{\"colorbar\":{\"outlinewidth\":0,\"ticks\":\"\"}}}],\"scattermapbox\":[{\"type\":\"scattermapbox\",\"marker\":{\"colorbar\":{\"outlinewidth\":0,\"ticks\":\"\"}}}],\"scatterternary\":[{\"type\":\"scatterternary\",\"marker\":{\"colorbar\":{\"outlinewidth\":0,\"ticks\":\"\"}}}],\"scattercarpet\":[{\"type\":\"scattercarpet\",\"marker\":{\"colorbar\":{\"outlinewidth\":0,\"ticks\":\"\"}}}],\"carpet\":[{\"aaxis\":{\"endlinecolor\":\"#2a3f5f\",\"gridcolor\":\"white\",\"linecolor\":\"white\",\"minorgridcolor\":\"white\",\"startlinecolor\":\"#2a3f5f\"},\"baxis\":{\"endlinecolor\":\"#2a3f5f\",\"gridcolor\":\"white\",\"linecolor\":\"white\",\"minorgridcolor\":\"white\",\"startlinecolor\":\"#2a3f5f\"},\"type\":\"carpet\"}],\"table\":[{\"cells\":{\"fill\":{\"color\":\"#EBF0F8\"},\"line\":{\"color\":\"white\"}},\"header\":{\"fill\":{\"color\":\"#C8D4E3\"},\"line\":{\"color\":\"white\"}},\"type\":\"table\"}],\"barpolar\":[{\"marker\":{\"line\":{\"color\":\"#E5ECF6\",\"width\":0.5},\"pattern\":{\"fillmode\":\"overlay\",\"size\":10,\"solidity\":0.2}},\"type\":\"barpolar\"}],\"pie\":[{\"automargin\":true,\"type\":\"pie\"}]},\"layout\":{\"autotypenumbers\":\"strict\",\"colorway\":[\"#636efa\",\"#EF553B\",\"#00cc96\",\"#ab63fa\",\"#FFA15A\",\"#19d3f3\",\"#FF6692\",\"#B6E880\",\"#FF97FF\",\"#FECB52\"],\"font\":{\"color\":\"#2a3f5f\"},\"hovermode\":\"closest\",\"hoverlabel\":{\"align\":\"left\"},\"paper_bgcolor\":\"white\",\"plot_bgcolor\":\"#E5ECF6\",\"polar\":{\"bgcolor\":\"#E5ECF6\",\"angularaxis\":{\"gridcolor\":\"white\",\"linecolor\":\"white\",\"ticks\":\"\"},\"radialaxis\":{\"gridcolor\":\"white\",\"linecolor\":\"white\",\"ticks\":\"\"}},\"ternary\":{\"bgcolor\":\"#E5ECF6\",\"aaxis\":{\"gridcolor\":\"white\",\"linecolor\":\"white\",\"ticks\":\"\"},\"baxis\":{\"gridcolor\":\"white\",\"linecolor\":\"white\",\"ticks\":\"\"},\"caxis\":{\"gridcolor\":\"white\",\"linecolor\":\"white\",\"ticks\":\"\"}},\"coloraxis\":{\"colorbar\":{\"outlinewidth\":0,\"ticks\":\"\"}},\"colorscale\":{\"sequential\":[[0.0,\"#0d0887\"],[0.1111111111111111,\"#46039f\"],[0.2222222222222222,\"#7201a8\"],[0.3333333333333333,\"#9c179e\"],[0.4444444444444444,\"#bd3786\"],[0.5555555555555556,\"#d8576b\"],[0.6666666666666666,\"#ed7953\"],[0.7777777777777778,\"#fb9f3a\"],[0.8888888888888888,\"#fdca26\"],[1.0,\"#f0f921\"]],\"sequentialminus\":[[0.0,\"#0d0887\"],[0.1111111111111111,\"#46039f\"],[0.2222222222222222,\"#7201a8\"],[0.3333333333333333,\"#9c179e\"],[0.4444444444444444,\"#bd3786\"],[0.5555555555555556,\"#d8576b\"],[0.6666666666666666,\"#ed7953\"],[0.7777777777777778,\"#fb9f3a\"],[0.8888888888888888,\"#fdca26\"],[1.0,\"#f0f921\"]],\"diverging\":[[0,\"#8e0152\"],[0.1,\"#c51b7d\"],[0.2,\"#de77ae\"],[0.3,\"#f1b6da\"],[0.4,\"#fde0ef\"],[0.5,\"#f7f7f7\"],[0.6,\"#e6f5d0\"],[0.7,\"#b8e186\"],[0.8,\"#7fbc41\"],[0.9,\"#4d9221\"],[1,\"#276419\"]]},\"xaxis\":{\"gridcolor\":\"white\",\"linecolor\":\"white\",\"ticks\":\"\",\"title\":{\"standoff\":15},\"zerolinecolor\":\"white\",\"automargin\":true,\"zerolinewidth\":2},\"yaxis\":{\"gridcolor\":\"white\",\"linecolor\":\"white\",\"ticks\":\"\",\"title\":{\"standoff\":15},\"zerolinecolor\":\"white\",\"automargin\":true,\"zerolinewidth\":2},\"scene\":{\"xaxis\":{\"backgroundcolor\":\"#E5ECF6\",\"gridcolor\":\"white\",\"linecolor\":\"white\",\"showbackground\":true,\"ticks\":\"\",\"zerolinecolor\":\"white\",\"gridwidth\":2},\"yaxis\":{\"backgroundcolor\":\"#E5ECF6\",\"gridcolor\":\"white\",\"linecolor\":\"white\",\"showbackground\":true,\"ticks\":\"\",\"zerolinecolor\":\"white\",\"gridwidth\":2},\"zaxis\":{\"backgroundcolor\":\"#E5ECF6\",\"gridcolor\":\"white\",\"linecolor\":\"white\",\"showbackground\":true,\"ticks\":\"\",\"zerolinecolor\":\"white\",\"gridwidth\":2}},\"shapedefaults\":{\"line\":{\"color\":\"#2a3f5f\"}},\"annotationdefaults\":{\"arrowcolor\":\"#2a3f5f\",\"arrowhead\":0,\"arrowwidth\":1},\"geo\":{\"bgcolor\":\"white\",\"landcolor\":\"#E5ECF6\",\"subunitcolor\":\"white\",\"showland\":true,\"showlakes\":true,\"lakecolor\":\"white\"},\"title\":{\"x\":0.05},\"mapbox\":{\"style\":\"light\"}}},\"xaxis\":{\"anchor\":\"y\",\"domain\":[0.0,1.0],\"title\":{\"text\":\"index\"}},\"yaxis\":{\"anchor\":\"x\",\"domain\":[0.0,1.0],\"title\":{\"text\":\"value\"}},\"legend\":{\"title\":{\"text\":\"variable\"},\"tracegroupgap\":0},\"title\":{\"text\":\"Fixator Stress Analysis\"},\"height\":500,\"width\":1100},                        {\"responsive\": true}                    ).then(function(){\n",
       "                            \n",
       "var gd = document.getElementById('cc7e6f67-58da-48c4-9545-c619ad42c8cc');\n",
       "var x = new MutationObserver(function (mutations, observer) {{\n",
       "        var display = window.getComputedStyle(gd).display;\n",
       "        if (!display || display === 'none') {{\n",
       "            console.log([gd, 'removed!']);\n",
       "            Plotly.purge(gd);\n",
       "            observer.disconnect();\n",
       "        }}\n",
       "}});\n",
       "\n",
       "// Listen for the removal of the full notebook cells\n",
       "var notebookContainer = gd.closest('#notebook-container');\n",
       "if (notebookContainer) {{\n",
       "    x.observe(notebookContainer, {childList: true});\n",
       "}}\n",
       "\n",
       "// Listen for the clearing of the current output cell\n",
       "var outputEl = gd.closest('.output');\n",
       "if (outputEl) {{\n",
       "    x.observe(outputEl, {childList: true});\n",
       "}}\n",
       "\n",
       "                        })                };                });            </script>        </div>"
      ]
     },
     "metadata": {},
     "output_type": "display_data"
    }
   ],
   "source": [
    "fig = px.scatter(predicted_stress,title = 'Fixator Stress Analysis', width=1100,height=500)\n",
    "fig.update_traces(marker=dict(size=12))"
   ]
  },
  {
   "cell_type": "markdown",
   "id": "dfcd2e88",
   "metadata": {
    "papermill": {
     "duration": 0.018888,
     "end_time": "2022-08-20T09:50:24.490480",
     "exception": false,
     "start_time": "2022-08-20T09:50:24.471592",
     "status": "completed"
    },
    "tags": []
   },
   "source": [
    "### Total Deformation Prediction "
   ]
  },
  {
   "cell_type": "code",
   "execution_count": 25,
   "id": "e174d309",
   "metadata": {
    "execution": {
     "iopub.execute_input": "2022-08-20T09:50:24.531504Z",
     "iopub.status.busy": "2022-08-20T09:50:24.530763Z",
     "iopub.status.idle": "2022-08-20T09:50:24.538114Z",
     "shell.execute_reply": "2022-08-20T09:50:24.537099Z"
    },
    "papermill": {
     "duration": 0.030203,
     "end_time": "2022-08-20T09:50:24.539999",
     "exception": false,
     "start_time": "2022-08-20T09:50:24.509796",
     "status": "completed"
    },
    "tags": []
   },
   "outputs": [
    {
     "data": {
      "text/plain": [
       "0     8.850985\n",
       "1    10.565059\n",
       "Name: Total Deformation Maximum, dtype: float64"
      ]
     },
     "execution_count": 25,
     "metadata": {},
     "output_type": "execute_result"
    }
   ],
   "source": [
    "Y_dis = df_data['Total Deformation Maximum']\n",
    "Y_dis.head(2)"
   ]
  },
  {
   "cell_type": "code",
   "execution_count": 26,
   "id": "06c11719",
   "metadata": {
    "execution": {
     "iopub.execute_input": "2022-08-20T09:50:24.581651Z",
     "iopub.status.busy": "2022-08-20T09:50:24.581306Z",
     "iopub.status.idle": "2022-08-20T09:50:24.589398Z",
     "shell.execute_reply": "2022-08-20T09:50:24.588501Z"
    },
    "papermill": {
     "duration": 0.031283,
     "end_time": "2022-08-20T09:50:24.591608",
     "exception": false,
     "start_time": "2022-08-20T09:50:24.560325",
     "status": "completed"
    },
    "tags": []
   },
   "outputs": [
    {
     "name": "stdout",
     "output_type": "stream",
     "text": [
      "Shape of X_train Dataset :  (75, 5)\n",
      "Shape of X_test Dataset :  (14, 5)\n",
      "Shape of Y_train Dataset :  (75,)\n",
      "Shape of Y_test Dataset :  (14,)\n"
     ]
    }
   ],
   "source": [
    "X_train_dis ,X_test_dis ,Y_train_dis,Y_test_dis = split(X,Y_dis)"
   ]
  },
  {
   "cell_type": "code",
   "execution_count": null,
   "id": "3d49f8c0",
   "metadata": {
    "papermill": {
     "duration": 0.019158,
     "end_time": "2022-08-20T09:50:24.629823",
     "exception": false,
     "start_time": "2022-08-20T09:50:24.610665",
     "status": "completed"
    },
    "tags": []
   },
   "outputs": [],
   "source": []
  },
  {
   "cell_type": "code",
   "execution_count": 27,
   "id": "d6b94fcf",
   "metadata": {
    "execution": {
     "iopub.execute_input": "2022-08-20T09:50:24.670447Z",
     "iopub.status.busy": "2022-08-20T09:50:24.669667Z",
     "iopub.status.idle": "2022-08-20T09:50:28.246063Z",
     "shell.execute_reply": "2022-08-20T09:50:28.243970Z"
    },
    "papermill": {
     "duration": 3.599117,
     "end_time": "2022-08-20T09:50:28.248324",
     "exception": false,
     "start_time": "2022-08-20T09:50:24.649207",
     "status": "completed"
    },
    "tags": []
   },
   "outputs": [
    {
     "name": "stdout",
     "output_type": "stream",
     "text": [
      "Regression score Random Forest Regressor   :    0.9962649304915968\n",
      "Regression score KNN_regressor       :    0.9736481553475881\n",
      "Regression score Liner Regressor      :    0.969098544276887\n",
      "Regression score Supportive Vector     :    0.9698575926194097\n",
      "Regression score Decesion Tree Regressor:    0.9704497295992932\n",
      "Regression score XG Boost Regressor   :    0.9968667034731238\n"
     ]
    }
   ],
   "source": [
    "Y_pred_RFR_dis, Y_pred_KNN_dis, Y_pred_rid_dis, Y_pred_SVM_dis, Y_pred_DTR_dis, Y_pred_XGB_dis = Regress_model(Y_test_dis,X_test_dis,X_train_dis,Y_train_dis)"
   ]
  },
  {
   "cell_type": "code",
   "execution_count": 28,
   "id": "1eecbd5e",
   "metadata": {
    "execution": {
     "iopub.execute_input": "2022-08-20T09:50:28.290988Z",
     "iopub.status.busy": "2022-08-20T09:50:28.289319Z",
     "iopub.status.idle": "2022-08-20T09:50:28.306088Z",
     "shell.execute_reply": "2022-08-20T09:50:28.305187Z"
    },
    "papermill": {
     "duration": 0.039697,
     "end_time": "2022-08-20T09:50:28.308198",
     "exception": false,
     "start_time": "2022-08-20T09:50:28.268501",
     "status": "completed"
    },
    "tags": []
   },
   "outputs": [
    {
     "data": {
      "text/html": [
       "<div>\n",
       "<style scoped>\n",
       "    .dataframe tbody tr th:only-of-type {\n",
       "        vertical-align: middle;\n",
       "    }\n",
       "\n",
       "    .dataframe tbody tr th {\n",
       "        vertical-align: top;\n",
       "    }\n",
       "\n",
       "    .dataframe thead th {\n",
       "        text-align: right;\n",
       "    }\n",
       "</style>\n",
       "<table border=\"1\" class=\"dataframe\">\n",
       "  <thead>\n",
       "    <tr style=\"text-align: right;\">\n",
       "      <th></th>\n",
       "      <th>RandomForestRegressor</th>\n",
       "      <th>KNeighborsRegressor</th>\n",
       "      <th>LinearRegression</th>\n",
       "      <th>Supportive Vector</th>\n",
       "      <th>DecisionTreeRegressor</th>\n",
       "      <th>GradientBoostingRegressor</th>\n",
       "      <th>Total Deformation Maximum</th>\n",
       "    </tr>\n",
       "  </thead>\n",
       "  <tbody>\n",
       "    <tr>\n",
       "      <th>0</th>\n",
       "      <td>8.478630</td>\n",
       "      <td>8.278793</td>\n",
       "      <td>8.488191</td>\n",
       "      <td>8.473338</td>\n",
       "      <td>8.481058</td>\n",
       "      <td>8.490665</td>\n",
       "      <td>8.481435</td>\n",
       "    </tr>\n",
       "    <tr>\n",
       "      <th>1</th>\n",
       "      <td>10.408062</td>\n",
       "      <td>10.490406</td>\n",
       "      <td>10.005585</td>\n",
       "      <td>9.905762</td>\n",
       "      <td>10.404872</td>\n",
       "      <td>10.401491</td>\n",
       "      <td>10.407047</td>\n",
       "    </tr>\n",
       "    <tr>\n",
       "      <th>2</th>\n",
       "      <td>9.552530</td>\n",
       "      <td>9.615137</td>\n",
       "      <td>9.567545</td>\n",
       "      <td>9.492909</td>\n",
       "      <td>9.551389</td>\n",
       "      <td>9.558162</td>\n",
       "      <td>9.553118</td>\n",
       "    </tr>\n",
       "    <tr>\n",
       "      <th>3</th>\n",
       "      <td>8.852025</td>\n",
       "      <td>8.843989</td>\n",
       "      <td>8.960109</td>\n",
       "      <td>8.918502</td>\n",
       "      <td>8.852022</td>\n",
       "      <td>8.837620</td>\n",
       "      <td>8.828754</td>\n",
       "    </tr>\n",
       "    <tr>\n",
       "      <th>4</th>\n",
       "      <td>10.701820</td>\n",
       "      <td>10.546678</td>\n",
       "      <td>10.790198</td>\n",
       "      <td>10.749912</td>\n",
       "      <td>10.686233</td>\n",
       "      <td>10.685555</td>\n",
       "      <td>10.683885</td>\n",
       "    </tr>\n",
       "  </tbody>\n",
       "</table>\n",
       "</div>"
      ],
      "text/plain": [
       "   RandomForestRegressor  KNeighborsRegressor  LinearRegression  \\\n",
       "0               8.478630             8.278793          8.488191   \n",
       "1              10.408062            10.490406         10.005585   \n",
       "2               9.552530             9.615137          9.567545   \n",
       "3               8.852025             8.843989          8.960109   \n",
       "4              10.701820            10.546678         10.790198   \n",
       "\n",
       "   Supportive Vector  DecisionTreeRegressor  GradientBoostingRegressor  \\\n",
       "0           8.473338               8.481058                   8.490665   \n",
       "1           9.905762              10.404872                  10.401491   \n",
       "2           9.492909               9.551389                   9.558162   \n",
       "3           8.918502               8.852022                   8.837620   \n",
       "4          10.749912              10.686233                  10.685555   \n",
       "\n",
       "   Total Deformation Maximum  \n",
       "0                   8.481435  \n",
       "1                  10.407047  \n",
       "2                   9.553118  \n",
       "3                   8.828754  \n",
       "4                  10.683885  "
      ]
     },
     "execution_count": 28,
     "metadata": {},
     "output_type": "execute_result"
    }
   ],
   "source": [
    "predicted_dis = parametricData( Y_test_dis, Y_pred_RFR_dis,Y_pred_KNN_dis,Y_pred_rid_dis,Y_pred_SVM_dis,Y_pred_DTR_dis,Y_pred_XGB_dis)\n",
    "predicted_dis.head()"
   ]
  },
  {
   "cell_type": "code",
   "execution_count": 29,
   "id": "f22bd540",
   "metadata": {
    "execution": {
     "iopub.execute_input": "2022-08-20T09:50:28.351778Z",
     "iopub.status.busy": "2022-08-20T09:50:28.350175Z",
     "iopub.status.idle": "2022-08-20T09:50:28.427991Z",
     "shell.execute_reply": "2022-08-20T09:50:28.427036Z"
    },
    "papermill": {
     "duration": 0.101276,
     "end_time": "2022-08-20T09:50:28.430328",
     "exception": false,
     "start_time": "2022-08-20T09:50:28.329052",
     "status": "completed"
    },
    "tags": []
   },
   "outputs": [
    {
     "data": {
      "text/html": [
       "<div>                            <div id=\"19abe9a9-f096-4a16-8969-37f155a09abc\" class=\"plotly-graph-div\" style=\"height:500px; width:1100px;\"></div>            <script type=\"text/javascript\">                require([\"plotly\"], function(Plotly) {                    window.PLOTLYENV=window.PLOTLYENV || {};                                    if (document.getElementById(\"19abe9a9-f096-4a16-8969-37f155a09abc\")) {                    Plotly.newPlot(                        \"19abe9a9-f096-4a16-8969-37f155a09abc\",                        [{\"hovertemplate\":\"variable=RandomForestRegressor<br>index=%{x}<br>value=%{y}<extra></extra>\",\"legendgroup\":\"RandomForestRegressor\",\"line\":{\"color\":\"#636efa\",\"dash\":\"solid\"},\"marker\":{\"symbol\":\"circle\"},\"mode\":\"lines\",\"name\":\"RandomForestRegressor\",\"orientation\":\"v\",\"showlegend\":true,\"x\":[0,1,2,3,4,5,6,7,8,9,10,11,12,13],\"xaxis\":\"x\",\"y\":[8.478630293747177,10.408062464983328,9.552529560867653,8.852025068998357,10.701819737575,8.852025068998357,7.948619122910004,8.852025068998357,8.90238570045468,8.819893183352821,8.391954035492509,10.689080971033347,9.777852278166655,7.954335061700002],\"yaxis\":\"y\",\"type\":\"scatter\"},{\"hovertemplate\":\"variable=KNeighborsRegressor<br>index=%{x}<br>value=%{y}<extra></extra>\",\"legendgroup\":\"KNeighborsRegressor\",\"line\":{\"color\":\"#EF553B\",\"dash\":\"solid\"},\"marker\":{\"symbol\":\"circle\"},\"mode\":\"lines\",\"name\":\"KNeighborsRegressor\",\"orientation\":\"v\",\"showlegend\":true,\"x\":[0,1,2,3,4,5,6,7,8,9,10,11,12,13],\"xaxis\":\"x\",\"y\":[8.278793083599998,10.490406238,9.615137231599999,8.8439893824,10.546678314000001,8.8524098672,8.2787930836,8.8515922252,8.8680363174,8.851592225200001,8.139868221,10.546678314000001,9.7048682074,8.278793083599998],\"yaxis\":\"y\",\"type\":\"scatter\"},{\"hovertemplate\":\"variable=LinearRegression<br>index=%{x}<br>value=%{y}<extra></extra>\",\"legendgroup\":\"LinearRegression\",\"line\":{\"color\":\"#00cc96\",\"dash\":\"solid\"},\"marker\":{\"symbol\":\"circle\"},\"mode\":\"lines\",\"name\":\"LinearRegression\",\"orientation\":\"v\",\"showlegend\":true,\"x\":[0,1,2,3,4,5,6,7,8,9,10,11,12,13],\"xaxis\":\"x\",\"y\":[8.488190505012199,10.005584661012334,9.567545107325934,8.960109215016605,10.790197502327775,8.99398849262333,8.095884072827968,8.9939884926773,9.027867770259853,8.993988494642403,8.258158011014073,10.790197510998553,9.959851532227177,8.095884077941294],\"yaxis\":\"y\",\"type\":\"scatter\"},{\"hovertemplate\":\"variable=Supportive Vector<br>index=%{x}<br>value=%{y}<extra></extra>\",\"legendgroup\":\"Supportive Vector\",\"line\":{\"color\":\"#ab63fa\",\"dash\":\"solid\"},\"marker\":{\"symbol\":\"circle\"},\"mode\":\"lines\",\"name\":\"Supportive Vector\",\"orientation\":\"v\",\"showlegend\":true,\"x\":[0,1,2,3,4,5,6,7,8,9,10,11,12,13],\"xaxis\":\"x\",\"y\":[8.473338165002271,9.90576232262006,9.492908660848254,8.918502072660115,10.749911663055311,8.950812688041108,8.051263459647227,8.95081268825211,8.983123303545792,8.950812694203844,8.229990196059727,10.749911689459761,9.914983344004352,8.0512634752105],\"yaxis\":\"y\",\"type\":\"scatter\"},{\"hovertemplate\":\"variable=DecisionTreeRegressor<br>index=%{x}<br>value=%{y}<extra></extra>\",\"legendgroup\":\"DecisionTreeRegressor\",\"line\":{\"color\":\"#FFA15A\",\"dash\":\"solid\"},\"marker\":{\"symbol\":\"circle\"},\"mode\":\"lines\",\"name\":\"DecisionTreeRegressor\",\"orientation\":\"v\",\"showlegend\":true,\"x\":[0,1,2,3,4,5,6,7,8,9,10,11,12,13],\"xaxis\":\"x\",\"y\":[8.481057766,10.4048723,9.55138869,8.852021788,10.68623268,8.852021788,7.9582602,8.852021788,8.933219865,8.852021788,7.609888481,10.68257387,9.783745365,7.968886986],\"yaxis\":\"y\",\"type\":\"scatter\"},{\"hovertemplate\":\"variable=GradientBoostingRegressor<br>index=%{x}<br>value=%{y}<extra></extra>\",\"legendgroup\":\"GradientBoostingRegressor\",\"line\":{\"color\":\"#19d3f3\",\"dash\":\"solid\"},\"marker\":{\"symbol\":\"circle\"},\"mode\":\"lines\",\"name\":\"GradientBoostingRegressor\",\"orientation\":\"v\",\"showlegend\":true,\"x\":[0,1,2,3,4,5,6,7,8,9,10,11,12,13],\"xaxis\":\"x\",\"y\":[8.490665055489465,10.401490891061929,9.558162442536318,8.837619837317561,10.685555330178527,8.853513198799495,7.952684735431109,8.853513198799495,8.902789421524876,8.85505063800866,8.378508395033005,10.682926373257102,9.782215735673951,7.958037727900421],\"yaxis\":\"y\",\"type\":\"scatter\"},{\"hovertemplate\":\"variable=Total Deformation Maximum<br>index=%{x}<br>value=%{y}<extra></extra>\",\"legendgroup\":\"Total Deformation Maximum\",\"line\":{\"color\":\"#FF6692\",\"dash\":\"solid\"},\"marker\":{\"symbol\":\"circle\"},\"mode\":\"lines\",\"name\":\"Total Deformation Maximum\",\"orientation\":\"v\",\"showlegend\":true,\"x\":[0,1,2,3,4,5,6,7,8,9,10,11,12,13],\"xaxis\":\"x\",\"y\":[8.481435117,10.40704662,9.553118072,8.828753783,10.68388484,8.850985077,7.955501738,8.851534545,8.885698218,8.850459502,8.190292386,10.68542729,9.783779416,7.963855746],\"yaxis\":\"y\",\"type\":\"scatter\"}],                        {\"template\":{\"data\":{\"histogram2dcontour\":[{\"type\":\"histogram2dcontour\",\"colorbar\":{\"outlinewidth\":0,\"ticks\":\"\"},\"colorscale\":[[0.0,\"#0d0887\"],[0.1111111111111111,\"#46039f\"],[0.2222222222222222,\"#7201a8\"],[0.3333333333333333,\"#9c179e\"],[0.4444444444444444,\"#bd3786\"],[0.5555555555555556,\"#d8576b\"],[0.6666666666666666,\"#ed7953\"],[0.7777777777777778,\"#fb9f3a\"],[0.8888888888888888,\"#fdca26\"],[1.0,\"#f0f921\"]]}],\"choropleth\":[{\"type\":\"choropleth\",\"colorbar\":{\"outlinewidth\":0,\"ticks\":\"\"}}],\"histogram2d\":[{\"type\":\"histogram2d\",\"colorbar\":{\"outlinewidth\":0,\"ticks\":\"\"},\"colorscale\":[[0.0,\"#0d0887\"],[0.1111111111111111,\"#46039f\"],[0.2222222222222222,\"#7201a8\"],[0.3333333333333333,\"#9c179e\"],[0.4444444444444444,\"#bd3786\"],[0.5555555555555556,\"#d8576b\"],[0.6666666666666666,\"#ed7953\"],[0.7777777777777778,\"#fb9f3a\"],[0.8888888888888888,\"#fdca26\"],[1.0,\"#f0f921\"]]}],\"heatmap\":[{\"type\":\"heatmap\",\"colorbar\":{\"outlinewidth\":0,\"ticks\":\"\"},\"colorscale\":[[0.0,\"#0d0887\"],[0.1111111111111111,\"#46039f\"],[0.2222222222222222,\"#7201a8\"],[0.3333333333333333,\"#9c179e\"],[0.4444444444444444,\"#bd3786\"],[0.5555555555555556,\"#d8576b\"],[0.6666666666666666,\"#ed7953\"],[0.7777777777777778,\"#fb9f3a\"],[0.8888888888888888,\"#fdca26\"],[1.0,\"#f0f921\"]]}],\"heatmapgl\":[{\"type\":\"heatmapgl\",\"colorbar\":{\"outlinewidth\":0,\"ticks\":\"\"},\"colorscale\":[[0.0,\"#0d0887\"],[0.1111111111111111,\"#46039f\"],[0.2222222222222222,\"#7201a8\"],[0.3333333333333333,\"#9c179e\"],[0.4444444444444444,\"#bd3786\"],[0.5555555555555556,\"#d8576b\"],[0.6666666666666666,\"#ed7953\"],[0.7777777777777778,\"#fb9f3a\"],[0.8888888888888888,\"#fdca26\"],[1.0,\"#f0f921\"]]}],\"contourcarpet\":[{\"type\":\"contourcarpet\",\"colorbar\":{\"outlinewidth\":0,\"ticks\":\"\"}}],\"contour\":[{\"type\":\"contour\",\"colorbar\":{\"outlinewidth\":0,\"ticks\":\"\"},\"colorscale\":[[0.0,\"#0d0887\"],[0.1111111111111111,\"#46039f\"],[0.2222222222222222,\"#7201a8\"],[0.3333333333333333,\"#9c179e\"],[0.4444444444444444,\"#bd3786\"],[0.5555555555555556,\"#d8576b\"],[0.6666666666666666,\"#ed7953\"],[0.7777777777777778,\"#fb9f3a\"],[0.8888888888888888,\"#fdca26\"],[1.0,\"#f0f921\"]]}],\"surface\":[{\"type\":\"surface\",\"colorbar\":{\"outlinewidth\":0,\"ticks\":\"\"},\"colorscale\":[[0.0,\"#0d0887\"],[0.1111111111111111,\"#46039f\"],[0.2222222222222222,\"#7201a8\"],[0.3333333333333333,\"#9c179e\"],[0.4444444444444444,\"#bd3786\"],[0.5555555555555556,\"#d8576b\"],[0.6666666666666666,\"#ed7953\"],[0.7777777777777778,\"#fb9f3a\"],[0.8888888888888888,\"#fdca26\"],[1.0,\"#f0f921\"]]}],\"mesh3d\":[{\"type\":\"mesh3d\",\"colorbar\":{\"outlinewidth\":0,\"ticks\":\"\"}}],\"scatter\":[{\"fillpattern\":{\"fillmode\":\"overlay\",\"size\":10,\"solidity\":0.2},\"type\":\"scatter\"}],\"parcoords\":[{\"type\":\"parcoords\",\"line\":{\"colorbar\":{\"outlinewidth\":0,\"ticks\":\"\"}}}],\"scatterpolargl\":[{\"type\":\"scatterpolargl\",\"marker\":{\"colorbar\":{\"outlinewidth\":0,\"ticks\":\"\"}}}],\"bar\":[{\"error_x\":{\"color\":\"#2a3f5f\"},\"error_y\":{\"color\":\"#2a3f5f\"},\"marker\":{\"line\":{\"color\":\"#E5ECF6\",\"width\":0.5},\"pattern\":{\"fillmode\":\"overlay\",\"size\":10,\"solidity\":0.2}},\"type\":\"bar\"}],\"scattergeo\":[{\"type\":\"scattergeo\",\"marker\":{\"colorbar\":{\"outlinewidth\":0,\"ticks\":\"\"}}}],\"scatterpolar\":[{\"type\":\"scatterpolar\",\"marker\":{\"colorbar\":{\"outlinewidth\":0,\"ticks\":\"\"}}}],\"histogram\":[{\"marker\":{\"pattern\":{\"fillmode\":\"overlay\",\"size\":10,\"solidity\":0.2}},\"type\":\"histogram\"}],\"scattergl\":[{\"type\":\"scattergl\",\"marker\":{\"colorbar\":{\"outlinewidth\":0,\"ticks\":\"\"}}}],\"scatter3d\":[{\"type\":\"scatter3d\",\"line\":{\"colorbar\":{\"outlinewidth\":0,\"ticks\":\"\"}},\"marker\":{\"colorbar\":{\"outlinewidth\":0,\"ticks\":\"\"}}}],\"scattermapbox\":[{\"type\":\"scattermapbox\",\"marker\":{\"colorbar\":{\"outlinewidth\":0,\"ticks\":\"\"}}}],\"scatterternary\":[{\"type\":\"scatterternary\",\"marker\":{\"colorbar\":{\"outlinewidth\":0,\"ticks\":\"\"}}}],\"scattercarpet\":[{\"type\":\"scattercarpet\",\"marker\":{\"colorbar\":{\"outlinewidth\":0,\"ticks\":\"\"}}}],\"carpet\":[{\"aaxis\":{\"endlinecolor\":\"#2a3f5f\",\"gridcolor\":\"white\",\"linecolor\":\"white\",\"minorgridcolor\":\"white\",\"startlinecolor\":\"#2a3f5f\"},\"baxis\":{\"endlinecolor\":\"#2a3f5f\",\"gridcolor\":\"white\",\"linecolor\":\"white\",\"minorgridcolor\":\"white\",\"startlinecolor\":\"#2a3f5f\"},\"type\":\"carpet\"}],\"table\":[{\"cells\":{\"fill\":{\"color\":\"#EBF0F8\"},\"line\":{\"color\":\"white\"}},\"header\":{\"fill\":{\"color\":\"#C8D4E3\"},\"line\":{\"color\":\"white\"}},\"type\":\"table\"}],\"barpolar\":[{\"marker\":{\"line\":{\"color\":\"#E5ECF6\",\"width\":0.5},\"pattern\":{\"fillmode\":\"overlay\",\"size\":10,\"solidity\":0.2}},\"type\":\"barpolar\"}],\"pie\":[{\"automargin\":true,\"type\":\"pie\"}]},\"layout\":{\"autotypenumbers\":\"strict\",\"colorway\":[\"#636efa\",\"#EF553B\",\"#00cc96\",\"#ab63fa\",\"#FFA15A\",\"#19d3f3\",\"#FF6692\",\"#B6E880\",\"#FF97FF\",\"#FECB52\"],\"font\":{\"color\":\"#2a3f5f\"},\"hovermode\":\"closest\",\"hoverlabel\":{\"align\":\"left\"},\"paper_bgcolor\":\"white\",\"plot_bgcolor\":\"#E5ECF6\",\"polar\":{\"bgcolor\":\"#E5ECF6\",\"angularaxis\":{\"gridcolor\":\"white\",\"linecolor\":\"white\",\"ticks\":\"\"},\"radialaxis\":{\"gridcolor\":\"white\",\"linecolor\":\"white\",\"ticks\":\"\"}},\"ternary\":{\"bgcolor\":\"#E5ECF6\",\"aaxis\":{\"gridcolor\":\"white\",\"linecolor\":\"white\",\"ticks\":\"\"},\"baxis\":{\"gridcolor\":\"white\",\"linecolor\":\"white\",\"ticks\":\"\"},\"caxis\":{\"gridcolor\":\"white\",\"linecolor\":\"white\",\"ticks\":\"\"}},\"coloraxis\":{\"colorbar\":{\"outlinewidth\":0,\"ticks\":\"\"}},\"colorscale\":{\"sequential\":[[0.0,\"#0d0887\"],[0.1111111111111111,\"#46039f\"],[0.2222222222222222,\"#7201a8\"],[0.3333333333333333,\"#9c179e\"],[0.4444444444444444,\"#bd3786\"],[0.5555555555555556,\"#d8576b\"],[0.6666666666666666,\"#ed7953\"],[0.7777777777777778,\"#fb9f3a\"],[0.8888888888888888,\"#fdca26\"],[1.0,\"#f0f921\"]],\"sequentialminus\":[[0.0,\"#0d0887\"],[0.1111111111111111,\"#46039f\"],[0.2222222222222222,\"#7201a8\"],[0.3333333333333333,\"#9c179e\"],[0.4444444444444444,\"#bd3786\"],[0.5555555555555556,\"#d8576b\"],[0.6666666666666666,\"#ed7953\"],[0.7777777777777778,\"#fb9f3a\"],[0.8888888888888888,\"#fdca26\"],[1.0,\"#f0f921\"]],\"diverging\":[[0,\"#8e0152\"],[0.1,\"#c51b7d\"],[0.2,\"#de77ae\"],[0.3,\"#f1b6da\"],[0.4,\"#fde0ef\"],[0.5,\"#f7f7f7\"],[0.6,\"#e6f5d0\"],[0.7,\"#b8e186\"],[0.8,\"#7fbc41\"],[0.9,\"#4d9221\"],[1,\"#276419\"]]},\"xaxis\":{\"gridcolor\":\"white\",\"linecolor\":\"white\",\"ticks\":\"\",\"title\":{\"standoff\":15},\"zerolinecolor\":\"white\",\"automargin\":true,\"zerolinewidth\":2},\"yaxis\":{\"gridcolor\":\"white\",\"linecolor\":\"white\",\"ticks\":\"\",\"title\":{\"standoff\":15},\"zerolinecolor\":\"white\",\"automargin\":true,\"zerolinewidth\":2},\"scene\":{\"xaxis\":{\"backgroundcolor\":\"#E5ECF6\",\"gridcolor\":\"white\",\"linecolor\":\"white\",\"showbackground\":true,\"ticks\":\"\",\"zerolinecolor\":\"white\",\"gridwidth\":2},\"yaxis\":{\"backgroundcolor\":\"#E5ECF6\",\"gridcolor\":\"white\",\"linecolor\":\"white\",\"showbackground\":true,\"ticks\":\"\",\"zerolinecolor\":\"white\",\"gridwidth\":2},\"zaxis\":{\"backgroundcolor\":\"#E5ECF6\",\"gridcolor\":\"white\",\"linecolor\":\"white\",\"showbackground\":true,\"ticks\":\"\",\"zerolinecolor\":\"white\",\"gridwidth\":2}},\"shapedefaults\":{\"line\":{\"color\":\"#2a3f5f\"}},\"annotationdefaults\":{\"arrowcolor\":\"#2a3f5f\",\"arrowhead\":0,\"arrowwidth\":1},\"geo\":{\"bgcolor\":\"white\",\"landcolor\":\"#E5ECF6\",\"subunitcolor\":\"white\",\"showland\":true,\"showlakes\":true,\"lakecolor\":\"white\"},\"title\":{\"x\":0.05},\"mapbox\":{\"style\":\"light\"}}},\"xaxis\":{\"anchor\":\"y\",\"domain\":[0.0,1.0],\"title\":{\"text\":\"index\"}},\"yaxis\":{\"anchor\":\"x\",\"domain\":[0.0,1.0],\"title\":{\"text\":\"value\"}},\"legend\":{\"title\":{\"text\":\"variable\"},\"tracegroupgap\":0},\"title\":{\"text\":\"Total Displacement  Analysis\"},\"height\":500,\"width\":1100},                        {\"responsive\": true}                    ).then(function(){\n",
       "                            \n",
       "var gd = document.getElementById('19abe9a9-f096-4a16-8969-37f155a09abc');\n",
       "var x = new MutationObserver(function (mutations, observer) {{\n",
       "        var display = window.getComputedStyle(gd).display;\n",
       "        if (!display || display === 'none') {{\n",
       "            console.log([gd, 'removed!']);\n",
       "            Plotly.purge(gd);\n",
       "            observer.disconnect();\n",
       "        }}\n",
       "}});\n",
       "\n",
       "// Listen for the removal of the full notebook cells\n",
       "var notebookContainer = gd.closest('#notebook-container');\n",
       "if (notebookContainer) {{\n",
       "    x.observe(notebookContainer, {childList: true});\n",
       "}}\n",
       "\n",
       "// Listen for the clearing of the current output cell\n",
       "var outputEl = gd.closest('.output');\n",
       "if (outputEl) {{\n",
       "    x.observe(outputEl, {childList: true});\n",
       "}}\n",
       "\n",
       "                        })                };                });            </script>        </div>"
      ]
     },
     "metadata": {},
     "output_type": "display_data"
    }
   ],
   "source": [
    "px.line(predicted_dis,title = 'Total Displacement  Analysis', width=1100,height=500)"
   ]
  },
  {
   "cell_type": "code",
   "execution_count": 30,
   "id": "ffff9d4f",
   "metadata": {
    "execution": {
     "iopub.execute_input": "2022-08-20T09:50:28.473454Z",
     "iopub.status.busy": "2022-08-20T09:50:28.473140Z",
     "iopub.status.idle": "2022-08-20T09:50:28.552371Z",
     "shell.execute_reply": "2022-08-20T09:50:28.551299Z"
    },
    "papermill": {
     "duration": 0.103317,
     "end_time": "2022-08-20T09:50:28.554383",
     "exception": false,
     "start_time": "2022-08-20T09:50:28.451066",
     "status": "completed"
    },
    "tags": []
   },
   "outputs": [
    {
     "data": {
      "text/html": [
       "<div>                            <div id=\"8c43df13-a8da-4172-9ecc-27df2250383a\" class=\"plotly-graph-div\" style=\"height:500px; width:1100px;\"></div>            <script type=\"text/javascript\">                require([\"plotly\"], function(Plotly) {                    window.PLOTLYENV=window.PLOTLYENV || {};                                    if (document.getElementById(\"8c43df13-a8da-4172-9ecc-27df2250383a\")) {                    Plotly.newPlot(                        \"8c43df13-a8da-4172-9ecc-27df2250383a\",                        [{\"hovertemplate\":\"variable=RandomForestRegressor<br>index=%{x}<br>value=%{y}<extra></extra>\",\"legendgroup\":\"RandomForestRegressor\",\"marker\":{\"color\":\"#636efa\",\"symbol\":\"circle\",\"size\":12},\"mode\":\"markers\",\"name\":\"RandomForestRegressor\",\"orientation\":\"v\",\"showlegend\":true,\"x\":[0,1,2,3,4,5,6,7,8,9,10,11,12,13],\"xaxis\":\"x\",\"y\":[8.478630293747177,10.408062464983328,9.552529560867653,8.852025068998357,10.701819737575,8.852025068998357,7.948619122910004,8.852025068998357,8.90238570045468,8.819893183352821,8.391954035492509,10.689080971033347,9.777852278166655,7.954335061700002],\"yaxis\":\"y\",\"type\":\"scatter\"},{\"hovertemplate\":\"variable=KNeighborsRegressor<br>index=%{x}<br>value=%{y}<extra></extra>\",\"legendgroup\":\"KNeighborsRegressor\",\"marker\":{\"color\":\"#EF553B\",\"symbol\":\"circle\",\"size\":12},\"mode\":\"markers\",\"name\":\"KNeighborsRegressor\",\"orientation\":\"v\",\"showlegend\":true,\"x\":[0,1,2,3,4,5,6,7,8,9,10,11,12,13],\"xaxis\":\"x\",\"y\":[8.278793083599998,10.490406238,9.615137231599999,8.8439893824,10.546678314000001,8.8524098672,8.2787930836,8.8515922252,8.8680363174,8.851592225200001,8.139868221,10.546678314000001,9.7048682074,8.278793083599998],\"yaxis\":\"y\",\"type\":\"scatter\"},{\"hovertemplate\":\"variable=LinearRegression<br>index=%{x}<br>value=%{y}<extra></extra>\",\"legendgroup\":\"LinearRegression\",\"marker\":{\"color\":\"#00cc96\",\"symbol\":\"circle\",\"size\":12},\"mode\":\"markers\",\"name\":\"LinearRegression\",\"orientation\":\"v\",\"showlegend\":true,\"x\":[0,1,2,3,4,5,6,7,8,9,10,11,12,13],\"xaxis\":\"x\",\"y\":[8.488190505012199,10.005584661012334,9.567545107325934,8.960109215016605,10.790197502327775,8.99398849262333,8.095884072827968,8.9939884926773,9.027867770259853,8.993988494642403,8.258158011014073,10.790197510998553,9.959851532227177,8.095884077941294],\"yaxis\":\"y\",\"type\":\"scatter\"},{\"hovertemplate\":\"variable=Supportive Vector<br>index=%{x}<br>value=%{y}<extra></extra>\",\"legendgroup\":\"Supportive Vector\",\"marker\":{\"color\":\"#ab63fa\",\"symbol\":\"circle\",\"size\":12},\"mode\":\"markers\",\"name\":\"Supportive Vector\",\"orientation\":\"v\",\"showlegend\":true,\"x\":[0,1,2,3,4,5,6,7,8,9,10,11,12,13],\"xaxis\":\"x\",\"y\":[8.473338165002271,9.90576232262006,9.492908660848254,8.918502072660115,10.749911663055311,8.950812688041108,8.051263459647227,8.95081268825211,8.983123303545792,8.950812694203844,8.229990196059727,10.749911689459761,9.914983344004352,8.0512634752105],\"yaxis\":\"y\",\"type\":\"scatter\"},{\"hovertemplate\":\"variable=DecisionTreeRegressor<br>index=%{x}<br>value=%{y}<extra></extra>\",\"legendgroup\":\"DecisionTreeRegressor\",\"marker\":{\"color\":\"#FFA15A\",\"symbol\":\"circle\",\"size\":12},\"mode\":\"markers\",\"name\":\"DecisionTreeRegressor\",\"orientation\":\"v\",\"showlegend\":true,\"x\":[0,1,2,3,4,5,6,7,8,9,10,11,12,13],\"xaxis\":\"x\",\"y\":[8.481057766,10.4048723,9.55138869,8.852021788,10.68623268,8.852021788,7.9582602,8.852021788,8.933219865,8.852021788,7.609888481,10.68257387,9.783745365,7.968886986],\"yaxis\":\"y\",\"type\":\"scatter\"},{\"hovertemplate\":\"variable=GradientBoostingRegressor<br>index=%{x}<br>value=%{y}<extra></extra>\",\"legendgroup\":\"GradientBoostingRegressor\",\"marker\":{\"color\":\"#19d3f3\",\"symbol\":\"circle\",\"size\":12},\"mode\":\"markers\",\"name\":\"GradientBoostingRegressor\",\"orientation\":\"v\",\"showlegend\":true,\"x\":[0,1,2,3,4,5,6,7,8,9,10,11,12,13],\"xaxis\":\"x\",\"y\":[8.490665055489465,10.401490891061929,9.558162442536318,8.837619837317561,10.685555330178527,8.853513198799495,7.952684735431109,8.853513198799495,8.902789421524876,8.85505063800866,8.378508395033005,10.682926373257102,9.782215735673951,7.958037727900421],\"yaxis\":\"y\",\"type\":\"scatter\"},{\"hovertemplate\":\"variable=Total Deformation Maximum<br>index=%{x}<br>value=%{y}<extra></extra>\",\"legendgroup\":\"Total Deformation Maximum\",\"marker\":{\"color\":\"#FF6692\",\"symbol\":\"circle\",\"size\":12},\"mode\":\"markers\",\"name\":\"Total Deformation Maximum\",\"orientation\":\"v\",\"showlegend\":true,\"x\":[0,1,2,3,4,5,6,7,8,9,10,11,12,13],\"xaxis\":\"x\",\"y\":[8.481435117,10.40704662,9.553118072,8.828753783,10.68388484,8.850985077,7.955501738,8.851534545,8.885698218,8.850459502,8.190292386,10.68542729,9.783779416,7.963855746],\"yaxis\":\"y\",\"type\":\"scatter\"}],                        {\"template\":{\"data\":{\"histogram2dcontour\":[{\"type\":\"histogram2dcontour\",\"colorbar\":{\"outlinewidth\":0,\"ticks\":\"\"},\"colorscale\":[[0.0,\"#0d0887\"],[0.1111111111111111,\"#46039f\"],[0.2222222222222222,\"#7201a8\"],[0.3333333333333333,\"#9c179e\"],[0.4444444444444444,\"#bd3786\"],[0.5555555555555556,\"#d8576b\"],[0.6666666666666666,\"#ed7953\"],[0.7777777777777778,\"#fb9f3a\"],[0.8888888888888888,\"#fdca26\"],[1.0,\"#f0f921\"]]}],\"choropleth\":[{\"type\":\"choropleth\",\"colorbar\":{\"outlinewidth\":0,\"ticks\":\"\"}}],\"histogram2d\":[{\"type\":\"histogram2d\",\"colorbar\":{\"outlinewidth\":0,\"ticks\":\"\"},\"colorscale\":[[0.0,\"#0d0887\"],[0.1111111111111111,\"#46039f\"],[0.2222222222222222,\"#7201a8\"],[0.3333333333333333,\"#9c179e\"],[0.4444444444444444,\"#bd3786\"],[0.5555555555555556,\"#d8576b\"],[0.6666666666666666,\"#ed7953\"],[0.7777777777777778,\"#fb9f3a\"],[0.8888888888888888,\"#fdca26\"],[1.0,\"#f0f921\"]]}],\"heatmap\":[{\"type\":\"heatmap\",\"colorbar\":{\"outlinewidth\":0,\"ticks\":\"\"},\"colorscale\":[[0.0,\"#0d0887\"],[0.1111111111111111,\"#46039f\"],[0.2222222222222222,\"#7201a8\"],[0.3333333333333333,\"#9c179e\"],[0.4444444444444444,\"#bd3786\"],[0.5555555555555556,\"#d8576b\"],[0.6666666666666666,\"#ed7953\"],[0.7777777777777778,\"#fb9f3a\"],[0.8888888888888888,\"#fdca26\"],[1.0,\"#f0f921\"]]}],\"heatmapgl\":[{\"type\":\"heatmapgl\",\"colorbar\":{\"outlinewidth\":0,\"ticks\":\"\"},\"colorscale\":[[0.0,\"#0d0887\"],[0.1111111111111111,\"#46039f\"],[0.2222222222222222,\"#7201a8\"],[0.3333333333333333,\"#9c179e\"],[0.4444444444444444,\"#bd3786\"],[0.5555555555555556,\"#d8576b\"],[0.6666666666666666,\"#ed7953\"],[0.7777777777777778,\"#fb9f3a\"],[0.8888888888888888,\"#fdca26\"],[1.0,\"#f0f921\"]]}],\"contourcarpet\":[{\"type\":\"contourcarpet\",\"colorbar\":{\"outlinewidth\":0,\"ticks\":\"\"}}],\"contour\":[{\"type\":\"contour\",\"colorbar\":{\"outlinewidth\":0,\"ticks\":\"\"},\"colorscale\":[[0.0,\"#0d0887\"],[0.1111111111111111,\"#46039f\"],[0.2222222222222222,\"#7201a8\"],[0.3333333333333333,\"#9c179e\"],[0.4444444444444444,\"#bd3786\"],[0.5555555555555556,\"#d8576b\"],[0.6666666666666666,\"#ed7953\"],[0.7777777777777778,\"#fb9f3a\"],[0.8888888888888888,\"#fdca26\"],[1.0,\"#f0f921\"]]}],\"surface\":[{\"type\":\"surface\",\"colorbar\":{\"outlinewidth\":0,\"ticks\":\"\"},\"colorscale\":[[0.0,\"#0d0887\"],[0.1111111111111111,\"#46039f\"],[0.2222222222222222,\"#7201a8\"],[0.3333333333333333,\"#9c179e\"],[0.4444444444444444,\"#bd3786\"],[0.5555555555555556,\"#d8576b\"],[0.6666666666666666,\"#ed7953\"],[0.7777777777777778,\"#fb9f3a\"],[0.8888888888888888,\"#fdca26\"],[1.0,\"#f0f921\"]]}],\"mesh3d\":[{\"type\":\"mesh3d\",\"colorbar\":{\"outlinewidth\":0,\"ticks\":\"\"}}],\"scatter\":[{\"fillpattern\":{\"fillmode\":\"overlay\",\"size\":10,\"solidity\":0.2},\"type\":\"scatter\"}],\"parcoords\":[{\"type\":\"parcoords\",\"line\":{\"colorbar\":{\"outlinewidth\":0,\"ticks\":\"\"}}}],\"scatterpolargl\":[{\"type\":\"scatterpolargl\",\"marker\":{\"colorbar\":{\"outlinewidth\":0,\"ticks\":\"\"}}}],\"bar\":[{\"error_x\":{\"color\":\"#2a3f5f\"},\"error_y\":{\"color\":\"#2a3f5f\"},\"marker\":{\"line\":{\"color\":\"#E5ECF6\",\"width\":0.5},\"pattern\":{\"fillmode\":\"overlay\",\"size\":10,\"solidity\":0.2}},\"type\":\"bar\"}],\"scattergeo\":[{\"type\":\"scattergeo\",\"marker\":{\"colorbar\":{\"outlinewidth\":0,\"ticks\":\"\"}}}],\"scatterpolar\":[{\"type\":\"scatterpolar\",\"marker\":{\"colorbar\":{\"outlinewidth\":0,\"ticks\":\"\"}}}],\"histogram\":[{\"marker\":{\"pattern\":{\"fillmode\":\"overlay\",\"size\":10,\"solidity\":0.2}},\"type\":\"histogram\"}],\"scattergl\":[{\"type\":\"scattergl\",\"marker\":{\"colorbar\":{\"outlinewidth\":0,\"ticks\":\"\"}}}],\"scatter3d\":[{\"type\":\"scatter3d\",\"line\":{\"colorbar\":{\"outlinewidth\":0,\"ticks\":\"\"}},\"marker\":{\"colorbar\":{\"outlinewidth\":0,\"ticks\":\"\"}}}],\"scattermapbox\":[{\"type\":\"scattermapbox\",\"marker\":{\"colorbar\":{\"outlinewidth\":0,\"ticks\":\"\"}}}],\"scatterternary\":[{\"type\":\"scatterternary\",\"marker\":{\"colorbar\":{\"outlinewidth\":0,\"ticks\":\"\"}}}],\"scattercarpet\":[{\"type\":\"scattercarpet\",\"marker\":{\"colorbar\":{\"outlinewidth\":0,\"ticks\":\"\"}}}],\"carpet\":[{\"aaxis\":{\"endlinecolor\":\"#2a3f5f\",\"gridcolor\":\"white\",\"linecolor\":\"white\",\"minorgridcolor\":\"white\",\"startlinecolor\":\"#2a3f5f\"},\"baxis\":{\"endlinecolor\":\"#2a3f5f\",\"gridcolor\":\"white\",\"linecolor\":\"white\",\"minorgridcolor\":\"white\",\"startlinecolor\":\"#2a3f5f\"},\"type\":\"carpet\"}],\"table\":[{\"cells\":{\"fill\":{\"color\":\"#EBF0F8\"},\"line\":{\"color\":\"white\"}},\"header\":{\"fill\":{\"color\":\"#C8D4E3\"},\"line\":{\"color\":\"white\"}},\"type\":\"table\"}],\"barpolar\":[{\"marker\":{\"line\":{\"color\":\"#E5ECF6\",\"width\":0.5},\"pattern\":{\"fillmode\":\"overlay\",\"size\":10,\"solidity\":0.2}},\"type\":\"barpolar\"}],\"pie\":[{\"automargin\":true,\"type\":\"pie\"}]},\"layout\":{\"autotypenumbers\":\"strict\",\"colorway\":[\"#636efa\",\"#EF553B\",\"#00cc96\",\"#ab63fa\",\"#FFA15A\",\"#19d3f3\",\"#FF6692\",\"#B6E880\",\"#FF97FF\",\"#FECB52\"],\"font\":{\"color\":\"#2a3f5f\"},\"hovermode\":\"closest\",\"hoverlabel\":{\"align\":\"left\"},\"paper_bgcolor\":\"white\",\"plot_bgcolor\":\"#E5ECF6\",\"polar\":{\"bgcolor\":\"#E5ECF6\",\"angularaxis\":{\"gridcolor\":\"white\",\"linecolor\":\"white\",\"ticks\":\"\"},\"radialaxis\":{\"gridcolor\":\"white\",\"linecolor\":\"white\",\"ticks\":\"\"}},\"ternary\":{\"bgcolor\":\"#E5ECF6\",\"aaxis\":{\"gridcolor\":\"white\",\"linecolor\":\"white\",\"ticks\":\"\"},\"baxis\":{\"gridcolor\":\"white\",\"linecolor\":\"white\",\"ticks\":\"\"},\"caxis\":{\"gridcolor\":\"white\",\"linecolor\":\"white\",\"ticks\":\"\"}},\"coloraxis\":{\"colorbar\":{\"outlinewidth\":0,\"ticks\":\"\"}},\"colorscale\":{\"sequential\":[[0.0,\"#0d0887\"],[0.1111111111111111,\"#46039f\"],[0.2222222222222222,\"#7201a8\"],[0.3333333333333333,\"#9c179e\"],[0.4444444444444444,\"#bd3786\"],[0.5555555555555556,\"#d8576b\"],[0.6666666666666666,\"#ed7953\"],[0.7777777777777778,\"#fb9f3a\"],[0.8888888888888888,\"#fdca26\"],[1.0,\"#f0f921\"]],\"sequentialminus\":[[0.0,\"#0d0887\"],[0.1111111111111111,\"#46039f\"],[0.2222222222222222,\"#7201a8\"],[0.3333333333333333,\"#9c179e\"],[0.4444444444444444,\"#bd3786\"],[0.5555555555555556,\"#d8576b\"],[0.6666666666666666,\"#ed7953\"],[0.7777777777777778,\"#fb9f3a\"],[0.8888888888888888,\"#fdca26\"],[1.0,\"#f0f921\"]],\"diverging\":[[0,\"#8e0152\"],[0.1,\"#c51b7d\"],[0.2,\"#de77ae\"],[0.3,\"#f1b6da\"],[0.4,\"#fde0ef\"],[0.5,\"#f7f7f7\"],[0.6,\"#e6f5d0\"],[0.7,\"#b8e186\"],[0.8,\"#7fbc41\"],[0.9,\"#4d9221\"],[1,\"#276419\"]]},\"xaxis\":{\"gridcolor\":\"white\",\"linecolor\":\"white\",\"ticks\":\"\",\"title\":{\"standoff\":15},\"zerolinecolor\":\"white\",\"automargin\":true,\"zerolinewidth\":2},\"yaxis\":{\"gridcolor\":\"white\",\"linecolor\":\"white\",\"ticks\":\"\",\"title\":{\"standoff\":15},\"zerolinecolor\":\"white\",\"automargin\":true,\"zerolinewidth\":2},\"scene\":{\"xaxis\":{\"backgroundcolor\":\"#E5ECF6\",\"gridcolor\":\"white\",\"linecolor\":\"white\",\"showbackground\":true,\"ticks\":\"\",\"zerolinecolor\":\"white\",\"gridwidth\":2},\"yaxis\":{\"backgroundcolor\":\"#E5ECF6\",\"gridcolor\":\"white\",\"linecolor\":\"white\",\"showbackground\":true,\"ticks\":\"\",\"zerolinecolor\":\"white\",\"gridwidth\":2},\"zaxis\":{\"backgroundcolor\":\"#E5ECF6\",\"gridcolor\":\"white\",\"linecolor\":\"white\",\"showbackground\":true,\"ticks\":\"\",\"zerolinecolor\":\"white\",\"gridwidth\":2}},\"shapedefaults\":{\"line\":{\"color\":\"#2a3f5f\"}},\"annotationdefaults\":{\"arrowcolor\":\"#2a3f5f\",\"arrowhead\":0,\"arrowwidth\":1},\"geo\":{\"bgcolor\":\"white\",\"landcolor\":\"#E5ECF6\",\"subunitcolor\":\"white\",\"showland\":true,\"showlakes\":true,\"lakecolor\":\"white\"},\"title\":{\"x\":0.05},\"mapbox\":{\"style\":\"light\"}}},\"xaxis\":{\"anchor\":\"y\",\"domain\":[0.0,1.0],\"title\":{\"text\":\"index\"}},\"yaxis\":{\"anchor\":\"x\",\"domain\":[0.0,1.0],\"title\":{\"text\":\"value\"}},\"legend\":{\"title\":{\"text\":\"variable\"},\"tracegroupgap\":0},\"title\":{\"text\":\"Total Displacement  Analysis\"},\"height\":500,\"width\":1100},                        {\"responsive\": true}                    ).then(function(){\n",
       "                            \n",
       "var gd = document.getElementById('8c43df13-a8da-4172-9ecc-27df2250383a');\n",
       "var x = new MutationObserver(function (mutations, observer) {{\n",
       "        var display = window.getComputedStyle(gd).display;\n",
       "        if (!display || display === 'none') {{\n",
       "            console.log([gd, 'removed!']);\n",
       "            Plotly.purge(gd);\n",
       "            observer.disconnect();\n",
       "        }}\n",
       "}});\n",
       "\n",
       "// Listen for the removal of the full notebook cells\n",
       "var notebookContainer = gd.closest('#notebook-container');\n",
       "if (notebookContainer) {{\n",
       "    x.observe(notebookContainer, {childList: true});\n",
       "}}\n",
       "\n",
       "// Listen for the clearing of the current output cell\n",
       "var outputEl = gd.closest('.output');\n",
       "if (outputEl) {{\n",
       "    x.observe(outputEl, {childList: true});\n",
       "}}\n",
       "\n",
       "                        })                };                });            </script>        </div>"
      ]
     },
     "metadata": {},
     "output_type": "display_data"
    }
   ],
   "source": [
    "fig = px.scatter(predicted_dis,title = 'Total Displacement  Analysis', width=1100,height=500)\n",
    "fig.update_traces(marker=dict(size=12))"
   ]
  },
  {
   "cell_type": "markdown",
   "id": "85fe2c74",
   "metadata": {
    "papermill": {
     "duration": 0.020553,
     "end_time": "2022-08-20T09:50:28.596908",
     "exception": false,
     "start_time": "2022-08-20T09:50:28.576355",
     "status": "completed"
    },
    "tags": []
   },
   "source": [
    "### Mass Prediction "
   ]
  },
  {
   "cell_type": "code",
   "execution_count": 31,
   "id": "3c9cba73",
   "metadata": {
    "execution": {
     "iopub.execute_input": "2022-08-20T09:50:28.638988Z",
     "iopub.status.busy": "2022-08-20T09:50:28.638655Z",
     "iopub.status.idle": "2022-08-20T09:50:28.646209Z",
     "shell.execute_reply": "2022-08-20T09:50:28.645283Z"
    },
    "papermill": {
     "duration": 0.031449,
     "end_time": "2022-08-20T09:50:28.648559",
     "exception": false,
     "start_time": "2022-08-20T09:50:28.617110",
     "status": "completed"
    },
    "tags": []
   },
   "outputs": [
    {
     "data": {
      "text/plain": [
       "0    0.249167\n",
       "1    0.211714\n",
       "Name: Fixator Mass, dtype: float64"
      ]
     },
     "execution_count": 31,
     "metadata": {},
     "output_type": "execute_result"
    }
   ],
   "source": [
    "Y_mass = df_data['Fixator Mass']\n",
    "Y_mass.head(2)"
   ]
  },
  {
   "cell_type": "code",
   "execution_count": 32,
   "id": "d0a6134d",
   "metadata": {
    "execution": {
     "iopub.execute_input": "2022-08-20T09:50:28.692851Z",
     "iopub.status.busy": "2022-08-20T09:50:28.691768Z",
     "iopub.status.idle": "2022-08-20T09:50:28.700360Z",
     "shell.execute_reply": "2022-08-20T09:50:28.699224Z"
    },
    "papermill": {
     "duration": 0.033761,
     "end_time": "2022-08-20T09:50:28.703202",
     "exception": false,
     "start_time": "2022-08-20T09:50:28.669441",
     "status": "completed"
    },
    "tags": []
   },
   "outputs": [
    {
     "name": "stdout",
     "output_type": "stream",
     "text": [
      "Shape of X_train Dataset :  (75, 5)\n",
      "Shape of X_test Dataset :  (14, 5)\n",
      "Shape of Y_train Dataset :  (75,)\n",
      "Shape of Y_test Dataset :  (14,)\n"
     ]
    }
   ],
   "source": [
    "X_train_mass ,X_test_mass ,Y_train_mass,Y_test_mass = split(X,Y_mass)"
   ]
  },
  {
   "cell_type": "code",
   "execution_count": 33,
   "id": "a387caba",
   "metadata": {
    "execution": {
     "iopub.execute_input": "2022-08-20T09:50:28.746627Z",
     "iopub.status.busy": "2022-08-20T09:50:28.746245Z",
     "iopub.status.idle": "2022-08-20T09:50:30.956736Z",
     "shell.execute_reply": "2022-08-20T09:50:30.955536Z"
    },
    "papermill": {
     "duration": 2.235181,
     "end_time": "2022-08-20T09:50:30.959338",
     "exception": false,
     "start_time": "2022-08-20T09:50:28.724157",
     "status": "completed"
    },
    "tags": []
   },
   "outputs": [
    {
     "name": "stdout",
     "output_type": "stream",
     "text": [
      "Regression score Random Forest Regressor   :    0.9964978081247895\n",
      "Regression score KNN_regressor       :    0.9172912119609642\n",
      "Regression score Liner Regressor      :    0.9666194449520382\n",
      "Regression score Supportive Vector     :    -0.41677206904758335\n",
      "Regression score Decesion Tree Regressor:    0.9869461924273771\n",
      "Regression score XG Boost Regressor   :    0.9985995492330254\n"
     ]
    }
   ],
   "source": [
    "Y_pred_RFR_mass, Y_pred_KNN_mass, Y_pred_rid_mass, Y_pred_SVM_mass, Y_pred_DTR_mass, Y_pred_XGB_mass = Regress_model(Y_test_mass,X_test_mass,X_train_mass,Y_train_mass)"
   ]
  },
  {
   "cell_type": "code",
   "execution_count": 34,
   "id": "741fe669",
   "metadata": {
    "execution": {
     "iopub.execute_input": "2022-08-20T09:50:31.007688Z",
     "iopub.status.busy": "2022-08-20T09:50:31.007310Z",
     "iopub.status.idle": "2022-08-20T09:50:31.025501Z",
     "shell.execute_reply": "2022-08-20T09:50:31.024279Z"
    },
    "papermill": {
     "duration": 0.046145,
     "end_time": "2022-08-20T09:50:31.029058",
     "exception": false,
     "start_time": "2022-08-20T09:50:30.982913",
     "status": "completed"
    },
    "tags": []
   },
   "outputs": [
    {
     "data": {
      "text/html": [
       "<div>\n",
       "<style scoped>\n",
       "    .dataframe tbody tr th:only-of-type {\n",
       "        vertical-align: middle;\n",
       "    }\n",
       "\n",
       "    .dataframe tbody tr th {\n",
       "        vertical-align: top;\n",
       "    }\n",
       "\n",
       "    .dataframe thead th {\n",
       "        text-align: right;\n",
       "    }\n",
       "</style>\n",
       "<table border=\"1\" class=\"dataframe\">\n",
       "  <thead>\n",
       "    <tr style=\"text-align: right;\">\n",
       "      <th></th>\n",
       "      <th>RandomForestRegressor</th>\n",
       "      <th>KNeighborsRegressor</th>\n",
       "      <th>LinearRegression</th>\n",
       "      <th>Supportive Vector</th>\n",
       "      <th>DecisionTreeRegressor</th>\n",
       "      <th>GradientBoostingRegressor</th>\n",
       "      <th>Fixator Mass</th>\n",
       "    </tr>\n",
       "  </thead>\n",
       "  <tbody>\n",
       "    <tr>\n",
       "      <th>0</th>\n",
       "      <td>0.256973</td>\n",
       "      <td>0.265021</td>\n",
       "      <td>0.259145</td>\n",
       "      <td>0.258621</td>\n",
       "      <td>0.256814</td>\n",
       "      <td>0.256799</td>\n",
       "      <td>0.256787</td>\n",
       "    </tr>\n",
       "    <tr>\n",
       "      <th>1</th>\n",
       "      <td>0.222563</td>\n",
       "      <td>0.217093</td>\n",
       "      <td>0.229964</td>\n",
       "      <td>0.258621</td>\n",
       "      <td>0.222816</td>\n",
       "      <td>0.222848</td>\n",
       "      <td>0.222766</td>\n",
       "    </tr>\n",
       "    <tr>\n",
       "      <th>2</th>\n",
       "      <td>0.235994</td>\n",
       "      <td>0.232212</td>\n",
       "      <td>0.237936</td>\n",
       "      <td>0.258621</td>\n",
       "      <td>0.235816</td>\n",
       "      <td>0.235784</td>\n",
       "      <td>0.235580</td>\n",
       "    </tr>\n",
       "    <tr>\n",
       "      <th>3</th>\n",
       "      <td>0.249175</td>\n",
       "      <td>0.249574</td>\n",
       "      <td>0.250295</td>\n",
       "      <td>0.258621</td>\n",
       "      <td>0.249177</td>\n",
       "      <td>0.249574</td>\n",
       "      <td>0.250177</td>\n",
       "    </tr>\n",
       "    <tr>\n",
       "      <th>4</th>\n",
       "      <td>0.205462</td>\n",
       "      <td>0.213568</td>\n",
       "      <td>0.196235</td>\n",
       "      <td>0.258621</td>\n",
       "      <td>0.205193</td>\n",
       "      <td>0.205246</td>\n",
       "      <td>0.205324</td>\n",
       "    </tr>\n",
       "  </tbody>\n",
       "</table>\n",
       "</div>"
      ],
      "text/plain": [
       "   RandomForestRegressor  KNeighborsRegressor  LinearRegression  \\\n",
       "0               0.256973             0.265021          0.259145   \n",
       "1               0.222563             0.217093          0.229964   \n",
       "2               0.235994             0.232212          0.237936   \n",
       "3               0.249175             0.249574          0.250295   \n",
       "4               0.205462             0.213568          0.196235   \n",
       "\n",
       "   Supportive Vector  DecisionTreeRegressor  GradientBoostingRegressor  \\\n",
       "0           0.258621               0.256814                   0.256799   \n",
       "1           0.258621               0.222816                   0.222848   \n",
       "2           0.258621               0.235816                   0.235784   \n",
       "3           0.258621               0.249177                   0.249574   \n",
       "4           0.258621               0.205193                   0.205246   \n",
       "\n",
       "   Fixator Mass  \n",
       "0      0.256787  \n",
       "1      0.222766  \n",
       "2      0.235580  \n",
       "3      0.250177  \n",
       "4      0.205324  "
      ]
     },
     "execution_count": 34,
     "metadata": {},
     "output_type": "execute_result"
    }
   ],
   "source": [
    "predicted_mass = parametricData( Y_test_mass, Y_pred_RFR_mass,Y_pred_KNN_mass,Y_pred_rid_mass,Y_pred_SVM_mass,Y_pred_DTR_mass,Y_pred_XGB_mass)\n",
    "predicted_mass.head()"
   ]
  },
  {
   "cell_type": "code",
   "execution_count": 35,
   "id": "39c4f523",
   "metadata": {
    "execution": {
     "iopub.execute_input": "2022-08-20T09:50:31.076050Z",
     "iopub.status.busy": "2022-08-20T09:50:31.075130Z",
     "iopub.status.idle": "2022-08-20T09:50:31.154539Z",
     "shell.execute_reply": "2022-08-20T09:50:31.153556Z"
    },
    "papermill": {
     "duration": 0.103918,
     "end_time": "2022-08-20T09:50:31.156512",
     "exception": false,
     "start_time": "2022-08-20T09:50:31.052594",
     "status": "completed"
    },
    "tags": []
   },
   "outputs": [
    {
     "data": {
      "text/html": [
       "<div>                            <div id=\"f8475385-b609-4ed5-a736-9e8e8311d40b\" class=\"plotly-graph-div\" style=\"height:500px; width:1100px;\"></div>            <script type=\"text/javascript\">                require([\"plotly\"], function(Plotly) {                    window.PLOTLYENV=window.PLOTLYENV || {};                                    if (document.getElementById(\"f8475385-b609-4ed5-a736-9e8e8311d40b\")) {                    Plotly.newPlot(                        \"f8475385-b609-4ed5-a736-9e8e8311d40b\",                        [{\"hovertemplate\":\"variable=RandomForestRegressor<br>index=%{x}<br>value=%{y}<extra></extra>\",\"legendgroup\":\"RandomForestRegressor\",\"line\":{\"color\":\"#636efa\",\"dash\":\"solid\"},\"marker\":{\"symbol\":\"circle\"},\"mode\":\"lines\",\"name\":\"RandomForestRegressor\",\"orientation\":\"v\",\"showlegend\":true,\"x\":[0,1,2,3,4,5,6,7,8,9,10,11,12,13],\"xaxis\":\"x\",\"y\":[0.2569734523523909,0.22256269838521944,0.23599428076674,0.24917521458039485,0.2054618822635782,0.24917521458039485,0.27720750956703316,0.24917521458039485,0.24782872759245808,0.24993224237486195,0.26314748202136046,0.20556121967729246,0.22339157272454074,0.2773087866459712],\"yaxis\":\"y\",\"type\":\"scatter\"},{\"hovertemplate\":\"variable=KNeighborsRegressor<br>index=%{x}<br>value=%{y}<extra></extra>\",\"legendgroup\":\"KNeighborsRegressor\",\"line\":{\"color\":\"#EF553B\",\"dash\":\"solid\"},\"marker\":{\"symbol\":\"circle\"},\"mode\":\"lines\",\"name\":\"KNeighborsRegressor\",\"orientation\":\"v\",\"showlegend\":true,\"x\":[0,1,2,3,4,5,6,7,8,9,10,11,12,13],\"xaxis\":\"x\",\"y\":[0.26502089113014204,0.2170930268188168,0.23221165210754496,0.249573762290554,0.213568435136458,0.24914550763374738,0.265020891130142,0.2492127418521574,0.24876172480532582,0.24921274185215742,0.2704243315392878,0.213568435136458,0.2272896758890802,0.265020891130142],\"yaxis\":\"y\",\"type\":\"scatter\"},{\"hovertemplate\":\"variable=LinearRegression<br>index=%{x}<br>value=%{y}<extra></extra>\",\"legendgroup\":\"LinearRegression\",\"line\":{\"color\":\"#00cc96\",\"dash\":\"solid\"},\"marker\":{\"symbol\":\"circle\"},\"mode\":\"lines\",\"name\":\"LinearRegression\",\"orientation\":\"v\",\"showlegend\":true,\"x\":[0,1,2,3,4,5,6,7,8,9,10,11,12,13],\"xaxis\":\"x\",\"y\":[0.25914468900354937,0.22996357827780645,0.23793633018257132,0.25029479465578375,0.19623496509646818,0.24941765213588882,0.2760089956025942,0.24941765213585243,0.2485405096159627,0.2494176521346021,0.2684539848232551,0.1962349650909622,0.22107202358899328,0.2760089955993472],\"yaxis\":\"y\",\"type\":\"scatter\"},{\"hovertemplate\":\"variable=Supportive Vector<br>index=%{x}<br>value=%{y}<extra></extra>\",\"legendgroup\":\"Supportive Vector\",\"line\":{\"color\":\"#ab63fa\",\"dash\":\"solid\"},\"marker\":{\"symbol\":\"circle\"},\"mode\":\"lines\",\"name\":\"Supportive Vector\",\"orientation\":\"v\",\"showlegend\":true,\"x\":[0,1,2,3,4,5,6,7,8,9,10,11,12,13],\"xaxis\":\"x\",\"y\":[0.2586212700680995,0.2586212700680995,0.2586212700680995,0.2586212700680995,0.2586212700680995,0.2586212700680995,0.2586212700680995,0.2586212700680995,0.2586212700680995,0.2586212700680995,0.2586212700680995,0.2586212700680995,0.2586212700680995,0.2586212700680995],\"yaxis\":\"y\",\"type\":\"scatter\"},{\"hovertemplate\":\"variable=DecisionTreeRegressor<br>index=%{x}<br>value=%{y}<extra></extra>\",\"legendgroup\":\"DecisionTreeRegressor\",\"line\":{\"color\":\"#FFA15A\",\"dash\":\"solid\"},\"marker\":{\"symbol\":\"circle\"},\"mode\":\"lines\",\"name\":\"DecisionTreeRegressor\",\"orientation\":\"v\",\"showlegend\":true,\"x\":[0,1,2,3,4,5,6,7,8,9,10,11,12,13],\"xaxis\":\"x\",\"y\":[0.256814197096422,0.222816051095075,0.235816440515935,0.2491768368511366,0.205193092683281,0.2491768368511366,0.277378885121529,0.2491768368511366,0.247070320506477,0.2491768368511366,0.277378885121529,0.20535275396972,0.223405112701073,0.277309830613158],\"yaxis\":\"y\",\"type\":\"scatter\"},{\"hovertemplate\":\"variable=GradientBoostingRegressor<br>index=%{x}<br>value=%{y}<extra></extra>\",\"legendgroup\":\"GradientBoostingRegressor\",\"line\":{\"color\":\"#19d3f3\",\"dash\":\"solid\"},\"marker\":{\"symbol\":\"circle\"},\"mode\":\"lines\",\"name\":\"GradientBoostingRegressor\",\"orientation\":\"v\",\"showlegend\":true,\"x\":[0,1,2,3,4,5,6,7,8,9,10,11,12,13],\"xaxis\":\"x\",\"y\":[0.2567991282119787,0.22284818433961645,0.23578362028525213,0.2495738253926085,0.20524568766345985,0.2492072220994845,0.2774788781917349,0.2492072220994845,0.24737189279011823,0.2492072220994845,0.2708780012787996,0.20527054538538386,0.22337193695749996,0.2774788781917349],\"yaxis\":\"y\",\"type\":\"scatter\"},{\"hovertemplate\":\"variable=Fixator Mass<br>index=%{x}<br>value=%{y}<extra></extra>\",\"legendgroup\":\"Fixator Mass\",\"line\":{\"color\":\"#FF6692\",\"dash\":\"solid\"},\"marker\":{\"symbol\":\"circle\"},\"mode\":\"lines\",\"name\":\"Fixator Mass\",\"orientation\":\"v\",\"showlegend\":true,\"x\":[0,1,2,3,4,5,6,7,8,9,10,11,12,13],\"xaxis\":\"x\",\"y\":[0.256787345116997,0.222766120166034,0.235579769783102,0.250176962150652,0.205324461886269,0.249166901947372,0.277476383885482,0.249116919607581,0.248107482407369,0.249166901947373,0.267893288100229,0.205164935161098,0.223381197221558,0.277545457166689],\"yaxis\":\"y\",\"type\":\"scatter\"}],                        {\"template\":{\"data\":{\"histogram2dcontour\":[{\"type\":\"histogram2dcontour\",\"colorbar\":{\"outlinewidth\":0,\"ticks\":\"\"},\"colorscale\":[[0.0,\"#0d0887\"],[0.1111111111111111,\"#46039f\"],[0.2222222222222222,\"#7201a8\"],[0.3333333333333333,\"#9c179e\"],[0.4444444444444444,\"#bd3786\"],[0.5555555555555556,\"#d8576b\"],[0.6666666666666666,\"#ed7953\"],[0.7777777777777778,\"#fb9f3a\"],[0.8888888888888888,\"#fdca26\"],[1.0,\"#f0f921\"]]}],\"choropleth\":[{\"type\":\"choropleth\",\"colorbar\":{\"outlinewidth\":0,\"ticks\":\"\"}}],\"histogram2d\":[{\"type\":\"histogram2d\",\"colorbar\":{\"outlinewidth\":0,\"ticks\":\"\"},\"colorscale\":[[0.0,\"#0d0887\"],[0.1111111111111111,\"#46039f\"],[0.2222222222222222,\"#7201a8\"],[0.3333333333333333,\"#9c179e\"],[0.4444444444444444,\"#bd3786\"],[0.5555555555555556,\"#d8576b\"],[0.6666666666666666,\"#ed7953\"],[0.7777777777777778,\"#fb9f3a\"],[0.8888888888888888,\"#fdca26\"],[1.0,\"#f0f921\"]]}],\"heatmap\":[{\"type\":\"heatmap\",\"colorbar\":{\"outlinewidth\":0,\"ticks\":\"\"},\"colorscale\":[[0.0,\"#0d0887\"],[0.1111111111111111,\"#46039f\"],[0.2222222222222222,\"#7201a8\"],[0.3333333333333333,\"#9c179e\"],[0.4444444444444444,\"#bd3786\"],[0.5555555555555556,\"#d8576b\"],[0.6666666666666666,\"#ed7953\"],[0.7777777777777778,\"#fb9f3a\"],[0.8888888888888888,\"#fdca26\"],[1.0,\"#f0f921\"]]}],\"heatmapgl\":[{\"type\":\"heatmapgl\",\"colorbar\":{\"outlinewidth\":0,\"ticks\":\"\"},\"colorscale\":[[0.0,\"#0d0887\"],[0.1111111111111111,\"#46039f\"],[0.2222222222222222,\"#7201a8\"],[0.3333333333333333,\"#9c179e\"],[0.4444444444444444,\"#bd3786\"],[0.5555555555555556,\"#d8576b\"],[0.6666666666666666,\"#ed7953\"],[0.7777777777777778,\"#fb9f3a\"],[0.8888888888888888,\"#fdca26\"],[1.0,\"#f0f921\"]]}],\"contourcarpet\":[{\"type\":\"contourcarpet\",\"colorbar\":{\"outlinewidth\":0,\"ticks\":\"\"}}],\"contour\":[{\"type\":\"contour\",\"colorbar\":{\"outlinewidth\":0,\"ticks\":\"\"},\"colorscale\":[[0.0,\"#0d0887\"],[0.1111111111111111,\"#46039f\"],[0.2222222222222222,\"#7201a8\"],[0.3333333333333333,\"#9c179e\"],[0.4444444444444444,\"#bd3786\"],[0.5555555555555556,\"#d8576b\"],[0.6666666666666666,\"#ed7953\"],[0.7777777777777778,\"#fb9f3a\"],[0.8888888888888888,\"#fdca26\"],[1.0,\"#f0f921\"]]}],\"surface\":[{\"type\":\"surface\",\"colorbar\":{\"outlinewidth\":0,\"ticks\":\"\"},\"colorscale\":[[0.0,\"#0d0887\"],[0.1111111111111111,\"#46039f\"],[0.2222222222222222,\"#7201a8\"],[0.3333333333333333,\"#9c179e\"],[0.4444444444444444,\"#bd3786\"],[0.5555555555555556,\"#d8576b\"],[0.6666666666666666,\"#ed7953\"],[0.7777777777777778,\"#fb9f3a\"],[0.8888888888888888,\"#fdca26\"],[1.0,\"#f0f921\"]]}],\"mesh3d\":[{\"type\":\"mesh3d\",\"colorbar\":{\"outlinewidth\":0,\"ticks\":\"\"}}],\"scatter\":[{\"fillpattern\":{\"fillmode\":\"overlay\",\"size\":10,\"solidity\":0.2},\"type\":\"scatter\"}],\"parcoords\":[{\"type\":\"parcoords\",\"line\":{\"colorbar\":{\"outlinewidth\":0,\"ticks\":\"\"}}}],\"scatterpolargl\":[{\"type\":\"scatterpolargl\",\"marker\":{\"colorbar\":{\"outlinewidth\":0,\"ticks\":\"\"}}}],\"bar\":[{\"error_x\":{\"color\":\"#2a3f5f\"},\"error_y\":{\"color\":\"#2a3f5f\"},\"marker\":{\"line\":{\"color\":\"#E5ECF6\",\"width\":0.5},\"pattern\":{\"fillmode\":\"overlay\",\"size\":10,\"solidity\":0.2}},\"type\":\"bar\"}],\"scattergeo\":[{\"type\":\"scattergeo\",\"marker\":{\"colorbar\":{\"outlinewidth\":0,\"ticks\":\"\"}}}],\"scatterpolar\":[{\"type\":\"scatterpolar\",\"marker\":{\"colorbar\":{\"outlinewidth\":0,\"ticks\":\"\"}}}],\"histogram\":[{\"marker\":{\"pattern\":{\"fillmode\":\"overlay\",\"size\":10,\"solidity\":0.2}},\"type\":\"histogram\"}],\"scattergl\":[{\"type\":\"scattergl\",\"marker\":{\"colorbar\":{\"outlinewidth\":0,\"ticks\":\"\"}}}],\"scatter3d\":[{\"type\":\"scatter3d\",\"line\":{\"colorbar\":{\"outlinewidth\":0,\"ticks\":\"\"}},\"marker\":{\"colorbar\":{\"outlinewidth\":0,\"ticks\":\"\"}}}],\"scattermapbox\":[{\"type\":\"scattermapbox\",\"marker\":{\"colorbar\":{\"outlinewidth\":0,\"ticks\":\"\"}}}],\"scatterternary\":[{\"type\":\"scatterternary\",\"marker\":{\"colorbar\":{\"outlinewidth\":0,\"ticks\":\"\"}}}],\"scattercarpet\":[{\"type\":\"scattercarpet\",\"marker\":{\"colorbar\":{\"outlinewidth\":0,\"ticks\":\"\"}}}],\"carpet\":[{\"aaxis\":{\"endlinecolor\":\"#2a3f5f\",\"gridcolor\":\"white\",\"linecolor\":\"white\",\"minorgridcolor\":\"white\",\"startlinecolor\":\"#2a3f5f\"},\"baxis\":{\"endlinecolor\":\"#2a3f5f\",\"gridcolor\":\"white\",\"linecolor\":\"white\",\"minorgridcolor\":\"white\",\"startlinecolor\":\"#2a3f5f\"},\"type\":\"carpet\"}],\"table\":[{\"cells\":{\"fill\":{\"color\":\"#EBF0F8\"},\"line\":{\"color\":\"white\"}},\"header\":{\"fill\":{\"color\":\"#C8D4E3\"},\"line\":{\"color\":\"white\"}},\"type\":\"table\"}],\"barpolar\":[{\"marker\":{\"line\":{\"color\":\"#E5ECF6\",\"width\":0.5},\"pattern\":{\"fillmode\":\"overlay\",\"size\":10,\"solidity\":0.2}},\"type\":\"barpolar\"}],\"pie\":[{\"automargin\":true,\"type\":\"pie\"}]},\"layout\":{\"autotypenumbers\":\"strict\",\"colorway\":[\"#636efa\",\"#EF553B\",\"#00cc96\",\"#ab63fa\",\"#FFA15A\",\"#19d3f3\",\"#FF6692\",\"#B6E880\",\"#FF97FF\",\"#FECB52\"],\"font\":{\"color\":\"#2a3f5f\"},\"hovermode\":\"closest\",\"hoverlabel\":{\"align\":\"left\"},\"paper_bgcolor\":\"white\",\"plot_bgcolor\":\"#E5ECF6\",\"polar\":{\"bgcolor\":\"#E5ECF6\",\"angularaxis\":{\"gridcolor\":\"white\",\"linecolor\":\"white\",\"ticks\":\"\"},\"radialaxis\":{\"gridcolor\":\"white\",\"linecolor\":\"white\",\"ticks\":\"\"}},\"ternary\":{\"bgcolor\":\"#E5ECF6\",\"aaxis\":{\"gridcolor\":\"white\",\"linecolor\":\"white\",\"ticks\":\"\"},\"baxis\":{\"gridcolor\":\"white\",\"linecolor\":\"white\",\"ticks\":\"\"},\"caxis\":{\"gridcolor\":\"white\",\"linecolor\":\"white\",\"ticks\":\"\"}},\"coloraxis\":{\"colorbar\":{\"outlinewidth\":0,\"ticks\":\"\"}},\"colorscale\":{\"sequential\":[[0.0,\"#0d0887\"],[0.1111111111111111,\"#46039f\"],[0.2222222222222222,\"#7201a8\"],[0.3333333333333333,\"#9c179e\"],[0.4444444444444444,\"#bd3786\"],[0.5555555555555556,\"#d8576b\"],[0.6666666666666666,\"#ed7953\"],[0.7777777777777778,\"#fb9f3a\"],[0.8888888888888888,\"#fdca26\"],[1.0,\"#f0f921\"]],\"sequentialminus\":[[0.0,\"#0d0887\"],[0.1111111111111111,\"#46039f\"],[0.2222222222222222,\"#7201a8\"],[0.3333333333333333,\"#9c179e\"],[0.4444444444444444,\"#bd3786\"],[0.5555555555555556,\"#d8576b\"],[0.6666666666666666,\"#ed7953\"],[0.7777777777777778,\"#fb9f3a\"],[0.8888888888888888,\"#fdca26\"],[1.0,\"#f0f921\"]],\"diverging\":[[0,\"#8e0152\"],[0.1,\"#c51b7d\"],[0.2,\"#de77ae\"],[0.3,\"#f1b6da\"],[0.4,\"#fde0ef\"],[0.5,\"#f7f7f7\"],[0.6,\"#e6f5d0\"],[0.7,\"#b8e186\"],[0.8,\"#7fbc41\"],[0.9,\"#4d9221\"],[1,\"#276419\"]]},\"xaxis\":{\"gridcolor\":\"white\",\"linecolor\":\"white\",\"ticks\":\"\",\"title\":{\"standoff\":15},\"zerolinecolor\":\"white\",\"automargin\":true,\"zerolinewidth\":2},\"yaxis\":{\"gridcolor\":\"white\",\"linecolor\":\"white\",\"ticks\":\"\",\"title\":{\"standoff\":15},\"zerolinecolor\":\"white\",\"automargin\":true,\"zerolinewidth\":2},\"scene\":{\"xaxis\":{\"backgroundcolor\":\"#E5ECF6\",\"gridcolor\":\"white\",\"linecolor\":\"white\",\"showbackground\":true,\"ticks\":\"\",\"zerolinecolor\":\"white\",\"gridwidth\":2},\"yaxis\":{\"backgroundcolor\":\"#E5ECF6\",\"gridcolor\":\"white\",\"linecolor\":\"white\",\"showbackground\":true,\"ticks\":\"\",\"zerolinecolor\":\"white\",\"gridwidth\":2},\"zaxis\":{\"backgroundcolor\":\"#E5ECF6\",\"gridcolor\":\"white\",\"linecolor\":\"white\",\"showbackground\":true,\"ticks\":\"\",\"zerolinecolor\":\"white\",\"gridwidth\":2}},\"shapedefaults\":{\"line\":{\"color\":\"#2a3f5f\"}},\"annotationdefaults\":{\"arrowcolor\":\"#2a3f5f\",\"arrowhead\":0,\"arrowwidth\":1},\"geo\":{\"bgcolor\":\"white\",\"landcolor\":\"#E5ECF6\",\"subunitcolor\":\"white\",\"showland\":true,\"showlakes\":true,\"lakecolor\":\"white\"},\"title\":{\"x\":0.05},\"mapbox\":{\"style\":\"light\"}}},\"xaxis\":{\"anchor\":\"y\",\"domain\":[0.0,1.0],\"title\":{\"text\":\"index\"}},\"yaxis\":{\"anchor\":\"x\",\"domain\":[0.0,1.0],\"title\":{\"text\":\"value\"}},\"legend\":{\"title\":{\"text\":\"variable\"},\"tracegroupgap\":0},\"title\":{\"text\":\"Fixator mass Analysis\"},\"height\":500,\"width\":1100},                        {\"responsive\": true}                    ).then(function(){\n",
       "                            \n",
       "var gd = document.getElementById('f8475385-b609-4ed5-a736-9e8e8311d40b');\n",
       "var x = new MutationObserver(function (mutations, observer) {{\n",
       "        var display = window.getComputedStyle(gd).display;\n",
       "        if (!display || display === 'none') {{\n",
       "            console.log([gd, 'removed!']);\n",
       "            Plotly.purge(gd);\n",
       "            observer.disconnect();\n",
       "        }}\n",
       "}});\n",
       "\n",
       "// Listen for the removal of the full notebook cells\n",
       "var notebookContainer = gd.closest('#notebook-container');\n",
       "if (notebookContainer) {{\n",
       "    x.observe(notebookContainer, {childList: true});\n",
       "}}\n",
       "\n",
       "// Listen for the clearing of the current output cell\n",
       "var outputEl = gd.closest('.output');\n",
       "if (outputEl) {{\n",
       "    x.observe(outputEl, {childList: true});\n",
       "}}\n",
       "\n",
       "                        })                };                });            </script>        </div>"
      ]
     },
     "metadata": {},
     "output_type": "display_data"
    }
   ],
   "source": [
    "px.line(predicted_mass,title = 'Fixator mass Analysis', width=1100,height=500)"
   ]
  },
  {
   "cell_type": "code",
   "execution_count": 36,
   "id": "5ac2d9ad",
   "metadata": {
    "execution": {
     "iopub.execute_input": "2022-08-20T09:50:31.201809Z",
     "iopub.status.busy": "2022-08-20T09:50:31.200288Z",
     "iopub.status.idle": "2022-08-20T09:50:31.276071Z",
     "shell.execute_reply": "2022-08-20T09:50:31.275174Z"
    },
    "papermill": {
     "duration": 0.10005,
     "end_time": "2022-08-20T09:50:31.278208",
     "exception": false,
     "start_time": "2022-08-20T09:50:31.178158",
     "status": "completed"
    },
    "tags": []
   },
   "outputs": [
    {
     "data": {
      "text/html": [
       "<div>                            <div id=\"f044eab2-7e2e-4d52-9ec9-05cf4a1cb1cc\" class=\"plotly-graph-div\" style=\"height:500px; width:1100px;\"></div>            <script type=\"text/javascript\">                require([\"plotly\"], function(Plotly) {                    window.PLOTLYENV=window.PLOTLYENV || {};                                    if (document.getElementById(\"f044eab2-7e2e-4d52-9ec9-05cf4a1cb1cc\")) {                    Plotly.newPlot(                        \"f044eab2-7e2e-4d52-9ec9-05cf4a1cb1cc\",                        [{\"hovertemplate\":\"variable=RandomForestRegressor<br>index=%{x}<br>value=%{y}<extra></extra>\",\"legendgroup\":\"RandomForestRegressor\",\"marker\":{\"color\":\"#636efa\",\"symbol\":\"circle\",\"size\":12},\"mode\":\"markers\",\"name\":\"RandomForestRegressor\",\"orientation\":\"v\",\"showlegend\":true,\"x\":[0,1,2,3,4,5,6,7,8,9,10,11,12,13],\"xaxis\":\"x\",\"y\":[0.2569734523523909,0.22256269838521944,0.23599428076674,0.24917521458039485,0.2054618822635782,0.24917521458039485,0.27720750956703316,0.24917521458039485,0.24782872759245808,0.24993224237486195,0.26314748202136046,0.20556121967729246,0.22339157272454074,0.2773087866459712],\"yaxis\":\"y\",\"type\":\"scatter\"},{\"hovertemplate\":\"variable=KNeighborsRegressor<br>index=%{x}<br>value=%{y}<extra></extra>\",\"legendgroup\":\"KNeighborsRegressor\",\"marker\":{\"color\":\"#EF553B\",\"symbol\":\"circle\",\"size\":12},\"mode\":\"markers\",\"name\":\"KNeighborsRegressor\",\"orientation\":\"v\",\"showlegend\":true,\"x\":[0,1,2,3,4,5,6,7,8,9,10,11,12,13],\"xaxis\":\"x\",\"y\":[0.26502089113014204,0.2170930268188168,0.23221165210754496,0.249573762290554,0.213568435136458,0.24914550763374738,0.265020891130142,0.2492127418521574,0.24876172480532582,0.24921274185215742,0.2704243315392878,0.213568435136458,0.2272896758890802,0.265020891130142],\"yaxis\":\"y\",\"type\":\"scatter\"},{\"hovertemplate\":\"variable=LinearRegression<br>index=%{x}<br>value=%{y}<extra></extra>\",\"legendgroup\":\"LinearRegression\",\"marker\":{\"color\":\"#00cc96\",\"symbol\":\"circle\",\"size\":12},\"mode\":\"markers\",\"name\":\"LinearRegression\",\"orientation\":\"v\",\"showlegend\":true,\"x\":[0,1,2,3,4,5,6,7,8,9,10,11,12,13],\"xaxis\":\"x\",\"y\":[0.25914468900354937,0.22996357827780645,0.23793633018257132,0.25029479465578375,0.19623496509646818,0.24941765213588882,0.2760089956025942,0.24941765213585243,0.2485405096159627,0.2494176521346021,0.2684539848232551,0.1962349650909622,0.22107202358899328,0.2760089955993472],\"yaxis\":\"y\",\"type\":\"scatter\"},{\"hovertemplate\":\"variable=Supportive Vector<br>index=%{x}<br>value=%{y}<extra></extra>\",\"legendgroup\":\"Supportive Vector\",\"marker\":{\"color\":\"#ab63fa\",\"symbol\":\"circle\",\"size\":12},\"mode\":\"markers\",\"name\":\"Supportive Vector\",\"orientation\":\"v\",\"showlegend\":true,\"x\":[0,1,2,3,4,5,6,7,8,9,10,11,12,13],\"xaxis\":\"x\",\"y\":[0.2586212700680995,0.2586212700680995,0.2586212700680995,0.2586212700680995,0.2586212700680995,0.2586212700680995,0.2586212700680995,0.2586212700680995,0.2586212700680995,0.2586212700680995,0.2586212700680995,0.2586212700680995,0.2586212700680995,0.2586212700680995],\"yaxis\":\"y\",\"type\":\"scatter\"},{\"hovertemplate\":\"variable=DecisionTreeRegressor<br>index=%{x}<br>value=%{y}<extra></extra>\",\"legendgroup\":\"DecisionTreeRegressor\",\"marker\":{\"color\":\"#FFA15A\",\"symbol\":\"circle\",\"size\":12},\"mode\":\"markers\",\"name\":\"DecisionTreeRegressor\",\"orientation\":\"v\",\"showlegend\":true,\"x\":[0,1,2,3,4,5,6,7,8,9,10,11,12,13],\"xaxis\":\"x\",\"y\":[0.256814197096422,0.222816051095075,0.235816440515935,0.2491768368511366,0.205193092683281,0.2491768368511366,0.277378885121529,0.2491768368511366,0.247070320506477,0.2491768368511366,0.277378885121529,0.20535275396972,0.223405112701073,0.277309830613158],\"yaxis\":\"y\",\"type\":\"scatter\"},{\"hovertemplate\":\"variable=GradientBoostingRegressor<br>index=%{x}<br>value=%{y}<extra></extra>\",\"legendgroup\":\"GradientBoostingRegressor\",\"marker\":{\"color\":\"#19d3f3\",\"symbol\":\"circle\",\"size\":12},\"mode\":\"markers\",\"name\":\"GradientBoostingRegressor\",\"orientation\":\"v\",\"showlegend\":true,\"x\":[0,1,2,3,4,5,6,7,8,9,10,11,12,13],\"xaxis\":\"x\",\"y\":[0.2567991282119787,0.22284818433961645,0.23578362028525213,0.2495738253926085,0.20524568766345985,0.2492072220994845,0.2774788781917349,0.2492072220994845,0.24737189279011823,0.2492072220994845,0.2708780012787996,0.20527054538538386,0.22337193695749996,0.2774788781917349],\"yaxis\":\"y\",\"type\":\"scatter\"},{\"hovertemplate\":\"variable=Fixator Mass<br>index=%{x}<br>value=%{y}<extra></extra>\",\"legendgroup\":\"Fixator Mass\",\"marker\":{\"color\":\"#FF6692\",\"symbol\":\"circle\",\"size\":12},\"mode\":\"markers\",\"name\":\"Fixator Mass\",\"orientation\":\"v\",\"showlegend\":true,\"x\":[0,1,2,3,4,5,6,7,8,9,10,11,12,13],\"xaxis\":\"x\",\"y\":[0.256787345116997,0.222766120166034,0.235579769783102,0.250176962150652,0.205324461886269,0.249166901947372,0.277476383885482,0.249116919607581,0.248107482407369,0.249166901947373,0.267893288100229,0.205164935161098,0.223381197221558,0.277545457166689],\"yaxis\":\"y\",\"type\":\"scatter\"}],                        {\"template\":{\"data\":{\"histogram2dcontour\":[{\"type\":\"histogram2dcontour\",\"colorbar\":{\"outlinewidth\":0,\"ticks\":\"\"},\"colorscale\":[[0.0,\"#0d0887\"],[0.1111111111111111,\"#46039f\"],[0.2222222222222222,\"#7201a8\"],[0.3333333333333333,\"#9c179e\"],[0.4444444444444444,\"#bd3786\"],[0.5555555555555556,\"#d8576b\"],[0.6666666666666666,\"#ed7953\"],[0.7777777777777778,\"#fb9f3a\"],[0.8888888888888888,\"#fdca26\"],[1.0,\"#f0f921\"]]}],\"choropleth\":[{\"type\":\"choropleth\",\"colorbar\":{\"outlinewidth\":0,\"ticks\":\"\"}}],\"histogram2d\":[{\"type\":\"histogram2d\",\"colorbar\":{\"outlinewidth\":0,\"ticks\":\"\"},\"colorscale\":[[0.0,\"#0d0887\"],[0.1111111111111111,\"#46039f\"],[0.2222222222222222,\"#7201a8\"],[0.3333333333333333,\"#9c179e\"],[0.4444444444444444,\"#bd3786\"],[0.5555555555555556,\"#d8576b\"],[0.6666666666666666,\"#ed7953\"],[0.7777777777777778,\"#fb9f3a\"],[0.8888888888888888,\"#fdca26\"],[1.0,\"#f0f921\"]]}],\"heatmap\":[{\"type\":\"heatmap\",\"colorbar\":{\"outlinewidth\":0,\"ticks\":\"\"},\"colorscale\":[[0.0,\"#0d0887\"],[0.1111111111111111,\"#46039f\"],[0.2222222222222222,\"#7201a8\"],[0.3333333333333333,\"#9c179e\"],[0.4444444444444444,\"#bd3786\"],[0.5555555555555556,\"#d8576b\"],[0.6666666666666666,\"#ed7953\"],[0.7777777777777778,\"#fb9f3a\"],[0.8888888888888888,\"#fdca26\"],[1.0,\"#f0f921\"]]}],\"heatmapgl\":[{\"type\":\"heatmapgl\",\"colorbar\":{\"outlinewidth\":0,\"ticks\":\"\"},\"colorscale\":[[0.0,\"#0d0887\"],[0.1111111111111111,\"#46039f\"],[0.2222222222222222,\"#7201a8\"],[0.3333333333333333,\"#9c179e\"],[0.4444444444444444,\"#bd3786\"],[0.5555555555555556,\"#d8576b\"],[0.6666666666666666,\"#ed7953\"],[0.7777777777777778,\"#fb9f3a\"],[0.8888888888888888,\"#fdca26\"],[1.0,\"#f0f921\"]]}],\"contourcarpet\":[{\"type\":\"contourcarpet\",\"colorbar\":{\"outlinewidth\":0,\"ticks\":\"\"}}],\"contour\":[{\"type\":\"contour\",\"colorbar\":{\"outlinewidth\":0,\"ticks\":\"\"},\"colorscale\":[[0.0,\"#0d0887\"],[0.1111111111111111,\"#46039f\"],[0.2222222222222222,\"#7201a8\"],[0.3333333333333333,\"#9c179e\"],[0.4444444444444444,\"#bd3786\"],[0.5555555555555556,\"#d8576b\"],[0.6666666666666666,\"#ed7953\"],[0.7777777777777778,\"#fb9f3a\"],[0.8888888888888888,\"#fdca26\"],[1.0,\"#f0f921\"]]}],\"surface\":[{\"type\":\"surface\",\"colorbar\":{\"outlinewidth\":0,\"ticks\":\"\"},\"colorscale\":[[0.0,\"#0d0887\"],[0.1111111111111111,\"#46039f\"],[0.2222222222222222,\"#7201a8\"],[0.3333333333333333,\"#9c179e\"],[0.4444444444444444,\"#bd3786\"],[0.5555555555555556,\"#d8576b\"],[0.6666666666666666,\"#ed7953\"],[0.7777777777777778,\"#fb9f3a\"],[0.8888888888888888,\"#fdca26\"],[1.0,\"#f0f921\"]]}],\"mesh3d\":[{\"type\":\"mesh3d\",\"colorbar\":{\"outlinewidth\":0,\"ticks\":\"\"}}],\"scatter\":[{\"fillpattern\":{\"fillmode\":\"overlay\",\"size\":10,\"solidity\":0.2},\"type\":\"scatter\"}],\"parcoords\":[{\"type\":\"parcoords\",\"line\":{\"colorbar\":{\"outlinewidth\":0,\"ticks\":\"\"}}}],\"scatterpolargl\":[{\"type\":\"scatterpolargl\",\"marker\":{\"colorbar\":{\"outlinewidth\":0,\"ticks\":\"\"}}}],\"bar\":[{\"error_x\":{\"color\":\"#2a3f5f\"},\"error_y\":{\"color\":\"#2a3f5f\"},\"marker\":{\"line\":{\"color\":\"#E5ECF6\",\"width\":0.5},\"pattern\":{\"fillmode\":\"overlay\",\"size\":10,\"solidity\":0.2}},\"type\":\"bar\"}],\"scattergeo\":[{\"type\":\"scattergeo\",\"marker\":{\"colorbar\":{\"outlinewidth\":0,\"ticks\":\"\"}}}],\"scatterpolar\":[{\"type\":\"scatterpolar\",\"marker\":{\"colorbar\":{\"outlinewidth\":0,\"ticks\":\"\"}}}],\"histogram\":[{\"marker\":{\"pattern\":{\"fillmode\":\"overlay\",\"size\":10,\"solidity\":0.2}},\"type\":\"histogram\"}],\"scattergl\":[{\"type\":\"scattergl\",\"marker\":{\"colorbar\":{\"outlinewidth\":0,\"ticks\":\"\"}}}],\"scatter3d\":[{\"type\":\"scatter3d\",\"line\":{\"colorbar\":{\"outlinewidth\":0,\"ticks\":\"\"}},\"marker\":{\"colorbar\":{\"outlinewidth\":0,\"ticks\":\"\"}}}],\"scattermapbox\":[{\"type\":\"scattermapbox\",\"marker\":{\"colorbar\":{\"outlinewidth\":0,\"ticks\":\"\"}}}],\"scatterternary\":[{\"type\":\"scatterternary\",\"marker\":{\"colorbar\":{\"outlinewidth\":0,\"ticks\":\"\"}}}],\"scattercarpet\":[{\"type\":\"scattercarpet\",\"marker\":{\"colorbar\":{\"outlinewidth\":0,\"ticks\":\"\"}}}],\"carpet\":[{\"aaxis\":{\"endlinecolor\":\"#2a3f5f\",\"gridcolor\":\"white\",\"linecolor\":\"white\",\"minorgridcolor\":\"white\",\"startlinecolor\":\"#2a3f5f\"},\"baxis\":{\"endlinecolor\":\"#2a3f5f\",\"gridcolor\":\"white\",\"linecolor\":\"white\",\"minorgridcolor\":\"white\",\"startlinecolor\":\"#2a3f5f\"},\"type\":\"carpet\"}],\"table\":[{\"cells\":{\"fill\":{\"color\":\"#EBF0F8\"},\"line\":{\"color\":\"white\"}},\"header\":{\"fill\":{\"color\":\"#C8D4E3\"},\"line\":{\"color\":\"white\"}},\"type\":\"table\"}],\"barpolar\":[{\"marker\":{\"line\":{\"color\":\"#E5ECF6\",\"width\":0.5},\"pattern\":{\"fillmode\":\"overlay\",\"size\":10,\"solidity\":0.2}},\"type\":\"barpolar\"}],\"pie\":[{\"automargin\":true,\"type\":\"pie\"}]},\"layout\":{\"autotypenumbers\":\"strict\",\"colorway\":[\"#636efa\",\"#EF553B\",\"#00cc96\",\"#ab63fa\",\"#FFA15A\",\"#19d3f3\",\"#FF6692\",\"#B6E880\",\"#FF97FF\",\"#FECB52\"],\"font\":{\"color\":\"#2a3f5f\"},\"hovermode\":\"closest\",\"hoverlabel\":{\"align\":\"left\"},\"paper_bgcolor\":\"white\",\"plot_bgcolor\":\"#E5ECF6\",\"polar\":{\"bgcolor\":\"#E5ECF6\",\"angularaxis\":{\"gridcolor\":\"white\",\"linecolor\":\"white\",\"ticks\":\"\"},\"radialaxis\":{\"gridcolor\":\"white\",\"linecolor\":\"white\",\"ticks\":\"\"}},\"ternary\":{\"bgcolor\":\"#E5ECF6\",\"aaxis\":{\"gridcolor\":\"white\",\"linecolor\":\"white\",\"ticks\":\"\"},\"baxis\":{\"gridcolor\":\"white\",\"linecolor\":\"white\",\"ticks\":\"\"},\"caxis\":{\"gridcolor\":\"white\",\"linecolor\":\"white\",\"ticks\":\"\"}},\"coloraxis\":{\"colorbar\":{\"outlinewidth\":0,\"ticks\":\"\"}},\"colorscale\":{\"sequential\":[[0.0,\"#0d0887\"],[0.1111111111111111,\"#46039f\"],[0.2222222222222222,\"#7201a8\"],[0.3333333333333333,\"#9c179e\"],[0.4444444444444444,\"#bd3786\"],[0.5555555555555556,\"#d8576b\"],[0.6666666666666666,\"#ed7953\"],[0.7777777777777778,\"#fb9f3a\"],[0.8888888888888888,\"#fdca26\"],[1.0,\"#f0f921\"]],\"sequentialminus\":[[0.0,\"#0d0887\"],[0.1111111111111111,\"#46039f\"],[0.2222222222222222,\"#7201a8\"],[0.3333333333333333,\"#9c179e\"],[0.4444444444444444,\"#bd3786\"],[0.5555555555555556,\"#d8576b\"],[0.6666666666666666,\"#ed7953\"],[0.7777777777777778,\"#fb9f3a\"],[0.8888888888888888,\"#fdca26\"],[1.0,\"#f0f921\"]],\"diverging\":[[0,\"#8e0152\"],[0.1,\"#c51b7d\"],[0.2,\"#de77ae\"],[0.3,\"#f1b6da\"],[0.4,\"#fde0ef\"],[0.5,\"#f7f7f7\"],[0.6,\"#e6f5d0\"],[0.7,\"#b8e186\"],[0.8,\"#7fbc41\"],[0.9,\"#4d9221\"],[1,\"#276419\"]]},\"xaxis\":{\"gridcolor\":\"white\",\"linecolor\":\"white\",\"ticks\":\"\",\"title\":{\"standoff\":15},\"zerolinecolor\":\"white\",\"automargin\":true,\"zerolinewidth\":2},\"yaxis\":{\"gridcolor\":\"white\",\"linecolor\":\"white\",\"ticks\":\"\",\"title\":{\"standoff\":15},\"zerolinecolor\":\"white\",\"automargin\":true,\"zerolinewidth\":2},\"scene\":{\"xaxis\":{\"backgroundcolor\":\"#E5ECF6\",\"gridcolor\":\"white\",\"linecolor\":\"white\",\"showbackground\":true,\"ticks\":\"\",\"zerolinecolor\":\"white\",\"gridwidth\":2},\"yaxis\":{\"backgroundcolor\":\"#E5ECF6\",\"gridcolor\":\"white\",\"linecolor\":\"white\",\"showbackground\":true,\"ticks\":\"\",\"zerolinecolor\":\"white\",\"gridwidth\":2},\"zaxis\":{\"backgroundcolor\":\"#E5ECF6\",\"gridcolor\":\"white\",\"linecolor\":\"white\",\"showbackground\":true,\"ticks\":\"\",\"zerolinecolor\":\"white\",\"gridwidth\":2}},\"shapedefaults\":{\"line\":{\"color\":\"#2a3f5f\"}},\"annotationdefaults\":{\"arrowcolor\":\"#2a3f5f\",\"arrowhead\":0,\"arrowwidth\":1},\"geo\":{\"bgcolor\":\"white\",\"landcolor\":\"#E5ECF6\",\"subunitcolor\":\"white\",\"showland\":true,\"showlakes\":true,\"lakecolor\":\"white\"},\"title\":{\"x\":0.05},\"mapbox\":{\"style\":\"light\"}}},\"xaxis\":{\"anchor\":\"y\",\"domain\":[0.0,1.0],\"title\":{\"text\":\"index\"}},\"yaxis\":{\"anchor\":\"x\",\"domain\":[0.0,1.0],\"title\":{\"text\":\"value\"}},\"legend\":{\"title\":{\"text\":\"variable\"},\"tracegroupgap\":0},\"title\":{\"text\":\"Fixator mass Analysis\"},\"height\":500,\"width\":1100},                        {\"responsive\": true}                    ).then(function(){\n",
       "                            \n",
       "var gd = document.getElementById('f044eab2-7e2e-4d52-9ec9-05cf4a1cb1cc');\n",
       "var x = new MutationObserver(function (mutations, observer) {{\n",
       "        var display = window.getComputedStyle(gd).display;\n",
       "        if (!display || display === 'none') {{\n",
       "            console.log([gd, 'removed!']);\n",
       "            Plotly.purge(gd);\n",
       "            observer.disconnect();\n",
       "        }}\n",
       "}});\n",
       "\n",
       "// Listen for the removal of the full notebook cells\n",
       "var notebookContainer = gd.closest('#notebook-container');\n",
       "if (notebookContainer) {{\n",
       "    x.observe(notebookContainer, {childList: true});\n",
       "}}\n",
       "\n",
       "// Listen for the clearing of the current output cell\n",
       "var outputEl = gd.closest('.output');\n",
       "if (outputEl) {{\n",
       "    x.observe(outputEl, {childList: true});\n",
       "}}\n",
       "\n",
       "                        })                };                });            </script>        </div>"
      ]
     },
     "metadata": {},
     "output_type": "display_data"
    }
   ],
   "source": [
    "fig = px.scatter(predicted_mass,title = 'Fixator mass Analysis', width=1100,height=500)\n",
    "fig.update_traces(marker=dict(size=12))"
   ]
  },
  {
   "cell_type": "markdown",
   "id": "e6fae67d",
   "metadata": {
    "papermill": {
     "duration": 0.021722,
     "end_time": "2022-08-20T09:50:31.323329",
     "exception": false,
     "start_time": "2022-08-20T09:50:31.301607",
     "status": "completed"
    },
    "tags": []
   },
   "source": [
    "### Displacment accuracy score %"
   ]
  },
  {
   "cell_type": "code",
   "execution_count": 37,
   "id": "fc56604e",
   "metadata": {
    "execution": {
     "iopub.execute_input": "2022-08-20T09:50:31.370322Z",
     "iopub.status.busy": "2022-08-20T09:50:31.369553Z",
     "iopub.status.idle": "2022-08-20T09:50:34.137698Z",
     "shell.execute_reply": "2022-08-20T09:50:34.136253Z"
    },
    "papermill": {
     "duration": 2.793978,
     "end_time": "2022-08-20T09:50:34.139905",
     "exception": false,
     "start_time": "2022-08-20T09:50:31.345927",
     "status": "completed"
    },
    "tags": []
   },
   "outputs": [
    {
     "name": "stdout",
     "output_type": "stream",
     "text": [
      "Regression score Random Forest Regressor   :    0.9971520679463193\n",
      "Regression score KNN_regressor       :    0.9736481553475881\n",
      "Regression score Liner Regressor      :    0.969098544276887\n",
      "Regression score Supportive Vector     :    0.9698575926194097\n",
      "Regression score Decesion Tree Regressor:    0.9950683672730127\n",
      "Regression score XG Boost Regressor   :    0.9968667034731238\n"
     ]
    }
   ],
   "source": [
    "Y_pred_RFR_dis, Y_pred_KNN_dis, Y_pred_rid_dis, Y_pred_SVM_dis, Y_pred_DTR_dis, Y_pred_XGB_dis = Regress_model(Y_test_dis,X_test_dis,X_train_dis,Y_train_dis)"
   ]
  },
  {
   "cell_type": "markdown",
   "id": "fc156dcd",
   "metadata": {
    "papermill": {
     "duration": 0.021666,
     "end_time": "2022-08-20T09:50:34.184125",
     "exception": false,
     "start_time": "2022-08-20T09:50:34.162459",
     "status": "completed"
    },
    "tags": []
   },
   "source": [
    "##### Total Deformation Maximum with RFR          : 0.9486708155923764\n",
    "##### Total Deformation Maximum with KNN          : 0.6803219697618876\n",
    "##### Total Deformation Maximum with LRE          : 0.937315563269225\n",
    "##### Total Deformation Maximum with SVR          : 0.9811270930541105\n",
    "##### Total Deformation Maximum with DTR          : 0.8576873285806824\n",
    "##### Total Deformation Maximum with GBR          : 0.9945535324761637"
   ]
  },
  {
   "cell_type": "markdown",
   "id": "9e872a95",
   "metadata": {
    "papermill": {
     "duration": 0.021228,
     "end_time": "2022-08-20T09:50:34.226894",
     "exception": false,
     "start_time": "2022-08-20T09:50:34.205666",
     "status": "completed"
    },
    "tags": []
   },
   "source": [
    "### Stress  accuracy score %"
   ]
  },
  {
   "cell_type": "code",
   "execution_count": 38,
   "id": "312f6125",
   "metadata": {
    "execution": {
     "iopub.execute_input": "2022-08-20T09:50:34.272299Z",
     "iopub.status.busy": "2022-08-20T09:50:34.271927Z",
     "iopub.status.idle": "2022-08-20T09:50:36.524143Z",
     "shell.execute_reply": "2022-08-20T09:50:36.523008Z"
    },
    "papermill": {
     "duration": 2.278579,
     "end_time": "2022-08-20T09:50:36.527589",
     "exception": false,
     "start_time": "2022-08-20T09:50:34.249010",
     "status": "completed"
    },
    "tags": []
   },
   "outputs": [
    {
     "name": "stdout",
     "output_type": "stream",
     "text": [
      "Regression score Random Forest Regressor   :    0.8728737023315224\n",
      "Regression score KNN_regressor       :    0.7991597384352422\n",
      "Regression score Liner Regressor      :    0.6886466099932432\n",
      "Regression score Supportive Vector     :    0.7036300438737989\n",
      "Regression score Decesion Tree Regressor:    0.7819672427524904\n",
      "Regression score XG Boost Regressor   :    0.9149114049677707\n"
     ]
    }
   ],
   "source": [
    "Y_pred_RFR_st,Y_pred_KNN_st,Y_pred_rid_st,Y_pred_SVM_st,Y_pred_DTR_st,Y_pred_XGB_st = Regress_model(Y_test_st,X_test_st,X_train_st,Y_train_st)"
   ]
  },
  {
   "cell_type": "markdown",
   "id": "74129b97",
   "metadata": {
    "papermill": {
     "duration": 0.021486,
     "end_time": "2022-08-20T09:50:36.572583",
     "exception": false,
     "start_time": "2022-08-20T09:50:36.551097",
     "status": "completed"
    },
    "tags": []
   },
   "source": [
    "##### Equivalent Stress with RFR       : 0.8786154738645019\n",
    "##### Equivalent Stress with KNN       : 0.6231891365791737\n",
    "##### Equivalent Stress with LRE       : 0.4960345185024712\n",
    "##### Equivalent Stress with SVR       : 0.7503553945617434\n",
    "##### Equivalent Stress with DTR       : 0.8990429850093031\n",
    "##### Equivalent Stress with GBR       : 0.927463703436703"
   ]
  },
  {
   "cell_type": "markdown",
   "id": "19ab5654",
   "metadata": {
    "papermill": {
     "duration": 0.02149,
     "end_time": "2022-08-20T09:50:36.616841",
     "exception": false,
     "start_time": "2022-08-20T09:50:36.595351",
     "status": "completed"
    },
    "tags": []
   },
   "source": [
    "### Fixator Mass accuracy score %"
   ]
  },
  {
   "cell_type": "code",
   "execution_count": 39,
   "id": "39acc2a2",
   "metadata": {
    "execution": {
     "iopub.execute_input": "2022-08-20T09:50:36.661394Z",
     "iopub.status.busy": "2022-08-20T09:50:36.661048Z",
     "iopub.status.idle": "2022-08-20T09:50:39.133190Z",
     "shell.execute_reply": "2022-08-20T09:50:39.132019Z"
    },
    "papermill": {
     "duration": 2.49668,
     "end_time": "2022-08-20T09:50:39.135271",
     "exception": false,
     "start_time": "2022-08-20T09:50:36.638591",
     "status": "completed"
    },
    "tags": []
   },
   "outputs": [
    {
     "name": "stdout",
     "output_type": "stream",
     "text": [
      "Regression score Random Forest Regressor   :    0.9964154151619716\n",
      "Regression score KNN_regressor       :    0.9172912119609642\n",
      "Regression score Liner Regressor      :    0.9666194449520382\n",
      "Regression score Supportive Vector     :    -0.41677206904758335\n",
      "Regression score Decesion Tree Regressor:    0.9869461924273771\n",
      "Regression score XG Boost Regressor   :    0.998602924000714\n"
     ]
    }
   ],
   "source": [
    "Y_pred_RFR_mass, Y_pred_KNN_mass, Y_pred_rid_mass, Y_pred_SVM_mass, Y_pred_DTR_mass, Y_pred_XGB_mass = Regress_model(Y_test_mass,X_test_mass,X_train_mass,Y_train_mass)"
   ]
  },
  {
   "cell_type": "markdown",
   "id": "d16809dc",
   "metadata": {
    "papermill": {
     "duration": 0.02166,
     "end_time": "2022-08-20T09:50:39.179531",
     "exception": false,
     "start_time": "2022-08-20T09:50:39.157871",
     "status": "completed"
    },
    "tags": []
   },
   "source": [
    "##### Fixator Mass with RFR        : 0.9235283557880088\n",
    "##### Fixator Mass with KNN        : 0.7071269011002689\n",
    "##### Fixator Mass with LRE        : 0.971389761454417\n",
    "##### Fixator Mass with SVR        : -0.18449487911181428\n",
    "##### Fixator Mass with DTR        : 0.830075213415503\n",
    "##### Fixator Mass with GBR        : 0.9938710969975575"
   ]
  },
  {
   "cell_type": "markdown",
   "id": "856226d4",
   "metadata": {
    "papermill": {
     "duration": 0.022074,
     "end_time": "2022-08-20T09:50:39.223646",
     "exception": false,
     "start_time": "2022-08-20T09:50:39.201572",
     "status": "completed"
    },
    "tags": []
   },
   "source": [
    "### Coverting Accuracy in DataFrame for visualization of best  model"
   ]
  },
  {
   "cell_type": "code",
   "execution_count": 40,
   "id": "c67aa8e5",
   "metadata": {
    "execution": {
     "iopub.execute_input": "2022-08-20T09:50:39.268636Z",
     "iopub.status.busy": "2022-08-20T09:50:39.268207Z",
     "iopub.status.idle": "2022-08-20T09:50:39.275992Z",
     "shell.execute_reply": "2022-08-20T09:50:39.275126Z"
    },
    "papermill": {
     "duration": 0.032747,
     "end_time": "2022-08-20T09:50:39.278054",
     "exception": false,
     "start_time": "2022-08-20T09:50:39.245307",
     "status": "completed"
    },
    "tags": []
   },
   "outputs": [],
   "source": [
    "disp = pd.DataFrame([ 0.9953697221019463 , 0.973648155347588 ,0.9690985442768871,0.9698575926194097 ,0.9950683672730127, 0.9968696645076314] )\n",
    "stss = pd.DataFrame([  0.8599482700062402 , 0.7991597384352422 ,0.6886466099932453 ,0.7036300438737989 ,0.719264322781620 ,0.9146901643302199])\n",
    "mss = pd.DataFrame([  0.9965855 ,  0.9172912119609 ,0.966619444952038 , 0.41677206904758 ,0.986946192427  ,0.99860292400071 ] )"
   ]
  },
  {
   "cell_type": "code",
   "execution_count": 41,
   "id": "5ed3a63e",
   "metadata": {
    "execution": {
     "iopub.execute_input": "2022-08-20T09:50:39.322839Z",
     "iopub.status.busy": "2022-08-20T09:50:39.322482Z",
     "iopub.status.idle": "2022-08-20T09:50:39.329832Z",
     "shell.execute_reply": "2022-08-20T09:50:39.328992Z"
    },
    "papermill": {
     "duration": 0.031842,
     "end_time": "2022-08-20T09:50:39.331738",
     "exception": false,
     "start_time": "2022-08-20T09:50:39.299896",
     "status": "completed"
    },
    "tags": []
   },
   "outputs": [],
   "source": [
    "rslt =  pd.concat([disp ,stss , mss],axis= 1)\n",
    "rslt.columns = ['Acc_disp' , 'Acc_stss' ,'Acc_mass']\n",
    "temp = rslt.T\n",
    "temp.columns = ['Random Forest Regressor' , 'KNN_regresso' ,'Liner Regressor','Supportive Vector' , 'Decesion Tree Regressor', 'XG Boost Regressor']"
   ]
  },
  {
   "cell_type": "code",
   "execution_count": 42,
   "id": "0591ebfb",
   "metadata": {
    "execution": {
     "iopub.execute_input": "2022-08-20T09:50:39.376172Z",
     "iopub.status.busy": "2022-08-20T09:50:39.375863Z",
     "iopub.status.idle": "2022-08-20T09:50:39.447239Z",
     "shell.execute_reply": "2022-08-20T09:50:39.446270Z"
    },
    "papermill": {
     "duration": 0.095942,
     "end_time": "2022-08-20T09:50:39.449255",
     "exception": false,
     "start_time": "2022-08-20T09:50:39.353313",
     "status": "completed"
    },
    "tags": []
   },
   "outputs": [
    {
     "data": {
      "text/html": [
       "<div>                            <div id=\"746e09f5-b704-4f17-bbf5-bbc6e5c61606\" class=\"plotly-graph-div\" style=\"height:500px; width:1100px;\"></div>            <script type=\"text/javascript\">                require([\"plotly\"], function(Plotly) {                    window.PLOTLYENV=window.PLOTLYENV || {};                                    if (document.getElementById(\"746e09f5-b704-4f17-bbf5-bbc6e5c61606\")) {                    Plotly.newPlot(                        \"746e09f5-b704-4f17-bbf5-bbc6e5c61606\",                        [{\"hovertemplate\":\"variable=Random Forest Regressor<br>index=%{x}<br>value=%{y}<extra></extra>\",\"legendgroup\":\"Random Forest Regressor\",\"marker\":{\"color\":\"#636efa\",\"symbol\":\"circle\",\"size\":12},\"mode\":\"markers\",\"name\":\"Random Forest Regressor\",\"orientation\":\"v\",\"showlegend\":true,\"x\":[\"Acc_disp\",\"Acc_stss\",\"Acc_mass\"],\"xaxis\":\"x\",\"y\":[0.9953697221019463,0.8599482700062402,0.9965855],\"yaxis\":\"y\",\"type\":\"scatter\"},{\"hovertemplate\":\"variable=KNN_regresso<br>index=%{x}<br>value=%{y}<extra></extra>\",\"legendgroup\":\"KNN_regresso\",\"marker\":{\"color\":\"#EF553B\",\"symbol\":\"circle\",\"size\":12},\"mode\":\"markers\",\"name\":\"KNN_regresso\",\"orientation\":\"v\",\"showlegend\":true,\"x\":[\"Acc_disp\",\"Acc_stss\",\"Acc_mass\"],\"xaxis\":\"x\",\"y\":[0.973648155347588,0.7991597384352422,0.9172912119609],\"yaxis\":\"y\",\"type\":\"scatter\"},{\"hovertemplate\":\"variable=Liner Regressor<br>index=%{x}<br>value=%{y}<extra></extra>\",\"legendgroup\":\"Liner Regressor\",\"marker\":{\"color\":\"#00cc96\",\"symbol\":\"circle\",\"size\":12},\"mode\":\"markers\",\"name\":\"Liner Regressor\",\"orientation\":\"v\",\"showlegend\":true,\"x\":[\"Acc_disp\",\"Acc_stss\",\"Acc_mass\"],\"xaxis\":\"x\",\"y\":[0.9690985442768871,0.6886466099932453,0.966619444952038],\"yaxis\":\"y\",\"type\":\"scatter\"},{\"hovertemplate\":\"variable=Supportive Vector<br>index=%{x}<br>value=%{y}<extra></extra>\",\"legendgroup\":\"Supportive Vector\",\"marker\":{\"color\":\"#ab63fa\",\"symbol\":\"circle\",\"size\":12},\"mode\":\"markers\",\"name\":\"Supportive Vector\",\"orientation\":\"v\",\"showlegend\":true,\"x\":[\"Acc_disp\",\"Acc_stss\",\"Acc_mass\"],\"xaxis\":\"x\",\"y\":[0.9698575926194097,0.7036300438737989,0.41677206904758],\"yaxis\":\"y\",\"type\":\"scatter\"},{\"hovertemplate\":\"variable=Decesion Tree Regressor<br>index=%{x}<br>value=%{y}<extra></extra>\",\"legendgroup\":\"Decesion Tree Regressor\",\"marker\":{\"color\":\"#FFA15A\",\"symbol\":\"circle\",\"size\":12},\"mode\":\"markers\",\"name\":\"Decesion Tree Regressor\",\"orientation\":\"v\",\"showlegend\":true,\"x\":[\"Acc_disp\",\"Acc_stss\",\"Acc_mass\"],\"xaxis\":\"x\",\"y\":[0.9950683672730127,0.71926432278162,0.986946192427],\"yaxis\":\"y\",\"type\":\"scatter\"},{\"hovertemplate\":\"variable=XG Boost Regressor<br>index=%{x}<br>value=%{y}<extra></extra>\",\"legendgroup\":\"XG Boost Regressor\",\"marker\":{\"color\":\"#19d3f3\",\"symbol\":\"circle\",\"size\":12},\"mode\":\"markers\",\"name\":\"XG Boost Regressor\",\"orientation\":\"v\",\"showlegend\":true,\"x\":[\"Acc_disp\",\"Acc_stss\",\"Acc_mass\"],\"xaxis\":\"x\",\"y\":[0.9968696645076314,0.9146901643302199,0.99860292400071],\"yaxis\":\"y\",\"type\":\"scatter\"}],                        {\"template\":{\"data\":{\"histogram2dcontour\":[{\"type\":\"histogram2dcontour\",\"colorbar\":{\"outlinewidth\":0,\"ticks\":\"\"},\"colorscale\":[[0.0,\"#0d0887\"],[0.1111111111111111,\"#46039f\"],[0.2222222222222222,\"#7201a8\"],[0.3333333333333333,\"#9c179e\"],[0.4444444444444444,\"#bd3786\"],[0.5555555555555556,\"#d8576b\"],[0.6666666666666666,\"#ed7953\"],[0.7777777777777778,\"#fb9f3a\"],[0.8888888888888888,\"#fdca26\"],[1.0,\"#f0f921\"]]}],\"choropleth\":[{\"type\":\"choropleth\",\"colorbar\":{\"outlinewidth\":0,\"ticks\":\"\"}}],\"histogram2d\":[{\"type\":\"histogram2d\",\"colorbar\":{\"outlinewidth\":0,\"ticks\":\"\"},\"colorscale\":[[0.0,\"#0d0887\"],[0.1111111111111111,\"#46039f\"],[0.2222222222222222,\"#7201a8\"],[0.3333333333333333,\"#9c179e\"],[0.4444444444444444,\"#bd3786\"],[0.5555555555555556,\"#d8576b\"],[0.6666666666666666,\"#ed7953\"],[0.7777777777777778,\"#fb9f3a\"],[0.8888888888888888,\"#fdca26\"],[1.0,\"#f0f921\"]]}],\"heatmap\":[{\"type\":\"heatmap\",\"colorbar\":{\"outlinewidth\":0,\"ticks\":\"\"},\"colorscale\":[[0.0,\"#0d0887\"],[0.1111111111111111,\"#46039f\"],[0.2222222222222222,\"#7201a8\"],[0.3333333333333333,\"#9c179e\"],[0.4444444444444444,\"#bd3786\"],[0.5555555555555556,\"#d8576b\"],[0.6666666666666666,\"#ed7953\"],[0.7777777777777778,\"#fb9f3a\"],[0.8888888888888888,\"#fdca26\"],[1.0,\"#f0f921\"]]}],\"heatmapgl\":[{\"type\":\"heatmapgl\",\"colorbar\":{\"outlinewidth\":0,\"ticks\":\"\"},\"colorscale\":[[0.0,\"#0d0887\"],[0.1111111111111111,\"#46039f\"],[0.2222222222222222,\"#7201a8\"],[0.3333333333333333,\"#9c179e\"],[0.4444444444444444,\"#bd3786\"],[0.5555555555555556,\"#d8576b\"],[0.6666666666666666,\"#ed7953\"],[0.7777777777777778,\"#fb9f3a\"],[0.8888888888888888,\"#fdca26\"],[1.0,\"#f0f921\"]]}],\"contourcarpet\":[{\"type\":\"contourcarpet\",\"colorbar\":{\"outlinewidth\":0,\"ticks\":\"\"}}],\"contour\":[{\"type\":\"contour\",\"colorbar\":{\"outlinewidth\":0,\"ticks\":\"\"},\"colorscale\":[[0.0,\"#0d0887\"],[0.1111111111111111,\"#46039f\"],[0.2222222222222222,\"#7201a8\"],[0.3333333333333333,\"#9c179e\"],[0.4444444444444444,\"#bd3786\"],[0.5555555555555556,\"#d8576b\"],[0.6666666666666666,\"#ed7953\"],[0.7777777777777778,\"#fb9f3a\"],[0.8888888888888888,\"#fdca26\"],[1.0,\"#f0f921\"]]}],\"surface\":[{\"type\":\"surface\",\"colorbar\":{\"outlinewidth\":0,\"ticks\":\"\"},\"colorscale\":[[0.0,\"#0d0887\"],[0.1111111111111111,\"#46039f\"],[0.2222222222222222,\"#7201a8\"],[0.3333333333333333,\"#9c179e\"],[0.4444444444444444,\"#bd3786\"],[0.5555555555555556,\"#d8576b\"],[0.6666666666666666,\"#ed7953\"],[0.7777777777777778,\"#fb9f3a\"],[0.8888888888888888,\"#fdca26\"],[1.0,\"#f0f921\"]]}],\"mesh3d\":[{\"type\":\"mesh3d\",\"colorbar\":{\"outlinewidth\":0,\"ticks\":\"\"}}],\"scatter\":[{\"fillpattern\":{\"fillmode\":\"overlay\",\"size\":10,\"solidity\":0.2},\"type\":\"scatter\"}],\"parcoords\":[{\"type\":\"parcoords\",\"line\":{\"colorbar\":{\"outlinewidth\":0,\"ticks\":\"\"}}}],\"scatterpolargl\":[{\"type\":\"scatterpolargl\",\"marker\":{\"colorbar\":{\"outlinewidth\":0,\"ticks\":\"\"}}}],\"bar\":[{\"error_x\":{\"color\":\"#2a3f5f\"},\"error_y\":{\"color\":\"#2a3f5f\"},\"marker\":{\"line\":{\"color\":\"#E5ECF6\",\"width\":0.5},\"pattern\":{\"fillmode\":\"overlay\",\"size\":10,\"solidity\":0.2}},\"type\":\"bar\"}],\"scattergeo\":[{\"type\":\"scattergeo\",\"marker\":{\"colorbar\":{\"outlinewidth\":0,\"ticks\":\"\"}}}],\"scatterpolar\":[{\"type\":\"scatterpolar\",\"marker\":{\"colorbar\":{\"outlinewidth\":0,\"ticks\":\"\"}}}],\"histogram\":[{\"marker\":{\"pattern\":{\"fillmode\":\"overlay\",\"size\":10,\"solidity\":0.2}},\"type\":\"histogram\"}],\"scattergl\":[{\"type\":\"scattergl\",\"marker\":{\"colorbar\":{\"outlinewidth\":0,\"ticks\":\"\"}}}],\"scatter3d\":[{\"type\":\"scatter3d\",\"line\":{\"colorbar\":{\"outlinewidth\":0,\"ticks\":\"\"}},\"marker\":{\"colorbar\":{\"outlinewidth\":0,\"ticks\":\"\"}}}],\"scattermapbox\":[{\"type\":\"scattermapbox\",\"marker\":{\"colorbar\":{\"outlinewidth\":0,\"ticks\":\"\"}}}],\"scatterternary\":[{\"type\":\"scatterternary\",\"marker\":{\"colorbar\":{\"outlinewidth\":0,\"ticks\":\"\"}}}],\"scattercarpet\":[{\"type\":\"scattercarpet\",\"marker\":{\"colorbar\":{\"outlinewidth\":0,\"ticks\":\"\"}}}],\"carpet\":[{\"aaxis\":{\"endlinecolor\":\"#2a3f5f\",\"gridcolor\":\"white\",\"linecolor\":\"white\",\"minorgridcolor\":\"white\",\"startlinecolor\":\"#2a3f5f\"},\"baxis\":{\"endlinecolor\":\"#2a3f5f\",\"gridcolor\":\"white\",\"linecolor\":\"white\",\"minorgridcolor\":\"white\",\"startlinecolor\":\"#2a3f5f\"},\"type\":\"carpet\"}],\"table\":[{\"cells\":{\"fill\":{\"color\":\"#EBF0F8\"},\"line\":{\"color\":\"white\"}},\"header\":{\"fill\":{\"color\":\"#C8D4E3\"},\"line\":{\"color\":\"white\"}},\"type\":\"table\"}],\"barpolar\":[{\"marker\":{\"line\":{\"color\":\"#E5ECF6\",\"width\":0.5},\"pattern\":{\"fillmode\":\"overlay\",\"size\":10,\"solidity\":0.2}},\"type\":\"barpolar\"}],\"pie\":[{\"automargin\":true,\"type\":\"pie\"}]},\"layout\":{\"autotypenumbers\":\"strict\",\"colorway\":[\"#636efa\",\"#EF553B\",\"#00cc96\",\"#ab63fa\",\"#FFA15A\",\"#19d3f3\",\"#FF6692\",\"#B6E880\",\"#FF97FF\",\"#FECB52\"],\"font\":{\"color\":\"#2a3f5f\"},\"hovermode\":\"closest\",\"hoverlabel\":{\"align\":\"left\"},\"paper_bgcolor\":\"white\",\"plot_bgcolor\":\"#E5ECF6\",\"polar\":{\"bgcolor\":\"#E5ECF6\",\"angularaxis\":{\"gridcolor\":\"white\",\"linecolor\":\"white\",\"ticks\":\"\"},\"radialaxis\":{\"gridcolor\":\"white\",\"linecolor\":\"white\",\"ticks\":\"\"}},\"ternary\":{\"bgcolor\":\"#E5ECF6\",\"aaxis\":{\"gridcolor\":\"white\",\"linecolor\":\"white\",\"ticks\":\"\"},\"baxis\":{\"gridcolor\":\"white\",\"linecolor\":\"white\",\"ticks\":\"\"},\"caxis\":{\"gridcolor\":\"white\",\"linecolor\":\"white\",\"ticks\":\"\"}},\"coloraxis\":{\"colorbar\":{\"outlinewidth\":0,\"ticks\":\"\"}},\"colorscale\":{\"sequential\":[[0.0,\"#0d0887\"],[0.1111111111111111,\"#46039f\"],[0.2222222222222222,\"#7201a8\"],[0.3333333333333333,\"#9c179e\"],[0.4444444444444444,\"#bd3786\"],[0.5555555555555556,\"#d8576b\"],[0.6666666666666666,\"#ed7953\"],[0.7777777777777778,\"#fb9f3a\"],[0.8888888888888888,\"#fdca26\"],[1.0,\"#f0f921\"]],\"sequentialminus\":[[0.0,\"#0d0887\"],[0.1111111111111111,\"#46039f\"],[0.2222222222222222,\"#7201a8\"],[0.3333333333333333,\"#9c179e\"],[0.4444444444444444,\"#bd3786\"],[0.5555555555555556,\"#d8576b\"],[0.6666666666666666,\"#ed7953\"],[0.7777777777777778,\"#fb9f3a\"],[0.8888888888888888,\"#fdca26\"],[1.0,\"#f0f921\"]],\"diverging\":[[0,\"#8e0152\"],[0.1,\"#c51b7d\"],[0.2,\"#de77ae\"],[0.3,\"#f1b6da\"],[0.4,\"#fde0ef\"],[0.5,\"#f7f7f7\"],[0.6,\"#e6f5d0\"],[0.7,\"#b8e186\"],[0.8,\"#7fbc41\"],[0.9,\"#4d9221\"],[1,\"#276419\"]]},\"xaxis\":{\"gridcolor\":\"white\",\"linecolor\":\"white\",\"ticks\":\"\",\"title\":{\"standoff\":15},\"zerolinecolor\":\"white\",\"automargin\":true,\"zerolinewidth\":2},\"yaxis\":{\"gridcolor\":\"white\",\"linecolor\":\"white\",\"ticks\":\"\",\"title\":{\"standoff\":15},\"zerolinecolor\":\"white\",\"automargin\":true,\"zerolinewidth\":2},\"scene\":{\"xaxis\":{\"backgroundcolor\":\"#E5ECF6\",\"gridcolor\":\"white\",\"linecolor\":\"white\",\"showbackground\":true,\"ticks\":\"\",\"zerolinecolor\":\"white\",\"gridwidth\":2},\"yaxis\":{\"backgroundcolor\":\"#E5ECF6\",\"gridcolor\":\"white\",\"linecolor\":\"white\",\"showbackground\":true,\"ticks\":\"\",\"zerolinecolor\":\"white\",\"gridwidth\":2},\"zaxis\":{\"backgroundcolor\":\"#E5ECF6\",\"gridcolor\":\"white\",\"linecolor\":\"white\",\"showbackground\":true,\"ticks\":\"\",\"zerolinecolor\":\"white\",\"gridwidth\":2}},\"shapedefaults\":{\"line\":{\"color\":\"#2a3f5f\"}},\"annotationdefaults\":{\"arrowcolor\":\"#2a3f5f\",\"arrowhead\":0,\"arrowwidth\":1},\"geo\":{\"bgcolor\":\"white\",\"landcolor\":\"#E5ECF6\",\"subunitcolor\":\"white\",\"showland\":true,\"showlakes\":true,\"lakecolor\":\"white\"},\"title\":{\"x\":0.05},\"mapbox\":{\"style\":\"light\"}}},\"xaxis\":{\"anchor\":\"y\",\"domain\":[0.0,1.0],\"title\":{\"text\":\"index\"}},\"yaxis\":{\"anchor\":\"x\",\"domain\":[0.0,1.0],\"title\":{\"text\":\"value\"}},\"legend\":{\"title\":{\"text\":\"variable\"},\"tracegroupgap\":0},\"title\":{\"text\":\"Accuracy Level of different model\"},\"height\":500,\"width\":1100},                        {\"responsive\": true}                    ).then(function(){\n",
       "                            \n",
       "var gd = document.getElementById('746e09f5-b704-4f17-bbf5-bbc6e5c61606');\n",
       "var x = new MutationObserver(function (mutations, observer) {{\n",
       "        var display = window.getComputedStyle(gd).display;\n",
       "        if (!display || display === 'none') {{\n",
       "            console.log([gd, 'removed!']);\n",
       "            Plotly.purge(gd);\n",
       "            observer.disconnect();\n",
       "        }}\n",
       "}});\n",
       "\n",
       "// Listen for the removal of the full notebook cells\n",
       "var notebookContainer = gd.closest('#notebook-container');\n",
       "if (notebookContainer) {{\n",
       "    x.observe(notebookContainer, {childList: true});\n",
       "}}\n",
       "\n",
       "// Listen for the clearing of the current output cell\n",
       "var outputEl = gd.closest('.output');\n",
       "if (outputEl) {{\n",
       "    x.observe(outputEl, {childList: true});\n",
       "}}\n",
       "\n",
       "                        })                };                });            </script>        </div>"
      ]
     },
     "metadata": {},
     "output_type": "display_data"
    }
   ],
   "source": [
    "fig = px.scatter(temp,title = 'Accuracy Level of different model', width=1100,height=500)\n",
    "fig.update_traces(marker=dict(size=12))"
   ]
  },
  {
   "cell_type": "markdown",
   "id": "a6d6b35f",
   "metadata": {
    "execution": {
     "iopub.status.busy": "2022-08-16T03:21:26.471982Z",
     "iopub.status.idle": "2022-08-16T03:21:26.472435Z",
     "shell.execute_reply": "2022-08-16T03:21:26.472202Z",
     "shell.execute_reply.started": "2022-08-16T03:21:26.472184Z"
    },
    "papermill": {
     "duration": 0.02193,
     "end_time": "2022-08-20T09:50:39.493678",
     "exception": false,
     "start_time": "2022-08-20T09:50:39.471748",
     "status": "completed"
    },
    "tags": []
   },
   "source": [
    "### Conclusion - \n",
    "1. From froom we abe to observe that accuracy of Linear regression model is best in all of model, but due to model accuracy is very close to the unity, there is high possiblity to overfit, i.e why with factor of safty we recognize Random Forest Regressor provide good agreement."
   ]
  }
 ],
 "metadata": {
  "kernelspec": {
   "display_name": "Python 3",
   "language": "python",
   "name": "python3"
  },
  "language_info": {
   "codemirror_mode": {
    "name": "ipython",
    "version": 3
   },
   "file_extension": ".py",
   "mimetype": "text/x-python",
   "name": "python",
   "nbconvert_exporter": "python",
   "pygments_lexer": "ipython3",
   "version": "3.7.12"
  },
  "papermill": {
   "default_parameters": {},
   "duration": 35.516077,
   "end_time": "2022-08-20T09:50:40.738253",
   "environment_variables": {},
   "exception": null,
   "input_path": "__notebook__.ipynb",
   "output_path": "__notebook__.ipynb",
   "parameters": {},
   "start_time": "2022-08-20T09:50:05.222176",
   "version": "2.3.4"
  }
 },
 "nbformat": 4,
 "nbformat_minor": 5
}
